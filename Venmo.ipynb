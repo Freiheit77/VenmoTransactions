{
  "nbformat": 4,
  "nbformat_minor": 0,
  "metadata": {
    "kernelspec": {
      "display_name": "Python 3",
      "language": "python",
      "name": "python3"
    },
    "language_info": {
      "codemirror_mode": {
        "name": "ipython",
        "version": 3
      },
      "file_extension": ".py",
      "mimetype": "text/x-python",
      "name": "python",
      "nbconvert_exporter": "python",
      "pygments_lexer": "ipython3",
      "version": "3.7.4"
    },
    "toc": {
      "base_numbering": 1,
      "nav_menu": {},
      "number_sections": true,
      "sideBar": true,
      "skip_h1_title": false,
      "title_cell": "Table of Contents",
      "title_sidebar": "Contents",
      "toc_cell": false,
      "toc_position": {
        "height": "calc(100% - 180px)",
        "left": "10px",
        "top": "150px",
        "width": "165px"
      },
      "toc_section_display": true,
      "toc_window_display": true
    },
    "varInspector": {
      "cols": {
        "lenName": 16,
        "lenType": 16,
        "lenVar": 40
      },
      "kernels_config": {
        "python": {
          "delete_cmd_postfix": "",
          "delete_cmd_prefix": "del ",
          "library": "var_list.py",
          "varRefreshCmd": "print(var_dic_list())"
        },
        "r": {
          "delete_cmd_postfix": ") ",
          "delete_cmd_prefix": "rm(",
          "library": "var_list.r",
          "varRefreshCmd": "cat(var_dic_list()) "
        }
      },
      "types_to_exclude": [
        "module",
        "function",
        "builtin_function_or_method",
        "instance",
        "_Feature"
      ],
      "window_display": false
    },
    "colab": {
      "name": "hw2_Venmo.ipynb",
      "provenance": [],
      "collapsed_sections": [
        "V41JmJYDz1EX",
        "ybhTNdLqz1G9",
        "lpumitI0z1HG"
      ],
      "toc_visible": true,
      "include_colab_link": true
    }
  },
  "cells": [
    {
      "cell_type": "markdown",
      "metadata": {
        "id": "view-in-github",
        "colab_type": "text"
      },
      "source": [
        "<a href=\"https://colab.research.google.com/github/Freiheit77/VenmoTransactions/blob/master/Venmo.ipynb\" target=\"_parent\"><img src=\"https://colab.research.google.com/assets/colab-badge.svg\" alt=\"Open In Colab\"/></a>"
      ]
    },
    {
      "cell_type": "code",
      "metadata": {
        "id": "j19NSZRM2iLB",
        "colab_type": "code",
        "colab": {}
      },
      "source": [
        "!apt-get install openjdk-8-jdk-headless -qq > /dev/null\n",
        "!wget https://downloads.apache.org/spark/spark-3.0.0-preview2/spark-3.0.0-preview2-bin-hadoop3.2.tgz\n",
        "!tar -xvf spark-3.0.0-preview2-bin-hadoop3.2.tgz\n",
        "!pip install -q findspark"
      ],
      "execution_count": 0,
      "outputs": []
    },
    {
      "cell_type": "code",
      "metadata": {
        "id": "QC4jKYyb2DPe",
        "colab_type": "code",
        "colab": {}
      },
      "source": [
        "import os\n",
        "os.environ[\"JAVA_HOME\"] = \"/usr/lib/jvm/java-8-openjdk-amd64\"\n",
        "os.environ[\"SPARK_HOME\"] = \"/content/spark-3.0.0-preview2-bin-hadoop3.2\""
      ],
      "execution_count": 0,
      "outputs": []
    },
    {
      "cell_type": "code",
      "metadata": {
        "id": "SRPnJRfr2IFQ",
        "colab_type": "code",
        "outputId": "452cfa60-d3d3-4728-b0ff-f09274aea863",
        "colab": {
          "base_uri": "https://localhost:8080/",
          "height": 122
        }
      },
      "source": [
        "from google.colab import drive\n",
        "drive.mount('/content/drive')"
      ],
      "execution_count": 6,
      "outputs": [
        {
          "output_type": "stream",
          "text": [
            "Go to this URL in a browser: https://accounts.google.com/o/oauth2/auth?client_id=947318989803-6bn6qk8qdgf4n4g3pfee6491hc0brc4i.apps.googleusercontent.com&redirect_uri=urn%3aietf%3awg%3aoauth%3a2.0%3aoob&response_type=code&scope=email%20https%3a%2f%2fwww.googleapis.com%2fauth%2fdocs.test%20https%3a%2f%2fwww.googleapis.com%2fauth%2fdrive%20https%3a%2f%2fwww.googleapis.com%2fauth%2fdrive.photos.readonly%20https%3a%2f%2fwww.googleapis.com%2fauth%2fpeopleapi.readonly\n",
            "\n",
            "Enter your authorization code:\n",
            "··········\n",
            "Mounted at /content/drive\n"
          ],
          "name": "stdout"
        }
      ]
    },
    {
      "cell_type": "code",
      "metadata": {
        "id": "thX-MRlO32-A",
        "colab_type": "code",
        "colab": {}
      },
      "source": [
        "!pip install emoji"
      ],
      "execution_count": 0,
      "outputs": []
    },
    {
      "cell_type": "code",
      "metadata": {
        "ExecuteTime": {
          "end_time": "2020-05-10T23:21:58.424082Z",
          "start_time": "2020-05-10T23:21:56.259279Z"
        },
        "id": "8QLNF7yiz06z",
        "colab_type": "code",
        "colab": {}
      },
      "source": [
        "import pandas as pd\n",
        "import matplotlib.pyplot as plt\n",
        "\n",
        "# spark\n",
        "import findspark\n",
        "findspark.init()\n",
        "from pyspark.sql import SparkSession\n",
        "from pyspark.sql import SQLContext\n",
        "from pyspark.sql.functions import monotonically_increasing_id\n",
        "import pyspark.sql.functions as F\n",
        "from pyspark.sql.functions import concat, col, lit, when, max\n",
        "\n",
        "# social network \n",
        "import networkx as nx\n",
        "\n",
        "# emoji and regex\n",
        "import functools\n",
        "import operator\n",
        "import re\n",
        "import emoji\n",
        "from collections import Counter\n",
        "\n",
        "# regression\n",
        "from pyspark.ml.regression import LinearRegression\n",
        "from pyspark.ml.linalg import Vectors\n",
        "from pyspark.ml.feature import VectorAssembler, StringIndexer, OneHotEncoder"
      ],
      "execution_count": 0,
      "outputs": []
    },
    {
      "cell_type": "markdown",
      "metadata": {
        "id": "yWMARfcxz07l",
        "colab_type": "text"
      },
      "source": [
        "# Part 1: Text analytics "
      ]
    },
    {
      "cell_type": "markdown",
      "metadata": {
        "id": "-8FbFjgTz07o",
        "colab_type": "text"
      },
      "source": [
        "## load dataset "
      ]
    },
    {
      "cell_type": "code",
      "metadata": {
        "ExecuteTime": {
          "end_time": "2020-05-10T23:22:18.925615Z",
          "start_time": "2020-05-10T23:22:04.688820Z"
        },
        "id": "3HpRQjAtz07p",
        "colab_type": "code",
        "colab": {}
      },
      "source": [
        "# initialise sparkContext\n",
        "spark = SparkSession.builder \\\n",
        "        .master('local[*]') \\\n",
        "        .appName('Venmo') \\\n",
        "        .config('spark.executor.memory', '10gb') \\\n",
        "        .config(\"spark.cores.max\", \"6\") \\\n",
        "        .getOrCreate()\n",
        "\n",
        "# read parquet file\n",
        "df_venmo = spark.read.parquet('/content/drive/My Drive/Venmo/VenmoSample.snappy.parquet')"
      ],
      "execution_count": 0,
      "outputs": []
    },
    {
      "cell_type": "code",
      "metadata": {
        "ExecuteTime": {
          "end_time": "2020-05-04T01:58:01.008013Z",
          "start_time": "2020-05-04T01:57:59.222673Z"
        },
        "id": "M_WMJ4boz078",
        "colab_type": "code",
        "outputId": "a78f589b-ed28-4715-eed4-1fc3a1644da8",
        "colab": {}
      },
      "source": [
        "# count total number of records\n",
        "df_venmo.count()"
      ],
      "execution_count": 0,
      "outputs": [
        {
          "output_type": "execute_result",
          "data": {
            "text/plain": [
              "7113137"
            ]
          },
          "metadata": {
            "tags": []
          },
          "execution_count": 7
        }
      ]
    },
    {
      "cell_type": "code",
      "metadata": {
        "ExecuteTime": {
          "end_time": "2020-05-01T21:21:58.390482Z",
          "start_time": "2020-05-01T21:21:58.369352Z"
        },
        "scrolled": true,
        "id": "MSKCQ5XTz08U",
        "colab_type": "code",
        "outputId": "37e0e3b1-83f0-4d1d-92cc-ef4d0bf23abc",
        "colab": {}
      },
      "source": [
        "df_venmo.printSchema()"
      ],
      "execution_count": 0,
      "outputs": [
        {
          "output_type": "stream",
          "text": [
            "root\n",
            " |-- user1: integer (nullable = true)\n",
            " |-- user2: integer (nullable = true)\n",
            " |-- transaction_type: string (nullable = true)\n",
            " |-- datetime: timestamp (nullable = true)\n",
            " |-- description: string (nullable = true)\n",
            " |-- is_business: boolean (nullable = true)\n",
            " |-- story_id: string (nullable = true)\n",
            "\n"
          ],
          "name": "stdout"
        }
      ]
    },
    {
      "cell_type": "code",
      "metadata": {
        "ExecuteTime": {
          "end_time": "2020-05-10T23:22:57.411394Z",
          "start_time": "2020-05-10T23:22:52.893686Z"
        },
        "id": "TV1Rmqfjz086",
        "colab_type": "code",
        "outputId": "0829ca47-331a-40f6-ef1e-659d20d42915",
        "colab": {
          "base_uri": "https://localhost:8080/",
          "height": 224
        }
      },
      "source": [
        "# add index column and create temporary view\n",
        "df_venmo = df_venmo.withColumn(\"index\", monotonically_increasing_id())\n",
        "df_venmo.createOrReplaceTempView(\"Venmo\")\n",
        "df_venmo.show(5)"
      ],
      "execution_count": 9,
      "outputs": [
        {
          "output_type": "stream",
          "text": [
            "+-------+-------+----------------+-------------------+------------+-----------+--------------------+-----+\n",
            "|  user1|  user2|transaction_type|           datetime| description|is_business|            story_id|index|\n",
            "+-------+-------+----------------+-------------------+------------+-----------+--------------------+-----+\n",
            "|1218774|1528945|         payment|2015-11-27 10:48:19|        Uber|      false|5657c473cd03c9af2...|    0|\n",
            "|5109483|4782303|         payment|2015-06-17 11:37:04|      Costco|      false|5580f9702b64f70ab...|    1|\n",
            "|4322148|3392963|         payment|2015-06-19 07:05:31|Sweaty balls|      false|55835ccb1a624b14a...|    2|\n",
            "| 469894|1333620|          charge|2016-06-03 23:34:13|          🎥|      false|5751b185cd03c9af2...|    3|\n",
            "|2960727|3442373|         payment|2016-05-29 23:23:42|           ⚡|      false|574b178ecd03c9af2...|    4|\n",
            "+-------+-------+----------------+-------------------+------------+-----------+--------------------+-----+\n",
            "only showing top 5 rows\n",
            "\n"
          ],
          "name": "stdout"
        }
      ]
    },
    {
      "cell_type": "markdown",
      "metadata": {
        "id": "Ketvqgpzz09S",
        "colab_type": "text"
      },
      "source": [
        "## Q1 Use the text dictionary and the emoji dictionary to classify Venmo’s transactions in your sample dataset. "
      ]
    },
    {
      "cell_type": "code",
      "metadata": {
        "ExecuteTime": {
          "end_time": "2020-05-10T23:23:00.922806Z",
          "start_time": "2020-05-10T23:23:00.775682Z"
        },
        "id": "xyQT67TKz09T",
        "colab_type": "code",
        "outputId": "2b651dd2-9258-4cf6-9e98-1d7431949c2a",
        "colab": {
          "base_uri": "https://localhost:8080/",
          "height": 111
        }
      },
      "source": [
        "# load word and emoji dictionaries (key words and emojis are classified to 9 major topics)\n",
        "word_dictionary = pd.read_excel(\"/content/drive/My Drive/Venmo/word dictionary.xlsx\")\n",
        "emoji_dictionary = pd.read_excel(\"/content/drive/My Drive/Venmo/emoji dictionary.xlsx\")\n",
        "emoji_dictionary.head(2)"
      ],
      "execution_count": 10,
      "outputs": [
        {
          "output_type": "execute_result",
          "data": {
            "text/html": [
              "<div>\n",
              "<style scoped>\n",
              "    .dataframe tbody tr th:only-of-type {\n",
              "        vertical-align: middle;\n",
              "    }\n",
              "\n",
              "    .dataframe tbody tr th {\n",
              "        vertical-align: top;\n",
              "    }\n",
              "\n",
              "    .dataframe thead th {\n",
              "        text-align: right;\n",
              "    }\n",
              "</style>\n",
              "<table border=\"1\" class=\"dataframe\">\n",
              "  <thead>\n",
              "    <tr style=\"text-align: right;\">\n",
              "      <th></th>\n",
              "      <th>People</th>\n",
              "      <th>Food</th>\n",
              "      <th>Event</th>\n",
              "      <th>Activity</th>\n",
              "      <th>Travel</th>\n",
              "      <th>Transportation</th>\n",
              "      <th>Utility</th>\n",
              "      <th>Cash</th>\n",
              "      <th>Illegal/Sarcasm</th>\n",
              "    </tr>\n",
              "  </thead>\n",
              "  <tbody>\n",
              "    <tr>\n",
              "      <th>0</th>\n",
              "      <td>❤️</td>\n",
              "      <td>🍕</td>\n",
              "      <td>👰</td>\n",
              "      <td>🍻</td>\n",
              "      <td>🌴</td>\n",
              "      <td>⛽</td>\n",
              "      <td>🏡</td>\n",
              "      <td>💸</td>\n",
              "      <td>🖕🏿</td>\n",
              "    </tr>\n",
              "    <tr>\n",
              "      <th>1</th>\n",
              "      <td>👯</td>\n",
              "      <td>🍵</td>\n",
              "      <td>🎤</td>\n",
              "      <td>🏀</td>\n",
              "      <td>✈️</td>\n",
              "      <td>🅿</td>\n",
              "      <td>💡</td>\n",
              "      <td>💰</td>\n",
              "      <td>☠</td>\n",
              "    </tr>\n",
              "  </tbody>\n",
              "</table>\n",
              "</div>"
            ],
            "text/plain": [
              "  People Food Event Activity Travel Transportation Utility Cash Illegal/Sarcasm\n",
              "0     ❤️    🍕     👰        🍻      🌴              ⛽       🏡    💸              🖕🏿\n",
              "1      👯    🍵     🎤        🏀     ✈️              🅿       💡    💰               ☠"
            ]
          },
          "metadata": {
            "tags": []
          },
          "execution_count": 10
        }
      ]
    },
    {
      "cell_type": "code",
      "metadata": {
        "ExecuteTime": {
          "end_time": "2020-05-10T23:23:04.841668Z",
          "start_time": "2020-05-10T23:23:04.810558Z"
        },
        "id": "0MUOOJvrz09x",
        "colab_type": "code",
        "colab": {}
      },
      "source": [
        "# drop n/a values and create a list for each category\n",
        "people1 = word_dictionary.People.dropna(how='all').values.tolist()\n",
        "food1 = word_dictionary.Food.dropna(how='all').values.tolist()\n",
        "event1 = word_dictionary.Event.dropna(how='all').values.tolist()\n",
        "activity1 = word_dictionary.Activity.dropna(how='all').values.tolist()\n",
        "travel1 = word_dictionary.Travel.dropna(how='all').values.tolist()\n",
        "trasportation1 = word_dictionary.Transportation.dropna(how='all').values.tolist()\n",
        "utility1 = word_dictionary.Utility.dropna(how='all').values.tolist()\n",
        "cash1 = word_dictionary.Cash.dropna(how='all').values.tolist()\n",
        "illegal_sarcasm1 = word_dictionary['Illegal/Sarcasm'].dropna(how='all').values.tolist()\n",
        "\n",
        "people2 = emoji_dictionary.People.dropna(how='all').values.tolist()\n",
        "food2 = emoji_dictionary.Food.dropna(how='all').values.tolist()\n",
        "event2 = emoji_dictionary.Event.dropna(how='all').values.tolist()\n",
        "activity2 = emoji_dictionary.Activity.dropna(how='all').values.tolist()\n",
        "travel2 = emoji_dictionary.Travel.dropna(how='all').values.tolist()\n",
        "trasportation2 = emoji_dictionary.Transportation.dropna(how='all').values.tolist()\n",
        "utility2 = emoji_dictionary.Utility.dropna(how='all').values.tolist()\n",
        "cash2 = emoji_dictionary.Cash.dropna(how='all').values.tolist()\n",
        "illegal_sarcasm2 = emoji_dictionary['Illegal/Sarcasm'].dropna(how='all').values.tolist()"
      ],
      "execution_count": 0,
      "outputs": []
    },
    {
      "cell_type": "code",
      "metadata": {
        "ExecuteTime": {
          "end_time": "2020-05-10T23:23:08.918076Z",
          "start_time": "2020-05-10T23:23:08.295224Z"
        },
        "id": "Mb-71XFPz0-r",
        "colab_type": "code",
        "colab": {}
      },
      "source": [
        "# slice dataframe having only emojis\n",
        "emoji_tbl = spark.sql(\"select index, description \\\n",
        "                       from Venmo \\\n",
        "                       where HEX(description) REGEXP '^[E2|F0]{2}' \\\n",
        "                               and description NOT REGEXP '[g-zG-Z\\\\?\\\\!\\\\\\\\\\.]'\")\n",
        "\n",
        "emoji_tbl.createOrReplaceTempView(\"emoji_tbl\")\n",
        "\n",
        "# slice dataframe having texts or mixed texts and emojis\n",
        "short_venmo = spark.sql(\"select index, lower(description) as description from Venmo\")\n",
        "text_tbl = short_venmo.exceptAll(emoji_tbl).sort(\"index\")\n",
        "\n",
        "text_tbl.createOrReplaceTempView(\"text_tbl\")"
      ],
      "execution_count": 0,
      "outputs": []
    },
    {
      "cell_type": "code",
      "metadata": {
        "ExecuteTime": {
          "end_time": "2020-05-10T23:31:33.149219Z",
          "start_time": "2020-05-10T23:23:13.427011Z"
        },
        "id": "Bm02YhAlz0-0",
        "colab_type": "code",
        "outputId": "a10e3773-9648-46c1-e9ae-5da62d3782a3",
        "colab": {
          "base_uri": "https://localhost:8080/",
          "height": 476
        }
      },
      "source": [
        "# text classification\n",
        "text_class = text_tbl.select(\"*\", \n",
        "            when(text_tbl.description.rlike(\"|\".join([\"(\" + pat + \")\" for pat in people1])), 'people')\\\n",
        " .when(text_tbl.description.rlike(\"|\".join([\"(\" + pat + \")\" for pat in food1])), 'food') \\\n",
        " .when(text_tbl.description.rlike(\"|\".join([\"(\" + pat + \")\" for pat in event1])), 'event')\\\n",
        " .when(text_tbl.description.rlike(\"|\".join([\"(\" + pat + \")\" for pat in activity1])), 'activity')\\\n",
        " .when(text_tbl.description.rlike(\"|\".join([\"(\" + pat + \")\" for pat in travel1])), 'travel')\\\n",
        " .when(text_tbl.description.rlike(\"|\".join([\"(\" + pat + \")\" for pat in trasportation1])), 'trasportation')\\\n",
        " .when(text_tbl.description.rlike(\"|\".join([\"(\" + pat + \")\" for pat in utility1])), 'utility')\\\n",
        " .when(text_tbl.description.rlike(\"|\".join([\"(\" + pat + \")\" for pat in cash1])), 'cash')\\\n",
        " .when(text_tbl.description.rlike(\"|\".join([\"(\" + pat + \")\" for pat in illegal_sarcasm1])), 'illegal_sarcasm')\\\n",
        "                 .otherwise('no_class').alias('class'))\n",
        "\n",
        "text_class.createOrReplaceTempView(\"text_class\")\n",
        "\n",
        "# count the number of records that has no class \n",
        "x = spark.sql(\"select * from text_class where class='no_class'\")\n",
        "print(\"The number of no_class records is\", x.count())\n",
        "text_class.show()"
      ],
      "execution_count": 13,
      "outputs": [
        {
          "output_type": "stream",
          "text": [
            "The number of no_class records is 0\n",
            "+-----+--------------------+-------------+\n",
            "|index|         description|        class|\n",
            "+-----+--------------------+-------------+\n",
            "|    0|                uber|trasportation|\n",
            "|    1|              costco|         food|\n",
            "|    2|        sweaty balls|         food|\n",
            "|    3|                  🎥|         cash|\n",
            "|    4|                   ⚡|         cash|\n",
            "|    5|          chipotlaid|         food|\n",
            "|    6|     kitchen counter|      utility|\n",
            "|    7|                food|         food|\n",
            "|    8|               zaxby|         food|\n",
            "|    9|           fan sucks|     activity|\n",
            "|   10|                  👠|         cash|\n",
            "|   11|         thanks babe|       people|\n",
            "|   12|                  🍺|         cash|\n",
            "|   13|                   ⛽|         cash|\n",
            "|   14|hey man  it's bee...|       people|\n",
            "|   15|         getaway car|trasportation|\n",
            "|   16|     🔮 gypsy things|     activity|\n",
            "|   17|                  🔴|         cash|\n",
            "|   18|           furniture|      utility|\n",
            "|   19|bed bath mostly b...|       people|\n",
            "+-----+--------------------+-------------+\n",
            "only showing top 20 rows\n",
            "\n"
          ],
          "name": "stdout"
        }
      ]
    },
    {
      "cell_type": "code",
      "metadata": {
        "ExecuteTime": {
          "end_time": "2020-05-10T23:32:27.723737Z",
          "start_time": "2020-05-10T23:32:04.727592Z"
        },
        "id": "5int3l1Dz0_W",
        "colab_type": "code",
        "outputId": "4e1fe739-3074-467d-a5d0-a641bc8f6d4c",
        "colab": {
          "base_uri": "https://localhost:8080/",
          "height": 476
        }
      },
      "source": [
        "# emoji classification\n",
        "emoji_class = emoji_tbl.select(\"*\", \n",
        "    when(emoji_tbl.description.rlike(\"|\".join([\"(\" + pat + \")\" for pat in people2])), 'people')\\\n",
        " .when(emoji_tbl.description.rlike(\"|\".join([\"(\" + pat + \")\" for pat in food2])), 'food') \\\n",
        " .when(emoji_tbl.description.rlike(\"|\".join([\"(\" + pat + \")\" for pat in event2])), 'event')\\\n",
        " .when(emoji_tbl.description.rlike(\"|\".join([\"(\" + pat + \")\" for pat in activity2])), 'activity')\\\n",
        " .when(emoji_tbl.description.rlike(\"|\".join([\"(\" + pat + \")\" for pat in travel2])), 'travel')\\\n",
        " .when(emoji_tbl.description.rlike(\"|\".join([\"(\" + pat + \")\" for pat in trasportation2])), 'trasportation')\\\n",
        " .when(emoji_tbl.description.rlike(\"|\".join([\"(\" + pat + \")\" for pat in utility2])), 'utility')\\\n",
        " .when(emoji_tbl.description.rlike(\"|\".join([\"(\" + pat + \")\" for pat in cash2])), 'cash')\\\n",
        " .when(emoji_tbl.description.rlike(\"|\".join([\"(\" + pat + \")\" for pat in illegal_sarcasm2])), 'illegal_sarcasm')\\\n",
        "                 .otherwise('no_class').alias('class'))\n",
        "\n",
        "emoji_class.createOrReplaceTempView(\"emoji_class\")\n",
        "\n",
        "# count the number of records that has no class \n",
        "y = spark.sql(\"select * from emoji_class where class='no_class'\")\n",
        "print(\"The number of no_class records is\", y.count())\n",
        "emoji_class.show()"
      ],
      "execution_count": 14,
      "outputs": [
        {
          "output_type": "stream",
          "text": [
            "The number of no_class records is 491637\n",
            "+-----+----------------+---------------+\n",
            "|index|     description|          class|\n",
            "+-----+----------------+---------------+\n",
            "|    0|              🎥|       activity|\n",
            "|    1|               ⚡|       no_class|\n",
            "|    2|              👠|       activity|\n",
            "|    3|              🍺|           food|\n",
            "|    4|               ⛽|  trasportation|\n",
            "|    5|              🔴|  trasportation|\n",
            "|    6|            ✌❤🏈|       activity|\n",
            "|    7|            👰👰|          event|\n",
            "|    8|          🍕🍕🍕|           food|\n",
            "|    9|              🍕|           food|\n",
            "|   10|              🎉|       activity|\n",
            "|   11|          🍴🍴🍴|           food|\n",
            "|   12|      ☕️🍴🍰🍳🎂|           food|\n",
            "|   13|              🏡|        utility|\n",
            "|   14|              💣|illegal_sarcasm|\n",
            "|   15|              🌮|           food|\n",
            "|   16|              🍵|           food|\n",
            "|   17|              ⚡️|       no_class|\n",
            "|   18|❤️❤️❤️❤️👯👯👯😻|         people|\n",
            "|   19|               ☕|           food|\n",
            "+-----+----------------+---------------+\n",
            "only showing top 20 rows\n",
            "\n"
          ],
          "name": "stdout"
        }
      ]
    },
    {
      "cell_type": "code",
      "metadata": {
        "ExecuteTime": {
          "end_time": "2020-05-10T23:42:08.932114Z",
          "start_time": "2020-05-10T23:35:19.901414Z"
        },
        "id": "ktVWatNGz0_z",
        "colab_type": "code",
        "outputId": "6580f729-d01d-4166-fbf9-60c1839c32e3",
        "colab": {
          "base_uri": "https://localhost:8080/",
          "height": 459
        }
      },
      "source": [
        "# union text and emoji dataset\n",
        "df_class = spark.sql(\"select * from text_class union select * from emoji_class order by index\")\n",
        "df_class.createOrReplaceTempView(\"df_class\")\n",
        "df_class.show()"
      ],
      "execution_count": 15,
      "outputs": [
        {
          "output_type": "stream",
          "text": [
            "+-----+---------------+-------------+\n",
            "|index|    description|        class|\n",
            "+-----+---------------+-------------+\n",
            "|    0|           uber|trasportation|\n",
            "|    0|             🎥|     activity|\n",
            "|    1|              ⚡|     no_class|\n",
            "|    1|         costco|         food|\n",
            "|    2|             👠|     activity|\n",
            "|    2|   sweaty balls|         food|\n",
            "|    3|             🍺|         food|\n",
            "|    3|             🎥|         cash|\n",
            "|    4|              ⛽|trasportation|\n",
            "|    4|              ⚡|         cash|\n",
            "|    5|     chipotlaid|         food|\n",
            "|    5|             🔴|trasportation|\n",
            "|    6|           ✌❤🏈|     activity|\n",
            "|    6|kitchen counter|      utility|\n",
            "|    7|           👰👰|        event|\n",
            "|    7|           food|         food|\n",
            "|    8|          zaxby|         food|\n",
            "|    8|         🍕🍕🍕|         food|\n",
            "|    9|             🍕|         food|\n",
            "|    9|      fan sucks|     activity|\n",
            "+-----+---------------+-------------+\n",
            "only showing top 20 rows\n",
            "\n"
          ],
          "name": "stdout"
        }
      ]
    },
    {
      "cell_type": "markdown",
      "metadata": {
        "id": "gsAbPHAoz1AU",
        "colab_type": "text"
      },
      "source": [
        "## Q2 What is the percent of emoji only transactions? Which are the top 5 most popular emoji? Which are the top three most popular emoji categories? "
      ]
    },
    {
      "cell_type": "markdown",
      "metadata": {
        "id": "Skk8k5dEz1AV",
        "colab_type": "text"
      },
      "source": [
        "**What is the percent of emoji only transactions?**"
      ]
    },
    {
      "cell_type": "code",
      "metadata": {
        "ExecuteTime": {
          "end_time": "2020-05-07T19:10:50.631887Z",
          "start_time": "2020-05-07T19:10:46.577983Z"
        },
        "id": "6GX1bk6qz1AW",
        "colab_type": "code",
        "outputId": "e6d5b7d6-8ac5-42a3-a45d-353217bc3b6d",
        "colab": {}
      },
      "source": [
        "emoji_per = emoji_tbl.count()/df_venmo.count()\n",
        "emoji_per"
      ],
      "execution_count": 0,
      "outputs": [
        {
          "output_type": "execute_result",
          "data": {
            "text/plain": [
              "0.2621712473694799"
            ]
          },
          "metadata": {
            "tags": []
          },
          "execution_count": 10
        }
      ]
    },
    {
      "cell_type": "markdown",
      "metadata": {
        "id": "hqfCpNe8z1Cs",
        "colab_type": "text"
      },
      "source": [
        "**Which are the top 5 most popular emoji?**"
      ]
    },
    {
      "cell_type": "code",
      "metadata": {
        "ExecuteTime": {
          "end_time": "2020-05-07T19:11:06.731828Z",
          "start_time": "2020-05-07T19:10:53.436399Z"
        },
        "scrolled": true,
        "id": "UnNB_oi3z1Ct",
        "colab_type": "code",
        "outputId": "3d75d51e-1276-438e-eedd-0367ab37795e",
        "colab": {}
      },
      "source": [
        "# create emoji list\n",
        "emoji_list = emoji_tbl.select(\"description\").rdd.flatMap(lambda x: x).collect()\n",
        "len(emoji_list)"
      ],
      "execution_count": 0,
      "outputs": [
        {
          "output_type": "execute_result",
          "data": {
            "text/plain": [
              "1864860"
            ]
          },
          "metadata": {
            "tags": []
          },
          "execution_count": 11
        }
      ]
    },
    {
      "cell_type": "code",
      "metadata": {
        "ExecuteTime": {
          "end_time": "2020-05-07T19:11:19.959461Z",
          "start_time": "2020-05-07T19:11:16.268418Z"
        },
        "id": "XascLzzjz1C1",
        "colab_type": "code",
        "outputId": "316a7957-0383-4d17-9566-d28c851ef8d8",
        "colab": {}
      },
      "source": [
        "# split emoji_list[0] as the starter\n",
        "em_split_emoji = emoji.get_emoji_regexp().split(emoji_list[0])\n",
        "em_split_whitespace = [substr.split() for substr in em_split_emoji]\n",
        "split_emoji_list = functools.reduce(operator.concat, em_split_whitespace)\n",
        "\n",
        "# extend list starting from emoji_list[0]\n",
        "for i in range(len(emoji_list)-1):\n",
        "    next_emoji = \"\".join(emoji_list[i+1].split()) \n",
        "    split_emoji_list.extend(next_emoji)\n",
        "\n",
        "# filter out empty elements\n",
        "split_emoji_list = list(filter(lambda x: x != '️', split_emoji_list))\n",
        "\n",
        "# count emoji frequency and find top 5 popular emojis\n",
        "emoji_freq = Counter(split_emoji_list)\n",
        "emoji_freq.most_common(5)"
      ],
      "execution_count": 0,
      "outputs": [
        {
          "output_type": "execute_result",
          "data": {
            "text/plain": [
              "[('🍕', 186979), ('🍻', 114195), ('💸', 91973), ('🍷', 88363), ('🍺', 70590)]"
            ]
          },
          "metadata": {
            "tags": []
          },
          "execution_count": 12
        }
      ]
    },
    {
      "cell_type": "markdown",
      "metadata": {
        "id": "cU1d27csz1C5",
        "colab_type": "text"
      },
      "source": [
        "**Which are the top three most popular emoji categories?**"
      ]
    },
    {
      "cell_type": "code",
      "metadata": {
        "ExecuteTime": {
          "end_time": "2020-05-07T19:11:59.106727Z",
          "start_time": "2020-05-07T19:11:30.766061Z"
        },
        "id": "BTGZDtfez1C6",
        "colab_type": "code",
        "outputId": "0d4de355-2a1e-41a7-d774-94db76893f32",
        "colab": {}
      },
      "source": [
        "# group by class and aggregate emojis in each class\n",
        "agg_class = emoji_class.groupby(\"class\")\\\n",
        "           .agg(F.concat_ws(\"\", F.collect_list(emoji_class.description)).alias('agg_emojis'))\n",
        "agg_class.registerTempTable(\"agg_class\")\n",
        "\n",
        "# transfer to pandas dataframe\n",
        "pandas_venmo = agg_class.select(\"*\").toPandas()\n",
        "pandas_venmo.head()"
      ],
      "execution_count": 0,
      "outputs": [
        {
          "output_type": "execute_result",
          "data": {
            "text/html": [
              "<div>\n",
              "<style scoped>\n",
              "    .dataframe tbody tr th:only-of-type {\n",
              "        vertical-align: middle;\n",
              "    }\n",
              "\n",
              "    .dataframe tbody tr th {\n",
              "        vertical-align: top;\n",
              "    }\n",
              "\n",
              "    .dataframe thead th {\n",
              "        text-align: right;\n",
              "    }\n",
              "</style>\n",
              "<table border=\"1\" class=\"dataframe\">\n",
              "  <thead>\n",
              "    <tr style=\"text-align: right;\">\n",
              "      <th></th>\n",
              "      <th>class</th>\n",
              "      <th>agg_emojis</th>\n",
              "    </tr>\n",
              "  </thead>\n",
              "  <tbody>\n",
              "    <tr>\n",
              "      <td>0</td>\n",
              "      <td>travel</td>\n",
              "      <td>🌴🌴🌴🐟🐠🐟🐠🐟🌴🌴🌴✈️🚌🚡🚡🚡🚡🚡🚡🚡🚡🚡🚡💒✈️✈️🇭🇷🇭🇷🇭🇷🌴🌴✈️🌴✈️🏣🇮🇪🔵...</td>\n",
              "    </tr>\n",
              "    <tr>\n",
              "      <td>1</td>\n",
              "      <td>no_class</td>\n",
              "      <td>⚡⚡️🇺🇸🎯👃🏻👃🏽👃🏿🐍🔥🔥🔥💦💦💦👣⚡️🕶🐭👅⛄️🌏✒️✒️✒️💆🏼👻👻👻💚☘🤖✨👕👧🚛...</td>\n",
              "    </tr>\n",
              "    <tr>\n",
              "      <td>2</td>\n",
              "      <td>utility</td>\n",
              "      <td>🏡💡🔌📺📺📺⚡🔌💡💸🏡⚡🔌💡💸🚒💦🔥🖥🖥🏡⚡🔌💡💸🛁👩‍👩‍👧🏡🏠📺💸🔑🏠💸🏡💸📺📺💻💦🔌🔥...</td>\n",
              "    </tr>\n",
              "    <tr>\n",
              "      <td>3</td>\n",
              "      <td>food</td>\n",
              "      <td>🍺🍕🍕🍕🍕🍴🍴🍴☕️🍴🍰🍳🎂🌮🍵☕🍷🍷🍷🍰🍰🍰🍰🍰🍪🍪🍪🍺🍺🍇🍌🍓🍹🚗➡️🍟🍺🍕🍕🍕🍕🍕🍕🍷...</td>\n",
              "    </tr>\n",
              "    <tr>\n",
              "      <td>4</td>\n",
              "      <td>cash</td>\n",
              "      <td>💰🇮🇱🤑💰⛏⚱🤑💰🤑🤑🤑🤑🤑💵💸💰💵💵🌟💸💦💸💰🤑💸💰💰💦💸💰🏧💰 🔙💰💵💸💵💵💸💵🔙💸💦💸...</td>\n",
              "    </tr>\n",
              "  </tbody>\n",
              "</table>\n",
              "</div>"
            ],
            "text/plain": [
              "      class                                         agg_emojis\n",
              "0    travel  🌴🌴🌴🐟🐠🐟🐠🐟🌴🌴🌴✈️🚌🚡🚡🚡🚡🚡🚡🚡🚡🚡🚡💒✈️✈️🇭🇷🇭🇷🇭🇷🌴🌴✈️🌴✈️🏣🇮🇪🔵...\n",
              "1  no_class  ⚡⚡️🇺🇸🎯👃🏻👃🏽👃🏿🐍🔥🔥🔥💦💦💦👣⚡️🕶🐭👅⛄️🌏✒️✒️✒️💆🏼👻👻👻💚☘🤖✨👕👧🚛...\n",
              "2   utility  🏡💡🔌📺📺📺⚡🔌💡💸🏡⚡🔌💡💸🚒💦🔥🖥🖥🏡⚡🔌💡💸🛁👩‍👩‍👧🏡🏠📺💸🔑🏠💸🏡💸📺📺💻💦🔌🔥...\n",
              "3      food  🍺🍕🍕🍕🍕🍴🍴🍴☕️🍴🍰🍳🎂🌮🍵☕🍷🍷🍷🍰🍰🍰🍰🍰🍪🍪🍪🍺🍺🍇🍌🍓🍹🚗➡️🍟🍺🍕🍕🍕🍕🍕🍕🍷...\n",
              "4      cash  💰🇮🇱🤑💰⛏⚱🤑💰🤑🤑🤑🤑🤑💵💸💰💵💵🌟💸💦💸💰🤑💸💰💰💦💸💰🏧💰 🔙💰💵💸💵💵💸💵🔙💸💦💸..."
            ]
          },
          "metadata": {
            "tags": []
          },
          "execution_count": 13
        }
      ]
    },
    {
      "cell_type": "code",
      "metadata": {
        "ExecuteTime": {
          "end_time": "2020-05-07T19:12:17.535889Z",
          "start_time": "2020-05-07T19:12:17.205581Z"
        },
        "id": "b1kES847z1C9",
        "colab_type": "code",
        "outputId": "7c97a0ae-7f23-4232-d27b-be2dbbd61a75",
        "colab": {}
      },
      "source": [
        "# If remove the no_class, \"Food\", \"Activity\", and \"People\" are the top 3 emoji categories\n",
        "x = pandas_venmo.groupby(\"class\")[\"agg_emojis\"]\\\n",
        "            .apply(lambda x: x.str.len()).reset_index().sort_values(\"agg_emojis\", ascending=False)\n",
        "\n",
        "class_cnt = pd.concat([pandas_venmo[\"class\"],x], axis=1).sort_values(\"agg_emojis\", ascending=False)\n",
        "class_cnt.head(10)"
      ],
      "execution_count": 0,
      "outputs": [
        {
          "output_type": "execute_result",
          "data": {
            "text/html": [
              "<div>\n",
              "<style scoped>\n",
              "    .dataframe tbody tr th:only-of-type {\n",
              "        vertical-align: middle;\n",
              "    }\n",
              "\n",
              "    .dataframe tbody tr th {\n",
              "        vertical-align: top;\n",
              "    }\n",
              "\n",
              "    .dataframe thead th {\n",
              "        text-align: right;\n",
              "    }\n",
              "</style>\n",
              "<table border=\"1\" class=\"dataframe\">\n",
              "  <thead>\n",
              "    <tr style=\"text-align: right;\">\n",
              "      <th></th>\n",
              "      <th>class</th>\n",
              "      <th>index</th>\n",
              "      <th>agg_emojis</th>\n",
              "    </tr>\n",
              "  </thead>\n",
              "  <tbody>\n",
              "    <tr>\n",
              "      <td>3</td>\n",
              "      <td>food</td>\n",
              "      <td>3</td>\n",
              "      <td>1667773</td>\n",
              "    </tr>\n",
              "    <tr>\n",
              "      <td>1</td>\n",
              "      <td>no_class</td>\n",
              "      <td>1</td>\n",
              "      <td>1056768</td>\n",
              "    </tr>\n",
              "    <tr>\n",
              "      <td>8</td>\n",
              "      <td>activity</td>\n",
              "      <td>8</td>\n",
              "      <td>591270</td>\n",
              "    </tr>\n",
              "    <tr>\n",
              "      <td>5</td>\n",
              "      <td>people</td>\n",
              "      <td>5</td>\n",
              "      <td>457549</td>\n",
              "    </tr>\n",
              "    <tr>\n",
              "      <td>2</td>\n",
              "      <td>utility</td>\n",
              "      <td>2</td>\n",
              "      <td>365662</td>\n",
              "    </tr>\n",
              "    <tr>\n",
              "      <td>7</td>\n",
              "      <td>trasportation</td>\n",
              "      <td>7</td>\n",
              "      <td>187082</td>\n",
              "    </tr>\n",
              "    <tr>\n",
              "      <td>9</td>\n",
              "      <td>event</td>\n",
              "      <td>9</td>\n",
              "      <td>110588</td>\n",
              "    </tr>\n",
              "    <tr>\n",
              "      <td>0</td>\n",
              "      <td>travel</td>\n",
              "      <td>0</td>\n",
              "      <td>107989</td>\n",
              "    </tr>\n",
              "    <tr>\n",
              "      <td>6</td>\n",
              "      <td>illegal_sarcasm</td>\n",
              "      <td>6</td>\n",
              "      <td>86135</td>\n",
              "    </tr>\n",
              "    <tr>\n",
              "      <td>4</td>\n",
              "      <td>cash</td>\n",
              "      <td>4</td>\n",
              "      <td>84001</td>\n",
              "    </tr>\n",
              "  </tbody>\n",
              "</table>\n",
              "</div>"
            ],
            "text/plain": [
              "             class  index  agg_emojis\n",
              "3             food      3     1667773\n",
              "1         no_class      1     1056768\n",
              "8         activity      8      591270\n",
              "5           people      5      457549\n",
              "2          utility      2      365662\n",
              "7    trasportation      7      187082\n",
              "9            event      9      110588\n",
              "0           travel      0      107989\n",
              "6  illegal_sarcasm      6       86135\n",
              "4             cash      4       84001"
            ]
          },
          "metadata": {
            "tags": []
          },
          "execution_count": 14
        }
      ]
    },
    {
      "cell_type": "markdown",
      "metadata": {
        "id": "i5W0LxY4z1DC",
        "colab_type": "text"
      },
      "source": [
        "## Q3 For each user, create a variable to indicate their spending behavior profile.  "
      ]
    },
    {
      "cell_type": "code",
      "metadata": {
        "ExecuteTime": {
          "end_time": "2020-05-10T23:56:17.328866Z",
          "start_time": "2020-05-10T23:45:41.460816Z"
        },
        "id": "0lpBiOWpz1DC",
        "colab_type": "code",
        "outputId": "144c9ec0-8785-4450-b307-2383a48cfc62",
        "colab": {
          "base_uri": "https://localhost:8080/",
          "height": 187
        }
      },
      "source": [
        "# join Venmo original dataset with the dataset from question 1 that has description classification\n",
        "df_full = spark.sql(\"select t1.index, user1, user2, t1.description, class, datetime \\\n",
        "                    from df_class t1 join Venmo t2 using (index) order by index\")\n",
        "df_full.createOrReplaceTempView(\"df_full\")\n",
        "df_full.show(4)"
      ],
      "execution_count": 16,
      "outputs": [
        {
          "output_type": "stream",
          "text": [
            "+-----+-------+-------+-----------+-------------+-------------------+\n",
            "|index|  user1|  user2|description|        class|           datetime|\n",
            "+-----+-------+-------+-----------+-------------+-------------------+\n",
            "|    0|1218774|1528945|         🎥|     activity|2015-11-27 10:48:19|\n",
            "|    0|1218774|1528945|       uber|trasportation|2015-11-27 10:48:19|\n",
            "|    1|5109483|4782303|          ⚡|     no_class|2015-06-17 11:37:04|\n",
            "|    1|5109483|4782303|     costco|         food|2015-06-17 11:37:04|\n",
            "+-----+-------+-------+-----------+-------------+-------------------+\n",
            "only showing top 4 rows\n",
            "\n"
          ],
          "name": "stdout"
        }
      ]
    },
    {
      "cell_type": "code",
      "metadata": {
        "ExecuteTime": {
          "end_time": "2020-05-11T00:35:46.499848Z",
          "start_time": "2020-05-11T00:21:02.529629Z"
        },
        "scrolled": false,
        "id": "1Cb3lkypz1DJ",
        "colab_type": "code",
        "outputId": "ac8ca1e8-0290-49cf-84a1-2b809e887750",
        "colab": {
          "base_uri": "https://localhost:8080/",
          "height": 459
        }
      },
      "source": [
        "# For each user, calculate the number of his/her transactions per class and how many percents of total spendings \n",
        "df_profile = spark.sql(\"select user1, class, count(*) as transactions_per_class, \\\n",
        "                    concat(round(count(*)/sum(count(*)) over (partition by user1) *100, 2),'%') as ratio \\\n",
        "               from df_full \\\n",
        "               group by user1, class \\\n",
        "               order by user1\")\n",
        "df_profile.show()"
      ],
      "execution_count": 17,
      "outputs": [
        {
          "output_type": "stream",
          "text": [
            "+-----+-------------+----------------------+------+\n",
            "|user1|        class|transactions_per_class| ratio|\n",
            "+-----+-------------+----------------------+------+\n",
            "|    2|       people|                     1|100.0%|\n",
            "|    3|     activity|                     1|14.29%|\n",
            "|    3|         food|                     1|14.29%|\n",
            "|    3|         cash|                     1|14.29%|\n",
            "|    3|       travel|                     1|14.29%|\n",
            "|    3|       people|                     3|42.86%|\n",
            "|    4|       people|                     2|33.33%|\n",
            "|    4|         cash|                     3| 50.0%|\n",
            "|    4|         food|                     1|16.67%|\n",
            "|   10|     activity|                     1| 9.09%|\n",
            "|   10|         cash|                     1| 9.09%|\n",
            "|   10|         food|                     6|54.55%|\n",
            "|   10|       people|                     3|27.27%|\n",
            "|   11|       travel|                     1| 2.86%|\n",
            "|   11|      utility|                     2| 5.71%|\n",
            "|   11|     activity|                     4|11.43%|\n",
            "|   11|       people|                    10|28.57%|\n",
            "|   11|trasportation|                     3| 8.57%|\n",
            "|   11|         food|                     7| 20.0%|\n",
            "|   11|         cash|                     8|22.86%|\n",
            "+-----+-------------+----------------------+------+\n",
            "only showing top 20 rows\n",
            "\n"
          ],
          "name": "stdout"
        }
      ]
    },
    {
      "cell_type": "code",
      "metadata": {
        "ExecuteTime": {
          "end_time": "2020-05-09T04:19:33.156169Z",
          "start_time": "2020-05-09T04:01:52.942355Z"
        },
        "id": "2wnTUsxUz1DQ",
        "colab_type": "code",
        "outputId": "ae6029f5-6fcd-48fa-f71e-5b74ebd3f54e",
        "colab": {
          "base_uri": "https://localhost:8080/",
          "height": 459
        }
      },
      "source": [
        "# create a list with unique classes \n",
        "categories = sorted(df_profile.select(\"class\").distinct().rdd.map(lambda row: row[0]).collect())\n",
        "\n",
        "cols = [when(col(\"class\") == category, col(\"ratio\")).otherwise(None).alias(category) \n",
        "    for category in categories]\n",
        "\n",
        "maxs = [max(col(category)).alias(category) for category in categories]\n",
        "\n",
        "# create static spending profile for each user\n",
        "static_profile = (df_profile.select(col(\"user1\"), *cols).groupBy(\"user1\").agg(*maxs).na.fill(0))\n",
        "\n",
        "static_profile.createOrReplaceTempView(\"static_profile\")\n",
        "static_profile.show()"
      ],
      "execution_count": 18,
      "outputs": [
        {
          "output_type": "stream",
          "text": [
            "+-----+--------+------+-----+------+---------------+--------+------+-------------+------+-------+\n",
            "|user1|activity|  cash|event|  food|illegal_sarcasm|no_class|people|trasportation|travel|utility|\n",
            "+-----+--------+------+-----+------+---------------+--------+------+-------------+------+-------+\n",
            "| 2866|    null|100.0%| null|  null|           null|    null|  null|         null|  null|   null|\n",
            "| 6620|    null|  null| null|  null|           null|    null|  null|         null|100.0%|   null|\n",
            "|28170|    null|100.0%| null|  null|           null|    null|  null|         null|  null|   null|\n",
            "|28759|    null| 25.0%| null|  null|           null|   25.0%|  null|        25.0%|  null|  25.0%|\n",
            "|29894|    null|  null| null| 50.0%|           null|    null|  null|        50.0%|  null|   null|\n",
            "|33602|  21.43%|21.43%| null|14.29%|           null|    null|35.71%|         null|  null|  7.14%|\n",
            "|36525|    null|33.33%| null|33.33%|           null|  33.33%|  null|         null|  null|   null|\n",
            "|47283|   25.0%|  null| null| 25.0%|           null|    null| 25.0%|        25.0%|  null|   null|\n",
            "|51415|  16.67%|16.67%| null| 50.0%|           null|    null| 8.33%|         null|  null|  8.33%|\n",
            "|53963|    null|100.0%| null|  null|           null|    null|  null|         null|  null|   null|\n",
            "|59990|  33.33%|  null| null|33.33%|           null|    null|33.33%|         null|  null|   null|\n",
            "|63087|    null|66.67%| null|33.33%|           null|    null|  null|         null|  null|   null|\n",
            "|64423|    null|100.0%| null|  null|           null|    null|  null|         null|  null|   null|\n",
            "|65408|    null|  null| null|100.0%|           null|    null|  null|         null|  null|   null|\n",
            "|67492|   7.89%|34.21%|2.63%|31.58%|          2.63%|   2.63%|10.53%|         null| 5.26%|  2.63%|\n",
            "|67861|    null|  null| null|66.67%|         33.33%|    null|  null|         null|  null|   null|\n",
            "|68202|  100.0%|  null| null|  null|           null|    null|  null|         null|  null|   null|\n",
            "|71995|    null|  null| null|100.0%|           null|    null|  null|         null|  null|   null|\n",
            "|72758|    null|  null| null| 50.0%|           null|   50.0%|  null|         null|  null|   null|\n",
            "|74775|    null|33.33%| null|33.33%|           null|    null|33.33%|         null|  null|   null|\n",
            "+-----+--------+------+-----+------+---------------+--------+------+-------------+------+-------+\n",
            "only showing top 20 rows\n",
            "\n"
          ],
          "name": "stdout"
        }
      ]
    },
    {
      "cell_type": "code",
      "metadata": {
        "ExecuteTime": {
          "end_time": "2020-05-07T19:56:11.761122Z",
          "start_time": "2020-05-07T19:41:45.038421Z"
        },
        "collapsed": true,
        "id": "SpAxVMNaz1DZ",
        "colab_type": "code",
        "outputId": "36c85523-5458-40c9-e716-b678597a0749",
        "colab": {}
      },
      "source": [
        "# df_profile = df_profile.withColumn(\"dict\", concat(col(\"ratio\"), lit(\" \"), col(\"class\")))\n",
        "# df_profile = df_profile.groupby(\"user1\").agg(F.concat_ws(\", \", \n",
        "#                                     F.collect_list(df_profile.dict)).alias(\"static_profile\"))\n",
        "# df_profile.registerTempTable(\"df_profile\")\n",
        "# df_profile.show(10, truncate = False)"
      ],
      "execution_count": 0,
      "outputs": [
        {
          "output_type": "stream",
          "text": [
            "+-----+---------------------------------------------------------------------------------------------------------+\n",
            "|user1|static_profile                                                                                           |\n",
            "+-----+---------------------------------------------------------------------------------------------------------+\n",
            "|2    |100.0%people                                                                                             |\n",
            "|3    |16.67%no_class, 50.0%people, 16.67%travel, 16.67%food                                                    |\n",
            "|4    |16.67%illegal_sarcasm, 16.67%food, 33.33%people, 16.67%activity, 16.67%no_class                          |\n",
            "|10   |10.0%no_class, 30.0%people, 10.0%activity, 50.0%food                                                     |\n",
            "|11   |4.0%activity, 36.0%people, 4.0%illegal_sarcasm, 20.0%no_class, 20.0%food, 8.0%travel, 8.0%utility        |\n",
            "|12   |33.33%people, 11.11%activity, 33.33%no_class, 11.11%food, 11.11%illegal_sarcasm                          |\n",
            "|13   |47.37%people, 10.53%food, 5.26%illegal_sarcasm, 5.26%utility, 10.53%no_class, 15.79%activity, 5.26%travel|\n",
            "|16   |10.0%travel, 10.0%trasportation, 60.0%food, 10.0%activity, 10.0%utility                                  |\n",
            "|19   |25.0%food, 25.0%event, 25.0%activity, 25.0%no_class                                                      |\n",
            "|28   |100.0%people                                                                                             |\n",
            "+-----+---------------------------------------------------------------------------------------------------------+\n",
            "only showing top 10 rows\n",
            "\n"
          ],
          "name": "stdout"
        }
      ]
    },
    {
      "cell_type": "markdown",
      "metadata": {
        "id": "LGqp2oCiz1Dd",
        "colab_type": "text"
      },
      "source": [
        "## Q4 For each user, create a dynamic spending profile (12 months)"
      ]
    },
    {
      "cell_type": "code",
      "metadata": {
        "ExecuteTime": {
          "end_time": "2020-05-11T00:51:19.767000Z",
          "start_time": "2020-05-11T00:37:30.053566Z"
        },
        "id": "n-Z7-epVz1De",
        "colab_type": "code",
        "outputId": "b639551e-d5e1-4ff0-9ecb-0276405b85af",
        "colab": {
          "base_uri": "https://localhost:8080/",
          "height": 459
        }
      },
      "source": [
        "# navigate the first transaction date and only keep first 12 months transactions for each user \n",
        "days_tbl = spark.sql(\"select user1, datetime, class, datediff(datetime, \\\n",
        "                first_value(datetime) over (partition by user1 order by datetime)) as days \\\n",
        "                from df_full \\\n",
        "                group by user1, datetime, class\\\n",
        "                order by user1\")\n",
        "days_tbl.show()"
      ],
      "execution_count": 19,
      "outputs": [
        {
          "output_type": "stream",
          "text": [
            "+-----+-------------------+--------+----+\n",
            "|user1|           datetime|   class|days|\n",
            "+-----+-------------------+--------+----+\n",
            "|    2|2012-11-23 06:03:42|  people|   0|\n",
            "|    3|2016-10-09 03:36:13|    food|  17|\n",
            "|    3|2016-09-22 15:30:09|activity|   0|\n",
            "|    3|2016-10-09 01:56:24|  people|  17|\n",
            "|    3|2016-10-06 10:49:45|  travel|  14|\n",
            "|    3|2016-10-07 08:50:23|    cash|  15|\n",
            "|    3|2016-09-22 15:30:09|  people|   0|\n",
            "|    3|2016-10-07 23:37:56|  people|  15|\n",
            "|    4|2012-12-03 03:35:53|    food|   0|\n",
            "|    4|2015-06-17 09:23:30|    cash| 926|\n",
            "|    4|2014-02-04 06:51:33|  people| 428|\n",
            "|    4|2016-03-03 12:45:57|    cash|1186|\n",
            "|    4|2016-04-17 03:35:09|    cash|1231|\n",
            "|    4|2012-12-15 05:51:12|  people|  12|\n",
            "|   10|2015-01-30 05:59:59|    food| 796|\n",
            "|   10|2012-11-25 09:20:39|  people|   0|\n",
            "|   10|2015-01-21 23:29:21|  people| 787|\n",
            "|   10|2013-03-03 12:47:10|    food|  98|\n",
            "|   10|2013-04-05 09:48:56|    cash| 131|\n",
            "|   10|2013-03-11 04:38:51|  people| 106|\n",
            "+-----+-------------------+--------+----+\n",
            "only showing top 20 rows\n",
            "\n"
          ],
          "name": "stdout"
        }
      ]
    },
    {
      "cell_type": "code",
      "metadata": {
        "ExecuteTime": {
          "end_time": "2020-05-11T01:32:45.698696Z",
          "start_time": "2020-05-11T01:23:46.622336Z"
        },
        "id": "a9M-3ej4z1Dg",
        "colab_type": "code",
        "outputId": "7757cf2c-56c8-49a1-e10e-9fa550996ae8",
        "colab": {
          "base_uri": "https://localhost:8080/",
          "height": 459
        }
      },
      "source": [
        "# add lifetime indiactor (0-12 where 0 represents the 1st transaction and 1 represents 1 month and so on)\n",
        "days_lifeindicator_tbl = days_tbl.select(\"*\", \n",
        "            when(days_tbl.days==0, 0)\\\n",
        "         .when((days_tbl.days>0) & (days_tbl.days<=30), 1) \\\n",
        "         .when((days_tbl.days>30) & (days_tbl.days<=60), 2) \\\n",
        "         .when((days_tbl.days>60) & (days_tbl.days<=90), 3)\\\n",
        "         .when((days_tbl.days>90) & (days_tbl.days<=120), 4)\\\n",
        "         .when((days_tbl.days>120) & (days_tbl.days<=150), 5)\\\n",
        "         .when((days_tbl.days>150) & (days_tbl.days<=180), 6)\\\n",
        "         .when((days_tbl.days>180) & (days_tbl.days<=210), 7)\\\n",
        "         .when((days_tbl.days>210) & (days_tbl.days<=240), 8)\\\n",
        "         .when((days_tbl.days>240) & (days_tbl.days<=270), 9)\\\n",
        "         .when((days_tbl.days>270) & (days_tbl.days<=300), 10)\\\n",
        "         .when((days_tbl.days>300) & (days_tbl.days<=330), 11)\\\n",
        "         .when((days_tbl.days>330) & (days_tbl.days<=360), 12)\\\n",
        "         .otherwise(-1).alias('lifetime_indicator'))\n",
        "\n",
        "# filter out records where \"datetime-startdate\">=360 days (12 months after first transaction)\n",
        "lifetime_tbl = days_lifeindicator_tbl.filter(\"lifetime_indicator != -1 \").sort(\"user1\")\n",
        "\n",
        "lifetime_tbl.show()"
      ],
      "execution_count": 20,
      "outputs": [
        {
          "output_type": "stream",
          "text": [
            "+-----+-------------------+--------+----+------------------+\n",
            "|user1|           datetime|   class|days|lifetime_indicator|\n",
            "+-----+-------------------+--------+----+------------------+\n",
            "|    2|2012-11-23 06:03:42|  people|   0|                 0|\n",
            "|    3|2016-10-07 08:50:23|    cash|  15|                 1|\n",
            "|    3|2016-09-22 15:30:09|  people|   0|                 0|\n",
            "|    3|2016-10-09 01:56:24|  people|  17|                 1|\n",
            "|    3|2016-09-22 15:30:09|activity|   0|                 0|\n",
            "|    3|2016-10-06 10:49:45|  travel|  14|                 1|\n",
            "|    3|2016-10-09 03:36:13|    food|  17|                 1|\n",
            "|    3|2016-10-07 23:37:56|  people|  15|                 1|\n",
            "|    4|2012-12-15 05:51:12|  people|  12|                 1|\n",
            "|    4|2012-12-03 03:35:53|    food|   0|                 0|\n",
            "|   10|2013-04-05 09:48:56|    cash| 131|                 5|\n",
            "|   10|2013-01-14 08:18:43|    food|  50|                 2|\n",
            "|   10|2012-12-23 11:08:45|    food|  28|                 1|\n",
            "|   10|2013-03-03 12:47:10|    food|  98|                 4|\n",
            "|   10|2012-12-31 12:44:12|activity|  36|                 2|\n",
            "|   10|2013-03-11 04:38:51|  people| 106|                 4|\n",
            "|   10|2012-11-25 09:20:39|  people|   0|                 0|\n",
            "|   11|2012-10-13 06:32:54|  people| 142|                 5|\n",
            "|   11|2012-05-24 11:30:30|    food|   0|                 0|\n",
            "|   11|2012-08-25 00:30:23|    food|  93|                 4|\n",
            "+-----+-------------------+--------+----+------------------+\n",
            "only showing top 20 rows\n",
            "\n"
          ],
          "name": "stdout"
        }
      ]
    },
    {
      "cell_type": "code",
      "metadata": {
        "ExecuteTime": {
          "end_time": "2020-05-12T06:50:32.761535Z",
          "start_time": "2020-05-12T06:50:28.950690Z"
        },
        "collapsed": true,
        "id": "14yG1qKOz1Dq",
        "colab_type": "code",
        "outputId": "6481dbfb-6103-4397-f57d-010d78554317",
        "colab": {
          "base_uri": "https://localhost:8080/",
          "height": 459
        }
      },
      "source": [
        "lifetime_tbl = lifetime_tbl\\\n",
        "        .withColumn(\"lifetime_category\", \n",
        "                        concat(lit(\"time\"), col(\"lifetime_indicator\"), lit(\"_\"), col(\"class\")))\\\n",
        "        .withColumn(\"user_life\", concat(col(\"user1\"), lit(\"_\"), col(\"lifetime_indicator\")))\n",
        "\n",
        "lifetime_tbl.createOrReplaceTempView(\"lifetime_tbl\")\n",
        "\n",
        "dynamic_tbl = spark.sql(\"select user1, lifetime_indicator, class, \\\n",
        "                round(count(*)/sum(count(*)) \\\n",
        "                  over (partition by user1, lifetime_indicator), 2) as percentage \\\n",
        "               from lifetime_tbl \\\n",
        "               group by user1, lifetime_indicator, class \\\n",
        "               order by user1\")\n",
        "\n",
        "dynamic_tbl.createOrReplaceTempView(\"dynamic_tbl\")\n",
        "\n",
        "dynamic_tbl.show()"
      ],
      "execution_count": 21,
      "outputs": [
        {
          "output_type": "stream",
          "text": [
            "+-----+------------------+-------------+----------+\n",
            "|user1|lifetime_indicator|        class|percentage|\n",
            "+-----+------------------+-------------+----------+\n",
            "|    2|                 0|       people|       1.0|\n",
            "|    3|                 0|     activity|       0.5|\n",
            "|    3|                 1|         cash|       0.2|\n",
            "|    3|                 0|       people|       0.5|\n",
            "|    3|                 1|         food|       0.2|\n",
            "|    3|                 1|       people|       0.4|\n",
            "|    3|                 1|       travel|       0.2|\n",
            "|    4|                 0|         food|       1.0|\n",
            "|    4|                 1|       people|       1.0|\n",
            "|   10|                 4|       people|       0.5|\n",
            "|   10|                 5|         cash|       1.0|\n",
            "|   10|                 2|         food|       0.5|\n",
            "|   10|                 0|       people|       1.0|\n",
            "|   10|                 2|     activity|       0.5|\n",
            "|   10|                 1|         food|       1.0|\n",
            "|   10|                 4|         food|       0.5|\n",
            "|   11|                 3|       people|       0.5|\n",
            "|   11|                 0|trasportation|       0.5|\n",
            "|   11|                 5|         food|      0.33|\n",
            "|   11|                 5|       people|      0.67|\n",
            "+-----+------------------+-------------+----------+\n",
            "only showing top 20 rows\n",
            "\n"
          ],
          "name": "stdout"
        }
      ]
    },
    {
      "cell_type": "code",
      "metadata": {
        "ExecuteTime": {
          "end_time": "2020-05-11T02:07:17.328948Z",
          "start_time": "2020-05-11T01:45:49.223073Z"
        },
        "id": "aZ0gDIT9z1Dx",
        "colab_type": "code",
        "outputId": "e69069da-8c70-49f5-dfcc-4355ffca2fef",
        "colab": {
          "base_uri": "https://localhost:8080/",
          "height": 479
        }
      },
      "source": [
        "# create dynamic profile\n",
        "#spread rows to columns: each row representing one user, each column representing lifetime and spending category\n",
        "\n",
        "classes = sorted(dynamic_tbl.select(\"class\").distinct().rdd.map(lambda row: row[0]).collect())\n",
        "\n",
        "cols1 = [when(col(\"class\") == clas, col(\"percentage\")).otherwise(None).alias(clas) \n",
        "    for clas in classes]\n",
        "\n",
        "maxs1 = [max(col(clas)).alias(clas) for clas in classes]\n",
        "\n",
        "dynamic_profile = (dynamic_tbl.select(col(\"user1\"), \n",
        "            col(\"lifetime_indicator\"), *cols1)\\\n",
        "            .groupBy(\"user1\", \"lifetime_indicator\").agg(*maxs1).na.fill(0)\\\n",
        "            .orderBy(\"user1\", \"lifetime_indicator\"))\n",
        "\n",
        "dynamic_profile.createOrReplaceTempView(\"dynamic_profile\")\n",
        "\n",
        "dynamic_profile.show()"
      ],
      "execution_count": 22,
      "outputs": [
        {
          "output_type": "stream",
          "text": [
            "+-----+------------------+--------+----+-----+----+---------------+--------+------+-------------+------+-------+\n",
            "|user1|lifetime_indicator|activity|cash|event|food|illegal_sarcasm|no_class|people|trasportation|travel|utility|\n",
            "+-----+------------------+--------+----+-----+----+---------------+--------+------+-------------+------+-------+\n",
            "|    2|                 0|     0.0| 0.0|  0.0| 0.0|            0.0|     0.0|   1.0|          0.0|   0.0|    0.0|\n",
            "|    3|                 0|     0.5| 0.0|  0.0| 0.0|            0.0|     0.0|   0.5|          0.0|   0.0|    0.0|\n",
            "|    3|                 1|     0.0| 0.2|  0.0| 0.2|            0.0|     0.0|   0.4|          0.0|   0.2|    0.0|\n",
            "|    4|                 0|     0.0| 0.0|  0.0| 1.0|            0.0|     0.0|   0.0|          0.0|   0.0|    0.0|\n",
            "|    4|                 1|     0.0| 0.0|  0.0| 0.0|            0.0|     0.0|   1.0|          0.0|   0.0|    0.0|\n",
            "|   10|                 0|     0.0| 0.0|  0.0| 0.0|            0.0|     0.0|   1.0|          0.0|   0.0|    0.0|\n",
            "|   10|                 1|     0.0| 0.0|  0.0| 1.0|            0.0|     0.0|   0.0|          0.0|   0.0|    0.0|\n",
            "|   10|                 2|     0.5| 0.0|  0.0| 0.5|            0.0|     0.0|   0.0|          0.0|   0.0|    0.0|\n",
            "|   10|                 4|     0.0| 0.0|  0.0| 0.5|            0.0|     0.0|   0.5|          0.0|   0.0|    0.0|\n",
            "|   10|                 5|     0.0| 1.0|  0.0| 0.0|            0.0|     0.0|   0.0|          0.0|   0.0|    0.0|\n",
            "|   11|                 0|     0.0| 0.0|  0.0| 0.5|            0.0|     0.0|   0.0|          0.5|   0.0|    0.0|\n",
            "|   11|                 3|     0.0| 0.5|  0.0| 0.0|            0.0|     0.0|   0.5|          0.0|   0.0|    0.0|\n",
            "|   11|                 4|     0.0| 0.0|  0.0| 1.0|            0.0|     0.0|   0.0|          0.0|   0.0|    0.0|\n",
            "|   11|                 5|     0.0| 0.0|  0.0|0.33|            0.0|     0.0|  0.67|          0.0|   0.0|    0.0|\n",
            "|   11|                 6|     0.0| 0.0|  0.0| 0.5|            0.0|     0.0|   0.5|          0.0|   0.0|    0.0|\n",
            "|   12|                 0|     0.0| 0.0|  0.0| 0.0|            0.0|     0.0|   1.0|          0.0|   0.0|    0.0|\n",
            "|   12|                 5|     0.0| 1.0|  0.0| 0.0|            0.0|     0.0|   0.0|          0.0|   0.0|    0.0|\n",
            "|   12|                 8|     0.0| 0.0|  0.0| 0.0|            0.0|     0.0|   1.0|          0.0|   0.0|    0.0|\n",
            "|   12|                11|     1.0| 0.0|  0.0| 0.0|            0.0|     0.0|   0.0|          0.0|   0.0|    0.0|\n",
            "|   13|                 0|     0.0| 0.0|  0.0| 1.0|            0.0|     0.0|   0.0|          0.0|   0.0|    0.0|\n",
            "+-----+------------------+--------+----+-----+----+---------------+--------+------+-------------+------+-------+\n",
            "only showing top 20 rows\n",
            "\n"
          ],
          "name": "stdout"
        }
      ]
    },
    {
      "cell_type": "code",
      "metadata": {
        "ExecuteTime": {
          "end_time": "2020-05-09T05:56:03.783133Z",
          "start_time": "2020-05-09T05:31:26.175472Z"
        },
        "id": "1lwWHnZUz1D2",
        "colab_type": "code",
        "outputId": "7ba09aef-c6a6-441a-d3b6-04b402fae1f1",
        "colab": {}
      },
      "source": [
        "df1 = spark.sql(\"select user1, category_life, \\\n",
        "                 round(count(*)/sum(count(*)) over (partition by user_life), 2) as percentage \\\n",
        "               from lifetime_tbl \\\n",
        "               group by user1, user_life, category_life \\\n",
        "               order by user1\")\n",
        "life_cates = sorted(df1.select(\"category_life\").distinct().rdd.map(lambda row: row[0]).collect())\n",
        "cols2 = [when(col(\"category_life\") == life_cate, col(\"percentage\")).otherwise(None).alias(life_cate) \n",
        "    for life_cate in life_cates]\n",
        "maxs2 = [max(col(life_cate)).alias(life_cate) for life_cate in life_cates]\n",
        "dynamic2 = (df1.select(col(\"user1\"), *cols2).groupBy(\"user1\").agg(*maxs2).na.fill(0))\n",
        "\n",
        "\n",
        "# calculate mean, standard deviation for each time period and each class\n",
        "summary_stats = dynamic2.summary()\n",
        "df_dynamic_summary = summary_stats.select(\"*\").toPandas()\n",
        "df_dynamic_summary = df_dynamic_summary.T.reset_index() # transpose and reset index\n",
        "headers = df_dynamic_summary.iloc[0] # store new header values\n",
        "df_dynamic_summary = df_dynamic_summary[2:] # remove user1 information and previous header\n",
        "df_dynamic_summary.columns = headers\n",
        "df_dynamic_summary = df_dynamic_summary.reset_index(drop=True)\n",
        "df_dynamic_summary.head()"
      ],
      "execution_count": 0,
      "outputs": [
        {
          "output_type": "execute_result",
          "data": {
            "text/html": [
              "<div>\n",
              "<style scoped>\n",
              "    .dataframe tbody tr th:only-of-type {\n",
              "        vertical-align: middle;\n",
              "    }\n",
              "\n",
              "    .dataframe tbody tr th {\n",
              "        vertical-align: top;\n",
              "    }\n",
              "\n",
              "    .dataframe thead th {\n",
              "        text-align: right;\n",
              "    }\n",
              "</style>\n",
              "<table border=\"1\" class=\"dataframe\">\n",
              "  <thead>\n",
              "    <tr style=\"text-align: right;\">\n",
              "      <th></th>\n",
              "      <th>summary</th>\n",
              "      <th>count</th>\n",
              "      <th>mean</th>\n",
              "      <th>stddev</th>\n",
              "      <th>min</th>\n",
              "      <th>25%</th>\n",
              "      <th>50%</th>\n",
              "      <th>75%</th>\n",
              "      <th>max</th>\n",
              "    </tr>\n",
              "  </thead>\n",
              "  <tbody>\n",
              "    <tr>\n",
              "      <td>0</td>\n",
              "      <td>time0_activity</td>\n",
              "      <td>2158528</td>\n",
              "      <td>0.12843825051145957</td>\n",
              "      <td>0.33406685333468933</td>\n",
              "      <td>0.0</td>\n",
              "      <td>0.0</td>\n",
              "      <td>0.0</td>\n",
              "      <td>0.0</td>\n",
              "      <td>1.0</td>\n",
              "    </tr>\n",
              "    <tr>\n",
              "      <td>1</td>\n",
              "      <td>time0_cash</td>\n",
              "      <td>2158528</td>\n",
              "      <td>0.2513680156106382</td>\n",
              "      <td>0.43303739637783334</td>\n",
              "      <td>0.0</td>\n",
              "      <td>0.0</td>\n",
              "      <td>0.0</td>\n",
              "      <td>0.6</td>\n",
              "      <td>1.0</td>\n",
              "    </tr>\n",
              "    <tr>\n",
              "      <td>2</td>\n",
              "      <td>time0_event</td>\n",
              "      <td>2158528</td>\n",
              "      <td>0.013661930723159488</td>\n",
              "      <td>0.11592848163120395</td>\n",
              "      <td>0.0</td>\n",
              "      <td>0.0</td>\n",
              "      <td>0.0</td>\n",
              "      <td>0.0</td>\n",
              "      <td>1.0</td>\n",
              "    </tr>\n",
              "    <tr>\n",
              "      <td>3</td>\n",
              "      <td>time0_food</td>\n",
              "      <td>2158528</td>\n",
              "      <td>0.23720214887182375</td>\n",
              "      <td>0.4246861125589359</td>\n",
              "      <td>0.0</td>\n",
              "      <td>0.0</td>\n",
              "      <td>0.0</td>\n",
              "      <td>0.0</td>\n",
              "      <td>1.0</td>\n",
              "    </tr>\n",
              "    <tr>\n",
              "      <td>4</td>\n",
              "      <td>time0_illegal_sarcasm</td>\n",
              "      <td>2158528</td>\n",
              "      <td>0.004347671190737391</td>\n",
              "      <td>0.06568058689262556</td>\n",
              "      <td>0.0</td>\n",
              "      <td>0.0</td>\n",
              "      <td>0.0</td>\n",
              "      <td>0.0</td>\n",
              "      <td>1.0</td>\n",
              "    </tr>\n",
              "  </tbody>\n",
              "</table>\n",
              "</div>"
            ],
            "text/plain": [
              "0                summary    count                  mean               stddev  \\\n",
              "0         time0_activity  2158528   0.12843825051145957  0.33406685333468933   \n",
              "1             time0_cash  2158528    0.2513680156106382  0.43303739637783334   \n",
              "2            time0_event  2158528  0.013661930723159488  0.11592848163120395   \n",
              "3             time0_food  2158528   0.23720214887182375   0.4246861125589359   \n",
              "4  time0_illegal_sarcasm  2158528  0.004347671190737391  0.06568058689262556   \n",
              "\n",
              "0  min  25%  50%  75%  max  \n",
              "0  0.0  0.0  0.0  0.0  1.0  \n",
              "1  0.0  0.0  0.0  0.6  1.0  \n",
              "2  0.0  0.0  0.0  0.0  1.0  \n",
              "3  0.0  0.0  0.0  0.0  1.0  \n",
              "4  0.0  0.0  0.0  0.0  1.0  "
            ]
          },
          "metadata": {
            "tags": []
          },
          "execution_count": 18
        }
      ]
    },
    {
      "cell_type": "code",
      "metadata": {
        "ExecuteTime": {
          "end_time": "2020-05-09T06:52:34.405324Z",
          "start_time": "2020-05-09T06:52:34.357626Z"
        },
        "id": "q80cBm95z1D6",
        "colab_type": "code",
        "outputId": "1173ab1b-88be-45ee-c872-cfa1511d5c68",
        "colab": {}
      },
      "source": [
        "# add time and category columns for plotting \n",
        "time = []\n",
        "category = []\n",
        "\n",
        "for i in range(len(df_dynamic_summary)):\n",
        "    pos = df_dynamic_summary.summary[i].index(\"_\")\n",
        "    c = df_dynamic_summary.summary[i][pos+1:]  # get category\n",
        "    t = df_dynamic_summary.summary[i][4:pos]   # get lifetime\n",
        "    time.append(t)\n",
        "    category.append(c)\n",
        "\n",
        "df_dynamic_summary[\"time\"] = time\n",
        "df_dynamic_summary[\"category\"] = category\n",
        "\n",
        "# convert data type from string to numeric \n",
        "df_dynamic_summary[\"time\"] = df_dynamic_summary[\"time\"].apply(pd.to_numeric, errors='coerce')\n",
        "df_dynamic_summary[\"mean\"] = df_dynamic_summary[\"mean\"].apply(pd.to_numeric, errors='coerce')\n",
        "df_dynamic_summary[\"stddev\"] = df_dynamic_summary[\"stddev\"].apply(pd.to_numeric, errors='coerce')\n",
        "df_dynamic_summary[\"2std\"] = 2*df_dynamic_summary[\"stddev\"]\n",
        "\n",
        "df_dynamic_summary.head()"
      ],
      "execution_count": 0,
      "outputs": [
        {
          "output_type": "execute_result",
          "data": {
            "text/html": [
              "<div>\n",
              "<style scoped>\n",
              "    .dataframe tbody tr th:only-of-type {\n",
              "        vertical-align: middle;\n",
              "    }\n",
              "\n",
              "    .dataframe tbody tr th {\n",
              "        vertical-align: top;\n",
              "    }\n",
              "\n",
              "    .dataframe thead th {\n",
              "        text-align: right;\n",
              "    }\n",
              "</style>\n",
              "<table border=\"1\" class=\"dataframe\">\n",
              "  <thead>\n",
              "    <tr style=\"text-align: right;\">\n",
              "      <th></th>\n",
              "      <th>summary</th>\n",
              "      <th>count</th>\n",
              "      <th>mean</th>\n",
              "      <th>stddev</th>\n",
              "      <th>min</th>\n",
              "      <th>25%</th>\n",
              "      <th>50%</th>\n",
              "      <th>75%</th>\n",
              "      <th>max</th>\n",
              "      <th>time</th>\n",
              "      <th>category</th>\n",
              "      <th>2std</th>\n",
              "    </tr>\n",
              "  </thead>\n",
              "  <tbody>\n",
              "    <tr>\n",
              "      <td>0</td>\n",
              "      <td>time0_activity</td>\n",
              "      <td>2158528</td>\n",
              "      <td>0.128438</td>\n",
              "      <td>0.334067</td>\n",
              "      <td>0.0</td>\n",
              "      <td>0.0</td>\n",
              "      <td>0.0</td>\n",
              "      <td>0.0</td>\n",
              "      <td>1.0</td>\n",
              "      <td>0</td>\n",
              "      <td>activity</td>\n",
              "      <td>0.668134</td>\n",
              "    </tr>\n",
              "    <tr>\n",
              "      <td>1</td>\n",
              "      <td>time0_cash</td>\n",
              "      <td>2158528</td>\n",
              "      <td>0.251368</td>\n",
              "      <td>0.433037</td>\n",
              "      <td>0.0</td>\n",
              "      <td>0.0</td>\n",
              "      <td>0.0</td>\n",
              "      <td>0.6</td>\n",
              "      <td>1.0</td>\n",
              "      <td>0</td>\n",
              "      <td>cash</td>\n",
              "      <td>0.866075</td>\n",
              "    </tr>\n",
              "    <tr>\n",
              "      <td>2</td>\n",
              "      <td>time0_event</td>\n",
              "      <td>2158528</td>\n",
              "      <td>0.013662</td>\n",
              "      <td>0.115928</td>\n",
              "      <td>0.0</td>\n",
              "      <td>0.0</td>\n",
              "      <td>0.0</td>\n",
              "      <td>0.0</td>\n",
              "      <td>1.0</td>\n",
              "      <td>0</td>\n",
              "      <td>event</td>\n",
              "      <td>0.231857</td>\n",
              "    </tr>\n",
              "    <tr>\n",
              "      <td>3</td>\n",
              "      <td>time0_food</td>\n",
              "      <td>2158528</td>\n",
              "      <td>0.237202</td>\n",
              "      <td>0.424686</td>\n",
              "      <td>0.0</td>\n",
              "      <td>0.0</td>\n",
              "      <td>0.0</td>\n",
              "      <td>0.0</td>\n",
              "      <td>1.0</td>\n",
              "      <td>0</td>\n",
              "      <td>food</td>\n",
              "      <td>0.849372</td>\n",
              "    </tr>\n",
              "    <tr>\n",
              "      <td>4</td>\n",
              "      <td>time0_illegal_sarcasm</td>\n",
              "      <td>2158528</td>\n",
              "      <td>0.004348</td>\n",
              "      <td>0.065681</td>\n",
              "      <td>0.0</td>\n",
              "      <td>0.0</td>\n",
              "      <td>0.0</td>\n",
              "      <td>0.0</td>\n",
              "      <td>1.0</td>\n",
              "      <td>0</td>\n",
              "      <td>illegal_sarcasm</td>\n",
              "      <td>0.131361</td>\n",
              "    </tr>\n",
              "  </tbody>\n",
              "</table>\n",
              "</div>"
            ],
            "text/plain": [
              "0                summary    count      mean    stddev  min  25%  50%  75%  \\\n",
              "0         time0_activity  2158528  0.128438  0.334067  0.0  0.0  0.0  0.0   \n",
              "1             time0_cash  2158528  0.251368  0.433037  0.0  0.0  0.0  0.6   \n",
              "2            time0_event  2158528  0.013662  0.115928  0.0  0.0  0.0  0.0   \n",
              "3             time0_food  2158528  0.237202  0.424686  0.0  0.0  0.0  0.0   \n",
              "4  time0_illegal_sarcasm  2158528  0.004348  0.065681  0.0  0.0  0.0  0.0   \n",
              "\n",
              "0  max  time         category      2std  \n",
              "0  1.0     0         activity  0.668134  \n",
              "1  1.0     0             cash  0.866075  \n",
              "2  1.0     0            event  0.231857  \n",
              "3  1.0     0             food  0.849372  \n",
              "4  1.0     0  illegal_sarcasm  0.131361  "
            ]
          },
          "metadata": {
            "tags": []
          },
          "execution_count": 23
        }
      ]
    },
    {
      "cell_type": "code",
      "metadata": {
        "ExecuteTime": {
          "end_time": "2020-05-09T06:52:42.722796Z",
          "start_time": "2020-05-09T06:52:42.228580Z"
        },
        "id": "lxP8aqyPz1D_",
        "colab_type": "code",
        "outputId": "7340a616-997f-451a-d69e-59b6a8990208",
        "colab": {}
      },
      "source": [
        "# after lifetime 10, the means for all categories' spendings tend to be stable and close to zero. \n",
        "fig, ax = plt.subplots(figsize=(20, 10))\n",
        "\n",
        "for key, group in df_dynamic_summary.groupby('category'):\n",
        "    group.plot('time', 'mean', yerr='2std', label=key, ax=ax) \n",
        "\n",
        "plt.show()"
      ],
      "execution_count": 0,
      "outputs": [
        {
          "output_type": "display_data",
          "data": {
            "image/png": "[encoded data removed]",
            "text/plain": [
              "<Figure size 1440x720 with 1 Axes>"
            ]
          },
          "metadata": {
            "tags": [],
            "needs_background": "light"
          }
        }
      ]
    },
    {
      "cell_type": "markdown",
      "metadata": {
        "id": "woOc56_cz1EC",
        "colab_type": "text"
      },
      "source": [
        "# Part 2: Social network analytics "
      ]
    },
    {
      "cell_type": "markdown",
      "metadata": {
        "id": "dkyKOWY_z1EC",
        "colab_type": "text"
      },
      "source": [
        "## Q5 Find a user’s friends and friends of friends "
      ]
    },
    {
      "cell_type": "code",
      "metadata": {
        "ExecuteTime": {
          "end_time": "2020-05-04T22:53:31.232596Z",
          "start_time": "2020-05-04T22:53:31.227973Z"
        },
        "id": "Decyakojz1EF",
        "colab_type": "code",
        "colab": {}
      },
      "source": [
        "# PageRank, Connected Components, Triangle Counting\n",
        "import networkx as nx"
      ],
      "execution_count": 0,
      "outputs": []
    },
    {
      "cell_type": "code",
      "metadata": {
        "ExecuteTime": {
          "end_time": "2020-05-04T22:55:29.494855Z",
          "start_time": "2020-05-04T22:53:33.018943Z"
        },
        "id": "EbKwuVPcz1EO",
        "colab_type": "code",
        "outputId": "95161e34-4d71-417a-b655-d98386b3356f",
        "colab": {}
      },
      "source": [
        "edges = spark.sql(\"select user1, user2 from Venmo\")\n",
        "df_edges = edges.select(\"*\").toPandas()\n",
        "df_edges.head(3)"
      ],
      "execution_count": 0,
      "outputs": [
        {
          "output_type": "execute_result",
          "data": {
            "text/html": [
              "<div>\n",
              "<style scoped>\n",
              "    .dataframe tbody tr th:only-of-type {\n",
              "        vertical-align: middle;\n",
              "    }\n",
              "\n",
              "    .dataframe tbody tr th {\n",
              "        vertical-align: top;\n",
              "    }\n",
              "\n",
              "    .dataframe thead th {\n",
              "        text-align: right;\n",
              "    }\n",
              "</style>\n",
              "<table border=\"1\" class=\"dataframe\">\n",
              "  <thead>\n",
              "    <tr style=\"text-align: right;\">\n",
              "      <th></th>\n",
              "      <th>user1</th>\n",
              "      <th>user2</th>\n",
              "    </tr>\n",
              "  </thead>\n",
              "  <tbody>\n",
              "    <tr>\n",
              "      <td>0</td>\n",
              "      <td>1218774</td>\n",
              "      <td>1528945</td>\n",
              "    </tr>\n",
              "    <tr>\n",
              "      <td>1</td>\n",
              "      <td>5109483</td>\n",
              "      <td>4782303</td>\n",
              "    </tr>\n",
              "    <tr>\n",
              "      <td>2</td>\n",
              "      <td>4322148</td>\n",
              "      <td>3392963</td>\n",
              "    </tr>\n",
              "  </tbody>\n",
              "</table>\n",
              "</div>"
            ],
            "text/plain": [
              "     user1    user2\n",
              "0  1218774  1528945\n",
              "1  5109483  4782303\n",
              "2  4322148  3392963"
            ]
          },
          "metadata": {
            "tags": []
          },
          "execution_count": 5
        }
      ]
    },
    {
      "cell_type": "code",
      "metadata": {
        "ExecuteTime": {
          "end_time": "2020-05-04T23:24:46.927804Z",
          "start_time": "2020-05-04T23:19:26.002401Z"
        },
        "id": "ggxPKW77z1ER",
        "colab_type": "code",
        "outputId": "50ffd237-03ad-4fa1-c639-979ff1926946",
        "colab": {}
      },
      "source": [
        "# initiate empty directed graph\n",
        "DG = nx.DiGraph()\n",
        "\n",
        "pairs = list(zip(df_edges.user1, df_edges.user2))\n",
        "DG.add_edges_from(pairs)\n",
        "#list(G.nodes)\n",
        "#list(G.edges)\n",
        "# nx.draw_networkx(G)\n",
        "\n",
        "print(DG.number_of_nodes())\n",
        "print(DG.number_of_edges())\n",
        "print(nx.info(DG))"
      ],
      "execution_count": 0,
      "outputs": [
        {
          "output_type": "stream",
          "text": [
            "3018657\n",
            "5534634\n"
          ],
          "name": "stdout"
        }
      ]
    },
    {
      "cell_type": "code",
      "metadata": {
        "ExecuteTime": {
          "end_time": "2020-05-05T02:15:52.597948Z",
          "start_time": "2020-05-05T02:15:52.579480Z"
        },
        "id": "LHofcW_jz1EV",
        "colab_type": "code",
        "outputId": "293f3ed0-646a-4290-baf8-f757f4533131",
        "colab": {}
      },
      "source": [
        "nx.degree(DG, 1218774)"
      ],
      "execution_count": 0,
      "outputs": [
        {
          "output_type": "execute_result",
          "data": {
            "text/plain": [
              "5"
            ]
          },
          "metadata": {
            "tags": []
          },
          "execution_count": 19
        }
      ]
    },
    {
      "cell_type": "markdown",
      "metadata": {
        "id": "V41JmJYDz1EX",
        "colab_type": "text"
      },
      "source": [
        "## Q6 Use the dynamic analysis from before, and calculate the social network metrics across a user’s lifetime in Venmo "
      ]
    },
    {
      "cell_type": "markdown",
      "metadata": {
        "id": "YAQo826Bz1EY",
        "colab_type": "text"
      },
      "source": [
        "**i) Number of friends and number of friends of friends**"
      ]
    },
    {
      "cell_type": "code",
      "metadata": {
        "id": "p2E_LiXez1EY",
        "colab_type": "code",
        "colab": {}
      },
      "source": [
        "nx.degree(G, user1)"
      ],
      "execution_count": 0,
      "outputs": []
    },
    {
      "cell_type": "markdown",
      "metadata": {
        "id": "hSrRqUntz1Ec",
        "colab_type": "text"
      },
      "source": [
        "**ii) Clustering coefficient of a user's network**"
      ]
    },
    {
      "cell_type": "code",
      "metadata": {
        "id": "ffdkeJCRz1Ed",
        "colab_type": "code",
        "colab": {}
      },
      "source": [
        "nx.clustering(Graph, Node)"
      ],
      "execution_count": 0,
      "outputs": []
    },
    {
      "cell_type": "markdown",
      "metadata": {
        "id": "lTWGL63Nz1Eg",
        "colab_type": "text"
      },
      "source": [
        "**iii) Calculate the page rank of each user**"
      ]
    },
    {
      "cell_type": "code",
      "metadata": {
        "id": "usQ3kJfUz1Eh",
        "colab_type": "code",
        "colab": {}
      },
      "source": [
        ""
      ],
      "execution_count": 0,
      "outputs": []
    },
    {
      "cell_type": "markdown",
      "metadata": {
        "id": "30c9PN0ez1FW",
        "colab_type": "text"
      },
      "source": [
        "# Part 3: Predictive analytics with MLlib "
      ]
    },
    {
      "cell_type": "markdown",
      "metadata": {
        "id": "foI_CzdHz1FX",
        "colab_type": "text"
      },
      "source": [
        "## Q7 Create dependent variable Y - the total number of transactions during her/his twelve months in Venmo"
      ]
    },
    {
      "cell_type": "code",
      "metadata": {
        "ExecuteTime": {
          "end_time": "2020-05-11T02:37:05.424750Z",
          "start_time": "2020-05-11T02:26:41.804917Z"
        },
        "id": "6m5jkfJoz1FZ",
        "colab_type": "code",
        "outputId": "c167f379-97f8-4e01-94db-82ec62e68fe8",
        "colab": {
          "base_uri": "https://localhost:8080/",
          "height": 459
        }
      },
      "source": [
        "# calculate total number of transactions for each user on Venmo\n",
        "df_y = spark.sql(\"select user1, count(*) as y from lifetime_tbl group by user1\")\n",
        "df_y.createOrReplaceTempView(\"df_y\")\n",
        "df_y.show()"
      ],
      "execution_count": 23,
      "outputs": [
        {
          "output_type": "stream",
          "text": [
            "+-----+---+\n",
            "|user1|  y|\n",
            "+-----+---+\n",
            "| 2866|  1|\n",
            "| 6620|  1|\n",
            "|28170|  1|\n",
            "|28759|  4|\n",
            "|29894|  2|\n",
            "|33602|  3|\n",
            "|36525|  3|\n",
            "|47283|  2|\n",
            "|51415|  5|\n",
            "|53963|  1|\n",
            "|59990|  3|\n",
            "|63087|  3|\n",
            "|64423|  1|\n",
            "|65408|  1|\n",
            "|67492| 12|\n",
            "|67861|  2|\n",
            "|68202|  1|\n",
            "|71995|  1|\n",
            "|72758|  2|\n",
            "|74775|  2|\n",
            "+-----+---+\n",
            "only showing top 20 rows\n",
            "\n"
          ],
          "name": "stdout"
        }
      ]
    },
    {
      "cell_type": "markdown",
      "metadata": {
        "id": "21043nHaz1Fb",
        "colab_type": "text"
      },
      "source": [
        "## Q8 Create the recency and frequency variables "
      ]
    },
    {
      "cell_type": "code",
      "metadata": {
        "ExecuteTime": {
          "end_time": "2020-05-11T02:38:43.740544Z",
          "start_time": "2020-05-11T02:38:43.553863Z"
        },
        "id": "3zG0bpAoz1Fd",
        "colab_type": "code",
        "colab": {}
      },
      "source": [
        "# create dataframe with two columns: user1 and time_list (0-12)\n",
        "# each user has lifetime 0 to 12\n",
        "lst = [0,1,2,3,4,5,6,7,8,9,10,11,12]\n",
        "df_timelst = df_y.withColumn(\"time_lst\", F.array([F.lit(x) for x in lst]))\n",
        "df_timelst = df_timelst.withColumn(\"time_lst\", F.explode(col(\"time_lst\")))\n",
        "\n",
        "# summarize number of transactions and the last transaction day in each lifetime period\n",
        "df_summary = spark.sql(\"select user1, lifetime_indicator, count(*) as freq_times, max(days) as max_days \\\n",
        "           from lifetime_tbl \\\n",
        "           group by user1, lifetime_indicator\")\n",
        "\n",
        "df_timelst.createOrReplaceTempView(\"df_timelst\")\n",
        "df_summary.createOrReplaceTempView(\"df_summary\")"
      ],
      "execution_count": 0,
      "outputs": []
    },
    {
      "cell_type": "code",
      "metadata": {
        "ExecuteTime": {
          "end_time": "2020-05-11T02:52:15.044121Z",
          "start_time": "2020-05-11T02:38:47.752461Z"
        },
        "id": "nB4Sa5uXz1Fm",
        "colab_type": "code",
        "outputId": "cec7215c-73e8-4c24-f586-904741ef95a0",
        "colab": {
          "base_uri": "https://localhost:8080/",
          "height": 459
        }
      },
      "source": [
        "# union dataframes and remove duplicated lifetime\n",
        "df_distinct_summary = spark.sql(\"select user1, lifetime_indicator, max(max_days) as max_days, \\\n",
        "                        max(freq_times) as freq_times \\\n",
        "                  from \\\n",
        "                      (select user1, lifetime_indicator, max_days, freq_times from df_summary \\\n",
        "                      union  \\\n",
        "                      select user1, time_lst, null as max_days, null as freq_times from df_timelst) T \\\n",
        "                  group by user1, lifetime_indicator \\\n",
        "                  order by user1, lifetime_indicator \")\n",
        "\n",
        "df_distinct_summary.createOrReplaceTempView(\"df_distinct_summary\")\n",
        "df_distinct_summary.show()"
      ],
      "execution_count": 25,
      "outputs": [
        {
          "output_type": "stream",
          "text": [
            "+-----+------------------+--------+----------+\n",
            "|user1|lifetime_indicator|max_days|freq_times|\n",
            "+-----+------------------+--------+----------+\n",
            "|    2|                 0|       0|         1|\n",
            "|    2|                 1|    null|      null|\n",
            "|    2|                 2|    null|      null|\n",
            "|    2|                 3|    null|      null|\n",
            "|    2|                 4|    null|      null|\n",
            "|    2|                 5|    null|      null|\n",
            "|    2|                 6|    null|      null|\n",
            "|    2|                 7|    null|      null|\n",
            "|    2|                 8|    null|      null|\n",
            "|    2|                 9|    null|      null|\n",
            "|    2|                10|    null|      null|\n",
            "|    2|                11|    null|      null|\n",
            "|    2|                12|    null|      null|\n",
            "|    3|                 0|       0|         2|\n",
            "|    3|                 1|      17|         5|\n",
            "|    3|                 2|    null|      null|\n",
            "|    3|                 3|    null|      null|\n",
            "|    3|                 4|    null|      null|\n",
            "|    3|                 5|    null|      null|\n",
            "|    3|                 6|    null|      null|\n",
            "+-----+------------------+--------+----------+\n",
            "only showing top 20 rows\n",
            "\n"
          ],
          "name": "stdout"
        }
      ]
    },
    {
      "cell_type": "code",
      "metadata": {
        "ExecuteTime": {
          "end_time": "2020-05-11T03:13:20.847660Z",
          "start_time": "2020-05-11T02:53:42.473708Z"
        },
        "scrolled": true,
        "id": "tKj7GjKUz1Fu",
        "colab_type": "code",
        "outputId": "3137d3ab-410e-4df5-dd06-66d15a54480f",
        "colab": {
          "base_uri": "https://localhost:8080/",
          "height": 1000
        }
      },
      "source": [
        "# calculate frequency and recency\n",
        "# frequency: how often a user uses Venmo in a month. It is standardized and equals to (number of transactions/30)\n",
        "# recency: the last time a user was active\n",
        "    #if a user has used Venmo twice during her first month in Venmo with the second time being on day x, \n",
        "    #then her recency in month 1 is “30-x”\n",
        "\n",
        "df_x = spark.sql(\"select user1, lifetime_indicator, max_days, \\\n",
        "                ifnull(freq_times, 0)/30 as frequency, \\\n",
        "                (lifetime_indicator*30-max(max_days) \\\n",
        "                    over(partition by user1 \\\n",
        "                         order by lifetime_indicator asc \\\n",
        "                         range between unbounded preceding and current row)) as recency \\\n",
        "              from df_distinct_summary \\\n",
        "              order by user1, lifetime_indicator\")\n",
        "\n",
        "df_x.createOrReplaceTempView(\"df_x\")\n",
        "df_x.show(60)"
      ],
      "execution_count": 26,
      "outputs": [
        {
          "output_type": "stream",
          "text": [
            "+-----+------------------+--------+-------------------+-------+\n",
            "|user1|lifetime_indicator|max_days|          frequency|recency|\n",
            "+-----+------------------+--------+-------------------+-------+\n",
            "|    2|                 0|       0|0.03333333333333333|      0|\n",
            "|    2|                 1|    null|                0.0|     30|\n",
            "|    2|                 2|    null|                0.0|     60|\n",
            "|    2|                 3|    null|                0.0|     90|\n",
            "|    2|                 4|    null|                0.0|    120|\n",
            "|    2|                 5|    null|                0.0|    150|\n",
            "|    2|                 6|    null|                0.0|    180|\n",
            "|    2|                 7|    null|                0.0|    210|\n",
            "|    2|                 8|    null|                0.0|    240|\n",
            "|    2|                 9|    null|                0.0|    270|\n",
            "|    2|                10|    null|                0.0|    300|\n",
            "|    2|                11|    null|                0.0|    330|\n",
            "|    2|                12|    null|                0.0|    360|\n",
            "|    3|                 0|       0|0.06666666666666667|      0|\n",
            "|    3|                 1|      17|0.16666666666666666|     13|\n",
            "|    3|                 2|    null|                0.0|     43|\n",
            "|    3|                 3|    null|                0.0|     73|\n",
            "|    3|                 4|    null|                0.0|    103|\n",
            "|    3|                 5|    null|                0.0|    133|\n",
            "|    3|                 6|    null|                0.0|    163|\n",
            "|    3|                 7|    null|                0.0|    193|\n",
            "|    3|                 8|    null|                0.0|    223|\n",
            "|    3|                 9|    null|                0.0|    253|\n",
            "|    3|                10|    null|                0.0|    283|\n",
            "|    3|                11|    null|                0.0|    313|\n",
            "|    3|                12|    null|                0.0|    343|\n",
            "|    4|                 0|       0|0.03333333333333333|      0|\n",
            "|    4|                 1|      12|0.03333333333333333|     18|\n",
            "|    4|                 2|    null|                0.0|     48|\n",
            "|    4|                 3|    null|                0.0|     78|\n",
            "|    4|                 4|    null|                0.0|    108|\n",
            "|    4|                 5|    null|                0.0|    138|\n",
            "|    4|                 6|    null|                0.0|    168|\n",
            "|    4|                 7|    null|                0.0|    198|\n",
            "|    4|                 8|    null|                0.0|    228|\n",
            "|    4|                 9|    null|                0.0|    258|\n",
            "|    4|                10|    null|                0.0|    288|\n",
            "|    4|                11|    null|                0.0|    318|\n",
            "|    4|                12|    null|                0.0|    348|\n",
            "|   10|                 0|       0|0.03333333333333333|      0|\n",
            "|   10|                 1|      28|0.03333333333333333|      2|\n",
            "|   10|                 2|      50|0.06666666666666667|     10|\n",
            "|   10|                 3|    null|                0.0|     40|\n",
            "|   10|                 4|     106|0.06666666666666667|     14|\n",
            "|   10|                 5|     131|0.03333333333333333|     19|\n",
            "|   10|                 6|    null|                0.0|     49|\n",
            "|   10|                 7|    null|                0.0|     79|\n",
            "|   10|                 8|    null|                0.0|    109|\n",
            "|   10|                 9|    null|                0.0|    139|\n",
            "|   10|                10|    null|                0.0|    169|\n",
            "|   10|                11|    null|                0.0|    199|\n",
            "|   10|                12|    null|                0.0|    229|\n",
            "|   11|                 0|       0|0.06666666666666667|      0|\n",
            "|   11|                 1|    null|                0.0|     30|\n",
            "|   11|                 2|    null|                0.0|     60|\n",
            "|   11|                 3|      78|0.06666666666666667|     12|\n",
            "|   11|                 4|      93|0.03333333333333333|     27|\n",
            "|   11|                 5|     142|                0.1|      8|\n",
            "|   11|                 6|     178|0.06666666666666667|      2|\n",
            "|   11|                 7|    null|                0.0|     32|\n",
            "+-----+------------------+--------+-------------------+-------+\n",
            "only showing top 60 rows\n",
            "\n"
          ],
          "name": "stdout"
        }
      ]
    },
    {
      "cell_type": "markdown",
      "metadata": {
        "id": "swcUlHCmz1F0",
        "colab_type": "text"
      },
      "source": [
        "## Q9 For each user’s lifetime point, regress recency and frequency on ​Y. Plot the MSE for each lifetime point "
      ]
    },
    {
      "cell_type": "code",
      "metadata": {
        "ExecuteTime": {
          "end_time": "2020-05-11T06:24:46.513533Z",
          "start_time": "2020-05-11T06:07:10.616365Z"
        },
        "code_folding": [],
        "id": "KPrYCcflz1F1",
        "colab_type": "code",
        "outputId": "2fb77e1f-5dd6-424e-fc5a-ae44924c568d",
        "colab": {
          "base_uri": "https://localhost:8080/",
          "height": 459
        }
      },
      "source": [
        "# join tables to combine user lifetime, frequency, recency and number of total transactions (y)\n",
        "df_input = spark.sql(\"select user1, lifetime_indicator, frequency, recency, y \\\n",
        "                  from df_x join df_y using (user1) \\\n",
        "                  order by user1, lifetime_indicator\")\n",
        "df_input.createOrReplaceTempView(\"df_input\")\n",
        "df_input.show()"
      ],
      "execution_count": 27,
      "outputs": [
        {
          "output_type": "stream",
          "text": [
            "+-----+------------------+-------------------+-------+---+\n",
            "|user1|lifetime_indicator|          frequency|recency|  y|\n",
            "+-----+------------------+-------------------+-------+---+\n",
            "|    2|                 0|0.03333333333333333|      0|  1|\n",
            "|    2|                 1|                0.0|     30|  1|\n",
            "|    2|                 2|                0.0|     60|  1|\n",
            "|    2|                 3|                0.0|     90|  1|\n",
            "|    2|                 4|                0.0|    120|  1|\n",
            "|    2|                 5|                0.0|    150|  1|\n",
            "|    2|                 6|                0.0|    180|  1|\n",
            "|    2|                 7|                0.0|    210|  1|\n",
            "|    2|                 8|                0.0|    240|  1|\n",
            "|    2|                 9|                0.0|    270|  1|\n",
            "|    2|                10|                0.0|    300|  1|\n",
            "|    2|                11|                0.0|    330|  1|\n",
            "|    2|                12|                0.0|    360|  1|\n",
            "|    3|                 0|0.06666666666666667|      0|  7|\n",
            "|    3|                 1|0.16666666666666666|     13|  7|\n",
            "|    3|                 2|                0.0|     43|  7|\n",
            "|    3|                 3|                0.0|     73|  7|\n",
            "|    3|                 4|                0.0|    103|  7|\n",
            "|    3|                 5|                0.0|    133|  7|\n",
            "|    3|                 6|                0.0|    163|  7|\n",
            "+-----+------------------+-------------------+-------+---+\n",
            "only showing top 20 rows\n",
            "\n"
          ],
          "name": "stdout"
        }
      ]
    },
    {
      "cell_type": "code",
      "metadata": {
        "ExecuteTime": {
          "end_time": "2020-05-12T05:34:15.264636Z",
          "start_time": "2020-05-12T05:34:13.293282Z"
        },
        "id": "RJDEkhcSz1F3",
        "colab_type": "code",
        "colab": {}
      },
      "source": [
        "df_input_time0 = spark.sql(\"select * from df_input where lifetime_indicator=0 \")\n",
        "df_input_time1 = spark.sql(\"select * from df_input where lifetime_indicator=1 \")\n",
        "df_input_time2 = spark.sql(\"select * from df_input where lifetime_indicator=2 \")\n",
        "df_input_time3 = spark.sql(\"select * from df_input where lifetime_indicator=3 \")\n",
        "df_input_time4 = spark.sql(\"select * from df_input where lifetime_indicator=4 \")\n",
        "df_input_time5 = spark.sql(\"select * from df_input where lifetime_indicator=5 \")\n",
        "df_input_time6 = spark.sql(\"select * from df_input where lifetime_indicator=6 \")\n",
        "df_input_time7 = spark.sql(\"select * from df_input where lifetime_indicator=7 \")\n",
        "df_input_time8 = spark.sql(\"select * from df_input where lifetime_indicator=8 \")\n",
        "df_input_time9 = spark.sql(\"select * from df_input where lifetime_indicator=9 \")\n",
        "df_input_time10 = spark.sql(\"select * from df_input where lifetime_indicator=10 \")\n",
        "df_input_time11 = spark.sql(\"select * from df_input where lifetime_indicator=11 \")\n",
        "df_input_time12 = spark.sql(\"select * from df_input where lifetime_indicator=12 \")"
      ],
      "execution_count": 0,
      "outputs": []
    },
    {
      "cell_type": "code",
      "metadata": {
        "ExecuteTime": {
          "end_time": "2020-05-12T05:41:46.695980Z",
          "start_time": "2020-05-12T05:41:46.602133Z"
        },
        "id": "AVZCZtwIz1GX",
        "colab_type": "code",
        "colab": {}
      },
      "source": [
        "def lifetimeMSE(inputdata):\n",
        "    Assembler = VectorAssembler(inputCols = ['lifetime_indicator', 'frequency', 'recency'], \n",
        "                                outputCol ='features')\n",
        "    output = Assembler.transform(inputdata)\n",
        "    finalData = output.select('features','y')\n",
        "    trainData, testData = finalData.randomSplit([0.7, 0.3], seed=1)\n",
        "    lrModel = LinearRegression(labelCol ='y', featuresCol='features')\n",
        "    lrEstimator = lrModel.fit(trainData)\n",
        "    testResults = lrEstimator.evaluate(testData)\n",
        "    rmse = testResults.rootMeanSquaredError\n",
        "    mse = rmse**2\n",
        "    return mse"
      ],
      "execution_count": 0,
      "outputs": []
    },
    {
      "cell_type": "code",
      "metadata": {
        "ExecuteTime": {
          "end_time": "2020-05-12T05:49:55.705085Z",
          "start_time": "2020-05-12T05:49:50.712460Z"
        },
        "collapsed": true,
        "id": "nYyKDwA4z1Gl",
        "colab_type": "code",
        "outputId": "15a4c550-2232-490c-8214-6ea17dae27fc",
        "colab": {
          "base_uri": "https://localhost:8080/",
          "height": 232
        }
      },
      "source": [
        "Lifetime = [0,1,2,3,4,5,6,7,8,9,10,11,12]\n",
        "\n",
        "MSE = []\n",
        "MSE_time0 = lifetimeMSE(df_input_time0)\n",
        "MSE_time1 = lifetimeMSE(df_input_time1)\n",
        "MSE_time2 = lifetimeMSE(df_input_time2)\n",
        "MSE_time3 = lifetimeMSE(df_input_time3)\n",
        "MSE_time4 = lifetimeMSE(df_input_time4)\n",
        "MSE_time5 = lifetimeMSE(df_input_time5)\n",
        "MSE_time6 = lifetimeMSE(df_input_time6)\n",
        "MSE_time7 = lifetimeMSE(df_input_time7)\n",
        "MSE_time8 = lifetimeMSE(df_input_time8)\n",
        "MSE_time9 = lifetimeMSE(df_input_time9)\n",
        "MSE_time10 = lifetimeMSE(df_input_time10)\n",
        "MSE_time11 = lifetimeMSE(df_input_time11)\n",
        "MSE_time12 = lifetimeMSE(df_input_time12)\n",
        "\n",
        "MSE.extend([MSE_time0, MSE_time2, MSE_time3, MSE_time4, MSE_time5, MSE_time6, MSE_time7, MSE_time8, \n",
        "           MSE_time9, MSE_time10, MSE_time11, MSE_time12])\n",
        "MSE"
      ],
      "execution_count": 1,
      "outputs": [
        {
          "output_type": "error",
          "ename": "NameError",
          "evalue": "ignored",
          "traceback": [
            "\u001b[0;31m---------------------------------------------------------------------------\u001b[0m",
            "\u001b[0;31mNameError\u001b[0m                                 Traceback (most recent call last)",
            "\u001b[0;32m<ipython-input-1-4ff60de2d9d9>\u001b[0m in \u001b[0;36m<module>\u001b[0;34m()\u001b[0m\n\u001b[1;32m      2\u001b[0m \u001b[0;34m\u001b[0m\u001b[0m\n\u001b[1;32m      3\u001b[0m \u001b[0mMSE\u001b[0m \u001b[0;34m=\u001b[0m \u001b[0;34m[\u001b[0m\u001b[0;34m]\u001b[0m\u001b[0;34m\u001b[0m\u001b[0;34m\u001b[0m\u001b[0m\n\u001b[0;32m----> 4\u001b[0;31m \u001b[0mMSE_time0\u001b[0m \u001b[0;34m=\u001b[0m \u001b[0mlifetimeMSE\u001b[0m\u001b[0;34m(\u001b[0m\u001b[0mdf_input_time0\u001b[0m\u001b[0;34m)\u001b[0m\u001b[0;34m\u001b[0m\u001b[0;34m\u001b[0m\u001b[0m\n\u001b[0m\u001b[1;32m      5\u001b[0m \u001b[0mMSE_time1\u001b[0m \u001b[0;34m=\u001b[0m \u001b[0mlifetimeMSE\u001b[0m\u001b[0;34m(\u001b[0m\u001b[0mdf_input_time1\u001b[0m\u001b[0;34m)\u001b[0m\u001b[0;34m\u001b[0m\u001b[0;34m\u001b[0m\u001b[0m\n\u001b[1;32m      6\u001b[0m \u001b[0mMSE_time2\u001b[0m \u001b[0;34m=\u001b[0m \u001b[0mlifetimeMSE\u001b[0m\u001b[0;34m(\u001b[0m\u001b[0mdf_input_time2\u001b[0m\u001b[0;34m)\u001b[0m\u001b[0;34m\u001b[0m\u001b[0;34m\u001b[0m\u001b[0m\n",
            "\u001b[0;31mNameError\u001b[0m: name 'lifetimeMSE' is not defined"
          ]
        }
      ]
    },
    {
      "cell_type": "code",
      "metadata": {
        "id": "BKCmHuoryaxb",
        "colab_type": "code",
        "colab": {}
      },
      "source": [
        "from matplotlib.pyplot import plot\n",
        "plot(Lifetime, MSE, 'go--', linewidth=2, markersize=12) "
      ],
      "execution_count": 0,
      "outputs": []
    },
    {
      "cell_type": "markdown",
      "metadata": {
        "id": "EgAMosK4z1Gv",
        "colab_type": "text"
      },
      "source": [
        "## Q10 For each user’s lifetime point, regress recency, frequency AND her spending behavior profile on Y. Plot the MSE for each lifetime point like above"
      ]
    },
    {
      "cell_type": "code",
      "metadata": {
        "id": "jgKjZiZ0z1Gz",
        "colab_type": "code",
        "colab": {}
      },
      "source": [
        "df_dycfull_profile = spark.sql(\"select user1, lifetime_indicator, max(frequency) as frequency, \\\n",
        "                    max(recency) as recency, max(ifnull(people,0)) as people, \\\n",
        "                    max(ifnull(food,0)) as food, max(ifnull(activity,0)) as activity, \\\n",
        "                    max(ifnull(event,0)) as event, max(ifnull(travel,0)) as travel, \\\n",
        "                    max(ifnull(cash,0)) as cash, max(ifnull(utility,0)) as utility, \\\n",
        "                    max(ifnull(trasportation,0)) as trasportation, \\\n",
        "                    max(ifnull(illegal_sarcasm,0)) as illegal_sarcasm, \\\n",
        "                    max(ifnull(no_class,0)) as no_class \\\n",
        "                  from \\\n",
        "                      (select *, null, null from dynamic_profile \\\n",
        "                      union  \\\n",
        "                      select user1, lifetime_indicator, \\\n",
        "                          null,null,null,null,null,null,null,null,null,null, \\\n",
        "                          frequency, recency from df_input) T \\\n",
        "                  group by user1, lifetime_indicator \\\n",
        "                  order by user1, lifetime_indicator \")\n",
        "\n",
        "df_dycfull_profile.createOrReplaceTempView(\"df_dycfull_profile\")\n",
        "df_dycfull_profile.show()"
      ],
      "execution_count": 0,
      "outputs": []
    },
    {
      "cell_type": "code",
      "metadata": {
        "id": "p5wqbRWRz1G2",
        "colab_type": "code",
        "colab": {}
      },
      "source": [
        "df_dynamic_input = spark.sql(\"select * \\\n",
        "                  from df_dycfull_profile join df7 using (user1) \\\n",
        "                  order by user1, lifetime_indicator\")\n",
        "\n",
        "df_dynamic_input.createOrReplaceTempView(\"df_dynamic_input\")"
      ],
      "execution_count": 0,
      "outputs": []
    },
    {
      "cell_type": "code",
      "metadata": {
        "id": "GHXVYb37I0K5",
        "colab_type": "code",
        "colab": {}
      },
      "source": [
        "df_dynamic_input_time0 = spark.sql(\"select * from df_dynamic_input where lifetime_indicator=0 \")\n",
        "df_dynamic_input_time1 = spark.sql(\"select * from df_dynamic_input where lifetime_indicator=1 \")\n",
        "df_dynamic_input_time2 = spark.sql(\"select * from df_dynamic_input where lifetime_indicator=2 \")\n",
        "df_dynamic_input_time3 = spark.sql(\"select * from df_dynamic_input where lifetime_indicator=3 \")\n",
        "df_dynamic_input_time4 = spark.sql(\"select * from df_dynamic_input where lifetime_indicator=4 \")\n",
        "df_dynamic_input_time5 = spark.sql(\"select * from df_dynamic_input where lifetime_indicator=5 \")\n",
        "df_dynamic_input_time6 = spark.sql(\"select * from df_dynamic_input where lifetime_indicator=6 \")\n",
        "df_dynamic_input_time7 = spark.sql(\"select * from df_dynamic_input where lifetime_indicator=7 \")\n",
        "df_dynamic_input_time8 = spark.sql(\"select * from df_dynamic_input where lifetime_indicator=8 \")\n",
        "df_dynamic_input_time9 = spark.sql(\"select * from df_dynamic_input where lifetime_indicator=9 \")\n",
        "df_dynamic_input_time10 = spark.sql(\"select * from df_dynamic_input where lifetime_indicator=10 \")\n",
        "df_dynamic_input_time11 = spark.sql(\"select * from df_dynamic_input where lifetime_indicator=11 \")\n",
        "df_dynamic_input_time12 = spark.sql(\"select * from df_dynamic_input where lifetime_indicator=12 \")"
      ],
      "execution_count": 0,
      "outputs": []
    },
    {
      "cell_type": "code",
      "metadata": {
        "id": "rx-NNEbrI0bn",
        "colab_type": "code",
        "colab": {}
      },
      "source": [
        "def dynamicMSE(inputdata):\n",
        "    Assembler = VectorAssembler(inputCols = ['lifetime_indicator', 'people', 'food', \n",
        "                            'activity', 'event', 'travel', 'trasportation', 'cash', \\\n",
        "                            'utility', 'illegal_sarcasm', 'no_class', 'frequency', 'recency'], \n",
        "                                outputCol ='features')\n",
        "    output = Assembler.transform(inputdata)\n",
        "    finalData = output.select('features','y')\n",
        "    trainData, testData = finalData.randomSplit([0.7, 0.3], seed=1)\n",
        "    lrModel = LinearRegression(labelCol ='y', featuresCol='features')\n",
        "    lrEstimator = lrModel.fit(trainData)\n",
        "    testResults = lrEstimator.evaluate(testData)\n",
        "    rmse = testResults.rootMeanSquaredError\n",
        "    mse = rmse**2\n",
        "    return mse"
      ],
      "execution_count": 0,
      "outputs": []
    },
    {
      "cell_type": "code",
      "metadata": {
        "id": "eriP9VhgI0rK",
        "colab_type": "code",
        "colab": {}
      },
      "source": [
        "dynamic_MSE = []\n",
        "dynamic_MSE_time0 = dynamicMSE(df_dynamic_input_time0)\n",
        "dynamic_MSE_time1 = dynamicMSE(df_dynamic_input_time1)\n",
        "dynamic_MSE_time2 = dynamicMSE(df_dynamic_input_time2)\n",
        "dynamic_MSE_time3 = dynamicMSE(df_dynamic_input_time3)\n",
        "dynamic_MSE_time4 = dynamicMSE(df_dynamic_input_time4)\n",
        "dynamic_MSE_time5 = dynamicMSE(df_dynamic_input_time5)\n",
        "dynamic_MSE_time6 = dynamicMSE(df_dynamic_input_time6)\n",
        "dynamic_MSE_time7 = dynamicMSE(df_dynamic_input_time7)\n",
        "dynamic_MSE_time8 = dynamicMSE(df_dynamic_input_time8)\n",
        "dynamic_MSE_time9 = dynamicMSE(df_dynamic_input_time9)\n",
        "dynamic_MSE_time10 = dynamicMSE(df_dynamic_input_time10)\n",
        "dynamic_MSE_time11 = dynamicMSE(df_dynamic_input_time11)\n",
        "dynamic_MSE_time12 = dynamicMSE(df_dynamic_input_time12)\n",
        "\n",
        "dynamic_MSE.extend([dynamic_MSE_time0, dynamic_MSE_time2, dynamic_MSE_time3, \n",
        "                    dynamic_MSE_time4, dynamic_MSE_time5, dynamic_MSE_time6, \n",
        "                    dynamic_MSE_time7, dynamic_MSE_time8, dynamic_MSE_time9, \n",
        "                    dynamic_MSE_time10, dynamic_MSE_time11, dynamic_MSE_time12])\n",
        "dynamic_MSE"
      ],
      "execution_count": 0,
      "outputs": []
    },
    {
      "cell_type": "code",
      "metadata": {
        "id": "FEIhvHRMM4XV",
        "colab_type": "code",
        "colab": {}
      },
      "source": [
        "plot(Lifetime, dynamic_MSE, 'go--', linewidth=2, markersize=12) "
      ],
      "execution_count": 0,
      "outputs": []
    },
    {
      "cell_type": "markdown",
      "metadata": {
        "id": "ybhTNdLqz1G9",
        "colab_type": "text"
      },
      "source": [
        "## Q11 For each user’s lifetime point, regress her social network metrics on Y. Plot the MSE for each lifetime point like above"
      ]
    },
    {
      "cell_type": "code",
      "metadata": {
        "id": "9apU7SP-z1G-",
        "colab_type": "code",
        "colab": {}
      },
      "source": [
        ""
      ],
      "execution_count": 0,
      "outputs": []
    },
    {
      "cell_type": "code",
      "metadata": {
        "id": "z_M7hRslz1HC",
        "colab_type": "code",
        "colab": {}
      },
      "source": [
        ""
      ],
      "execution_count": 0,
      "outputs": []
    },
    {
      "cell_type": "markdown",
      "metadata": {
        "id": "lpumitI0z1HG",
        "colab_type": "text"
      },
      "source": [
        "## Q12 For each user’s lifetime point, regress her social network metrics and the spending behavior of her social network on Y. Plot the MSE for each lifetime point like above"
      ]
    },
    {
      "cell_type": "code",
      "metadata": {
        "id": "Vp5luq-mz1HH",
        "colab_type": "code",
        "colab": {}
      },
      "source": [
        ""
      ],
      "execution_count": 0,
      "outputs": []
    },
    {
      "cell_type": "code",
      "metadata": {
        "id": "RE61wx8Sz1HO",
        "colab_type": "code",
        "colab": {}
      },
      "source": [
        ""
      ],
      "execution_count": 0,
      "outputs": []
    }
  ]
}