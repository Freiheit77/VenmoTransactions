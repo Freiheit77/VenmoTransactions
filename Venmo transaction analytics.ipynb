{
 "cells": [
  {
   "cell_type": "code",
   "execution_count": 1,
   "metadata": {
    "ExecuteTime": {
     "end_time": "2020-05-10T23:21:58.424082Z",
     "start_time": "2020-05-10T23:21:56.259279Z"
    }
   },
   "outputs": [],
   "source": [
    "import pandas as pd\n",
    "import matplotlib.pyplot as plt\n",
    "\n",
    "# spark\n",
    "import findspark\n",
    "findspark.init('/usr/local/Cellar/apache-spark/2.4.5/libexec')\n",
    "from pyspark.sql import SparkSession\n",
    "from pyspark.sql import SQLContext\n",
    "from pyspark.sql.functions import monotonically_increasing_id\n",
    "import pyspark.sql.functions as F\n",
    "from pyspark.sql.functions import concat, col, lit, when, max\n",
    "\n",
    "# social network \n",
    "import networkx as nx\n",
    "\n",
    "# emoji and regex\n",
    "import functools\n",
    "import operator\n",
    "import re\n",
    "import emoji\n",
    "from collections import Counter"
   ]
  },
  {
   "cell_type": "markdown",
   "metadata": {},
   "source": [
    "# Part 1: Text analytics "
   ]
  },
  {
   "cell_type": "markdown",
   "metadata": {},
   "source": [
    "## load dataset "
   ]
  },
  {
   "cell_type": "code",
   "execution_count": 2,
   "metadata": {
    "ExecuteTime": {
     "end_time": "2020-05-10T23:22:18.925615Z",
     "start_time": "2020-05-10T23:22:04.688820Z"
    }
   },
   "outputs": [],
   "source": [
    "# initialise sparkContext\n",
    "spark = SparkSession.builder \\\n",
    "        .master('local') \\\n",
    "        .appName('Venmo') \\\n",
    "        .config('spark.executor.memory', '10gb') \\\n",
    "        .config(\"spark.cores.max\", \"6\") \\\n",
    "        .getOrCreate()\n",
    "\n",
    "# read parquet file\n",
    "df_venmo = spark.read.parquet('VenmoSample.snappy.parquet')"
   ]
  },
  {
   "cell_type": "code",
   "execution_count": 7,
   "metadata": {
    "ExecuteTime": {
     "end_time": "2020-05-04T01:58:01.008013Z",
     "start_time": "2020-05-04T01:57:59.222673Z"
    }
   },
   "outputs": [
    {
     "data": {
      "text/plain": [
       "7113137"
      ]
     },
     "execution_count": 7,
     "metadata": {},
     "output_type": "execute_result"
    }
   ],
   "source": [
    "# count total number of records\n",
    "df_venmo.count()"
   ]
  },
  {
   "cell_type": "code",
   "execution_count": 4,
   "metadata": {
    "ExecuteTime": {
     "end_time": "2020-05-01T21:21:58.390482Z",
     "start_time": "2020-05-01T21:21:58.369352Z"
    },
    "scrolled": true
   },
   "outputs": [
    {
     "name": "stdout",
     "output_type": "stream",
     "text": [
      "root\n",
      " |-- user1: integer (nullable = true)\n",
      " |-- user2: integer (nullable = true)\n",
      " |-- transaction_type: string (nullable = true)\n",
      " |-- datetime: timestamp (nullable = true)\n",
      " |-- description: string (nullable = true)\n",
      " |-- is_business: boolean (nullable = true)\n",
      " |-- story_id: string (nullable = true)\n",
      "\n"
     ]
    }
   ],
   "source": [
    "df_venmo.printSchema()"
   ]
  },
  {
   "cell_type": "code",
   "execution_count": 3,
   "metadata": {
    "ExecuteTime": {
     "end_time": "2020-05-10T23:22:57.411394Z",
     "start_time": "2020-05-10T23:22:52.893686Z"
    }
   },
   "outputs": [
    {
     "name": "stdout",
     "output_type": "stream",
     "text": [
      "+-------+-------+----------------+-------------------+------------+-----------+--------------------+-----+\n",
      "|  user1|  user2|transaction_type|           datetime| description|is_business|            story_id|index|\n",
      "+-------+-------+----------------+-------------------+------------+-----------+--------------------+-----+\n",
      "|1218774|1528945|         payment|2015-11-27 02:48:19|        Uber|      false|5657c473cd03c9af2...|    0|\n",
      "|5109483|4782303|         payment|2015-06-17 04:37:04|      Costco|      false|5580f9702b64f70ab...|    1|\n",
      "|4322148|3392963|         payment|2015-06-19 00:05:31|Sweaty balls|      false|55835ccb1a624b14a...|    2|\n",
      "| 469894|1333620|          charge|2016-06-03 16:34:13|          🎥|      false|5751b185cd03c9af2...|    3|\n",
      "|2960727|3442373|         payment|2016-05-29 16:23:42|           ⚡|      false|574b178ecd03c9af2...|    4|\n",
      "+-------+-------+----------------+-------------------+------------+-----------+--------------------+-----+\n",
      "only showing top 5 rows\n",
      "\n"
     ]
    }
   ],
   "source": [
    "# add index column and create temporary view\n",
    "df_venmo = df_venmo.withColumn(\"index\", monotonically_increasing_id())\n",
    "df_venmo.createOrReplaceTempView(\"Venmo\")\n",
    "df_venmo.show(5)"
   ]
  },
  {
   "cell_type": "markdown",
   "metadata": {},
   "source": [
    "## Use the text dictionary and the emoji dictionary to classify Venmo’s transactions in your sample dataset. "
   ]
  },
  {
   "cell_type": "code",
   "execution_count": 4,
   "metadata": {
    "ExecuteTime": {
     "end_time": "2020-05-10T23:23:00.922806Z",
     "start_time": "2020-05-10T23:23:00.775682Z"
    }
   },
   "outputs": [
    {
     "data": {
      "text/html": [
       "<div>\n",
       "<style scoped>\n",
       "    .dataframe tbody tr th:only-of-type {\n",
       "        vertical-align: middle;\n",
       "    }\n",
       "\n",
       "    .dataframe tbody tr th {\n",
       "        vertical-align: top;\n",
       "    }\n",
       "\n",
       "    .dataframe thead th {\n",
       "        text-align: right;\n",
       "    }\n",
       "</style>\n",
       "<table border=\"1\" class=\"dataframe\">\n",
       "  <thead>\n",
       "    <tr style=\"text-align: right;\">\n",
       "      <th></th>\n",
       "      <th>People</th>\n",
       "      <th>Food</th>\n",
       "      <th>Event</th>\n",
       "      <th>Activity</th>\n",
       "      <th>Travel</th>\n",
       "      <th>Transportation</th>\n",
       "      <th>Utility</th>\n",
       "      <th>Cash</th>\n",
       "      <th>Illegal/Sarcasm</th>\n",
       "    </tr>\n",
       "  </thead>\n",
       "  <tbody>\n",
       "    <tr>\n",
       "      <td>0</td>\n",
       "      <td>❤️</td>\n",
       "      <td>🍕</td>\n",
       "      <td>👰</td>\n",
       "      <td>🍻</td>\n",
       "      <td>🌴</td>\n",
       "      <td>⛽</td>\n",
       "      <td>🏡</td>\n",
       "      <td>💸</td>\n",
       "      <td>🖕🏿</td>\n",
       "    </tr>\n",
       "    <tr>\n",
       "      <td>1</td>\n",
       "      <td>👯</td>\n",
       "      <td>🍵</td>\n",
       "      <td>🎤</td>\n",
       "      <td>🏀</td>\n",
       "      <td>✈️</td>\n",
       "      <td>🅿</td>\n",
       "      <td>💡</td>\n",
       "      <td>💰</td>\n",
       "      <td>☠</td>\n",
       "    </tr>\n",
       "  </tbody>\n",
       "</table>\n",
       "</div>"
      ],
      "text/plain": [
       "  People Food Event Activity Travel Transportation Utility Cash  \\\n",
       "0     ❤️    🍕     👰        🍻      🌴              ⛽       🏡    💸   \n",
       "1      👯    🍵     🎤        🏀     ✈️              🅿       💡    💰   \n",
       "\n",
       "  Illegal/Sarcasm  \n",
       "0              🖕🏿  \n",
       "1               ☠  "
      ]
     },
     "execution_count": 4,
     "metadata": {},
     "output_type": "execute_result"
    }
   ],
   "source": [
    "# load word and emoji dictionaries (key words and emojis are classified to 9 major topics)\n",
    "word_dictionary = pd.read_excel(\"word dictionary.xlsx\")\n",
    "emoji_dictionary = pd.read_excel(\"emoji dictionary.xlsx\")\n",
    "emoji_dictionary.head(2)"
   ]
  },
  {
   "cell_type": "code",
   "execution_count": 5,
   "metadata": {
    "ExecuteTime": {
     "end_time": "2020-05-10T23:23:04.841668Z",
     "start_time": "2020-05-10T23:23:04.810558Z"
    }
   },
   "outputs": [],
   "source": [
    "# drop n/a values and create a list for each category\n",
    "people1 = word_dictionary.People.dropna(how='all').values.tolist()\n",
    "food1 = word_dictionary.Food.dropna(how='all').values.tolist()\n",
    "event1 = word_dictionary.Event.dropna(how='all').values.tolist()\n",
    "activity1 = word_dictionary.Activity.dropna(how='all').values.tolist()\n",
    "travel1 = word_dictionary.Travel.dropna(how='all').values.tolist()\n",
    "trasportation1 = word_dictionary.Transportation.dropna(how='all').values.tolist()\n",
    "utility1 = word_dictionary.Utility.dropna(how='all').values.tolist()\n",
    "cash1 = word_dictionary.Cash.dropna(how='all').values.tolist()\n",
    "illegal_sarcasm1 = word_dictionary['Illegal/Sarcasm'].dropna(how='all').values.tolist()\n",
    "\n",
    "people2 = emoji_dictionary.People.dropna(how='all').values.tolist()\n",
    "food2 = emoji_dictionary.Food.dropna(how='all').values.tolist()\n",
    "event2 = emoji_dictionary.Event.dropna(how='all').values.tolist()\n",
    "activity2 = emoji_dictionary.Activity.dropna(how='all').values.tolist()\n",
    "travel2 = emoji_dictionary.Travel.dropna(how='all').values.tolist()\n",
    "trasportation2 = emoji_dictionary.Transportation.dropna(how='all').values.tolist()\n",
    "utility2 = emoji_dictionary.Utility.dropna(how='all').values.tolist()\n",
    "cash2 = emoji_dictionary.Cash.dropna(how='all').values.tolist()\n",
    "illegal_sarcasm2 = emoji_dictionary['Illegal/Sarcasm'].dropna(how='all').values.tolist()"
   ]
  },
  {
   "cell_type": "code",
   "execution_count": 6,
   "metadata": {
    "ExecuteTime": {
     "end_time": "2020-05-10T23:23:08.918076Z",
     "start_time": "2020-05-10T23:23:08.295224Z"
    }
   },
   "outputs": [],
   "source": [
    "# slice dataframe having only emojis\n",
    "emoji_tbl = spark.sql(\"select index, description \\\n",
    "                       from Venmo \\\n",
    "                       where HEX(description) REGEXP '^[E2|F0]{2}' \\\n",
    "                               and description NOT REGEXP '[g-zG-Z\\\\?\\\\!\\\\\\\\\\.]'\")\n",
    "\n",
    "emoji_tbl.registerTempTable(\"emoji_tbl\")\n",
    "\n",
    "# slice dataframe having texts or mixed texts and emojis\n",
    "short_venmo = spark.sql(\"select index, lower(description) as description from Venmo\")\n",
    "text_tbl = short_venmo.exceptAll(emoji_tbl).sort(\"index\")\n",
    "\n",
    "text_tbl.registerTempTable(\"text_tbl\")"
   ]
  },
  {
   "cell_type": "code",
   "execution_count": 7,
   "metadata": {
    "ExecuteTime": {
     "end_time": "2020-05-10T23:31:33.149219Z",
     "start_time": "2020-05-10T23:23:13.427011Z"
    }
   },
   "outputs": [
    {
     "name": "stdout",
     "output_type": "stream",
     "text": [
      "The number of no_class records is 0\n",
      "+-----+--------------------+-------------+\n",
      "|index|         description|        class|\n",
      "+-----+--------------------+-------------+\n",
      "|    0|                uber|trasportation|\n",
      "|    1|              costco|         food|\n",
      "|    2|        sweaty balls|         food|\n",
      "|    5|          chipotlaid|         food|\n",
      "|    6|     kitchen counter|      utility|\n",
      "|    7|                food|         food|\n",
      "|    8|               zaxby|         food|\n",
      "|    9|           fan sucks|     activity|\n",
      "|   11|         thanks babe|       people|\n",
      "|   14|hey man  it's bee...|       people|\n",
      "|   15|         getaway car|trasportation|\n",
      "|   16|     🔮 gypsy things|     activity|\n",
      "|   18|           furniture|      utility|\n",
      "|   19|bed bath mostly b...|       people|\n",
      "|   20|                 fun|     activity|\n",
      "|   21|    world cup stacks|       travel|\n",
      "|   22|you're lucky we d...|       people|\n",
      "|   23|      cable part 2..|     activity|\n",
      "|   24|               benny|         cash|\n",
      "|   25|               blurb|     activity|\n",
      "+-----+--------------------+-------------+\n",
      "only showing top 20 rows\n",
      "\n"
     ]
    }
   ],
   "source": [
    "# text classification\n",
    "text_class = text_tbl.select(\"*\", \n",
    "            when(text_tbl.description.rlike(\"|\".join([\"(\" + pat + \")\" for pat in people1])), 'people')\\\n",
    " .when(text_tbl.description.rlike(\"|\".join([\"(\" + pat + \")\" for pat in food1])), 'food') \\\n",
    " .when(text_tbl.description.rlike(\"|\".join([\"(\" + pat + \")\" for pat in event1])), 'event')\\\n",
    " .when(text_tbl.description.rlike(\"|\".join([\"(\" + pat + \")\" for pat in activity1])), 'activity')\\\n",
    " .when(text_tbl.description.rlike(\"|\".join([\"(\" + pat + \")\" for pat in travel1])), 'travel')\\\n",
    " .when(text_tbl.description.rlike(\"|\".join([\"(\" + pat + \")\" for pat in trasportation1])), 'trasportation')\\\n",
    " .when(text_tbl.description.rlike(\"|\".join([\"(\" + pat + \")\" for pat in utility1])), 'utility')\\\n",
    " .when(text_tbl.description.rlike(\"|\".join([\"(\" + pat + \")\" for pat in cash1])), 'cash')\\\n",
    " .when(text_tbl.description.rlike(\"|\".join([\"(\" + pat + \")\" for pat in illegal_sarcasm1])), 'illegal_sarcasm')\\\n",
    "                 .otherwise('no_class').alias('class'))\n",
    "\n",
    "text_class.registerTempTable(\"text_class\")\n",
    "\n",
    "# count the number of records that has no class \n",
    "x = spark.sql(\"select * from text_class where class='no_class'\")\n",
    "print(\"The number of no_class records is\", x.count())\n",
    "text_class.show()"
   ]
  },
  {
   "cell_type": "code",
   "execution_count": 8,
   "metadata": {
    "ExecuteTime": {
     "end_time": "2020-05-10T23:32:27.723737Z",
     "start_time": "2020-05-10T23:32:04.727592Z"
    }
   },
   "outputs": [
    {
     "name": "stdout",
     "output_type": "stream",
     "text": [
      "The number of no_class records is 491637\n",
      "+-----+----------------+---------------+\n",
      "|index|     description|          class|\n",
      "+-----+----------------+---------------+\n",
      "|    3|              🎥|       activity|\n",
      "|    4|               ⚡|       no_class|\n",
      "|   10|              👠|       activity|\n",
      "|   12|              🍺|           food|\n",
      "|   13|               ⛽|  trasportation|\n",
      "|   17|              🔴|  trasportation|\n",
      "|   48|            ✌❤🏈|       activity|\n",
      "|   54|            👰👰|          event|\n",
      "|   57|          🍕🍕🍕|           food|\n",
      "|   60|              🍕|           food|\n",
      "|   62|              🎉|       activity|\n",
      "|   65|          🍴🍴🍴|           food|\n",
      "|   66|      ☕️🍴🍰🍳🎂|           food|\n",
      "|   68|              🏡|        utility|\n",
      "|   71|              💣|illegal_sarcasm|\n",
      "|   77|              🌮|           food|\n",
      "|   82|              🍵|           food|\n",
      "|   86|              ⚡️|       no_class|\n",
      "|   91|❤️❤️❤️❤️👯👯👯😻|         people|\n",
      "|   94|               ☕|           food|\n",
      "+-----+----------------+---------------+\n",
      "only showing top 20 rows\n",
      "\n"
     ]
    }
   ],
   "source": [
    "# emoji classification\n",
    "emoji_class = emoji_tbl.select(\"*\", \n",
    "    when(emoji_tbl.description.rlike(\"|\".join([\"(\" + pat + \")\" for pat in people2])), 'people')\\\n",
    " .when(emoji_tbl.description.rlike(\"|\".join([\"(\" + pat + \")\" for pat in food2])), 'food') \\\n",
    " .when(emoji_tbl.description.rlike(\"|\".join([\"(\" + pat + \")\" for pat in event2])), 'event')\\\n",
    " .when(emoji_tbl.description.rlike(\"|\".join([\"(\" + pat + \")\" for pat in activity2])), 'activity')\\\n",
    " .when(emoji_tbl.description.rlike(\"|\".join([\"(\" + pat + \")\" for pat in travel2])), 'travel')\\\n",
    " .when(emoji_tbl.description.rlike(\"|\".join([\"(\" + pat + \")\" for pat in trasportation2])), 'trasportation')\\\n",
    " .when(emoji_tbl.description.rlike(\"|\".join([\"(\" + pat + \")\" for pat in utility2])), 'utility')\\\n",
    " .when(emoji_tbl.description.rlike(\"|\".join([\"(\" + pat + \")\" for pat in cash2])), 'cash')\\\n",
    " .when(emoji_tbl.description.rlike(\"|\".join([\"(\" + pat + \")\" for pat in illegal_sarcasm2])), 'illegal_sarcasm')\\\n",
    "                 .otherwise('no_class').alias('class'))\n",
    "\n",
    "emoji_class.registerTempTable(\"emoji_class\")\n",
    "\n",
    "# count the number of records that has no class \n",
    "y = spark.sql(\"select * from emoji_class where class='no_class'\")\n",
    "print(\"The number of no_class records is\", y.count())\n",
    "emoji_class.show()"
   ]
  },
  {
   "cell_type": "code",
   "execution_count": 9,
   "metadata": {
    "ExecuteTime": {
     "end_time": "2020-05-10T23:42:08.932114Z",
     "start_time": "2020-05-10T23:35:19.901414Z"
    }
   },
   "outputs": [
    {
     "name": "stdout",
     "output_type": "stream",
     "text": [
      "+-----+--------------------+-------------+\n",
      "|index|         description|        class|\n",
      "+-----+--------------------+-------------+\n",
      "|    0|                uber|trasportation|\n",
      "|    1|              costco|         food|\n",
      "|    2|        sweaty balls|         food|\n",
      "|    3|                  🎥|     activity|\n",
      "|    4|                   ⚡|     no_class|\n",
      "|    5|          chipotlaid|         food|\n",
      "|    6|     kitchen counter|      utility|\n",
      "|    7|                food|         food|\n",
      "|    8|               zaxby|         food|\n",
      "|    9|           fan sucks|     activity|\n",
      "|   10|                  👠|     activity|\n",
      "|   11|         thanks babe|       people|\n",
      "|   12|                  🍺|         food|\n",
      "|   13|                   ⛽|trasportation|\n",
      "|   14|hey man  it's bee...|       people|\n",
      "|   15|         getaway car|trasportation|\n",
      "|   16|     🔮 gypsy things|     activity|\n",
      "|   17|                  🔴|trasportation|\n",
      "|   18|           furniture|      utility|\n",
      "|   19|bed bath mostly b...|       people|\n",
      "+-----+--------------------+-------------+\n",
      "only showing top 20 rows\n",
      "\n"
     ]
    }
   ],
   "source": [
    "# union text and emoji dataset\n",
    "df_class = spark.sql(\"select * from text_class union select * from emoji_class order by index\")\n",
    "df_class.registerTempTable(\"df_class\")\n",
    "df_class.show()"
   ]
  },
  {
   "cell_type": "markdown",
   "metadata": {},
   "source": [
    "## What is the percent of emoji only transactions? Which are the top 5 most popular emoji? Which are the top three most popular emoji categories? "
   ]
  },
  {
   "cell_type": "markdown",
   "metadata": {},
   "source": [
    "**What is the percent of emoji only transactions?**"
   ]
  },
  {
   "cell_type": "code",
   "execution_count": 10,
   "metadata": {
    "ExecuteTime": {
     "end_time": "2020-05-07T19:10:50.631887Z",
     "start_time": "2020-05-07T19:10:46.577983Z"
    }
   },
   "outputs": [
    {
     "data": {
      "text/plain": [
       "0.2621712473694799"
      ]
     },
     "execution_count": 10,
     "metadata": {},
     "output_type": "execute_result"
    }
   ],
   "source": [
    "emoji_per = emoji_tbl.count()/df_venmo.count()\n",
    "emoji_per"
   ]
  },
  {
   "cell_type": "markdown",
   "metadata": {},
   "source": [
    "**Which are the top 5 most popular emoji?**"
   ]
  },
  {
   "cell_type": "code",
   "execution_count": 11,
   "metadata": {
    "ExecuteTime": {
     "end_time": "2020-05-07T19:11:06.731828Z",
     "start_time": "2020-05-07T19:10:53.436399Z"
    },
    "scrolled": true
   },
   "outputs": [
    {
     "data": {
      "text/plain": [
       "1864860"
      ]
     },
     "execution_count": 11,
     "metadata": {},
     "output_type": "execute_result"
    }
   ],
   "source": [
    "# create emoji list\n",
    "emoji_list = emoji_tbl.select(\"description\").rdd.flatMap(lambda x: x).collect()\n",
    "len(emoji_list)"
   ]
  },
  {
   "cell_type": "code",
   "execution_count": 12,
   "metadata": {
    "ExecuteTime": {
     "end_time": "2020-05-07T19:11:19.959461Z",
     "start_time": "2020-05-07T19:11:16.268418Z"
    }
   },
   "outputs": [
    {
     "data": {
      "text/plain": [
       "[('🍕', 186979), ('🍻', 114195), ('💸', 91973), ('🍷', 88363), ('🍺', 70590)]"
      ]
     },
     "execution_count": 12,
     "metadata": {},
     "output_type": "execute_result"
    }
   ],
   "source": [
    "# split emoji_list[0] as the starter\n",
    "em_split_emoji = emoji.get_emoji_regexp().split(emoji_list[0])\n",
    "em_split_whitespace = [substr.split() for substr in em_split_emoji]\n",
    "split_emoji_list = functools.reduce(operator.concat, em_split_whitespace)\n",
    "\n",
    "# extend list starting from emoji_list[0]\n",
    "for i in range(len(emoji_list)-1):\n",
    "    next_emoji = \"\".join(emoji_list[i+1].split()) \n",
    "    split_emoji_list.extend(next_emoji)\n",
    "\n",
    "# filter out empty elements\n",
    "split_emoji_list = list(filter(lambda x: x != '️', split_emoji_list))\n",
    "\n",
    "# count emoji frequency and find top 5 popular emojis\n",
    "emoji_freq = Counter(split_emoji_list)\n",
    "emoji_freq.most_common(5)"
   ]
  },
  {
   "cell_type": "markdown",
   "metadata": {},
   "source": [
    "**Which are the top three most popular emoji categories?**"
   ]
  },
  {
   "cell_type": "code",
   "execution_count": 13,
   "metadata": {
    "ExecuteTime": {
     "end_time": "2020-05-07T19:11:59.106727Z",
     "start_time": "2020-05-07T19:11:30.766061Z"
    }
   },
   "outputs": [
    {
     "data": {
      "text/html": [
       "<div>\n",
       "<style scoped>\n",
       "    .dataframe tbody tr th:only-of-type {\n",
       "        vertical-align: middle;\n",
       "    }\n",
       "\n",
       "    .dataframe tbody tr th {\n",
       "        vertical-align: top;\n",
       "    }\n",
       "\n",
       "    .dataframe thead th {\n",
       "        text-align: right;\n",
       "    }\n",
       "</style>\n",
       "<table border=\"1\" class=\"dataframe\">\n",
       "  <thead>\n",
       "    <tr style=\"text-align: right;\">\n",
       "      <th></th>\n",
       "      <th>class</th>\n",
       "      <th>agg_emojis</th>\n",
       "    </tr>\n",
       "  </thead>\n",
       "  <tbody>\n",
       "    <tr>\n",
       "      <td>0</td>\n",
       "      <td>travel</td>\n",
       "      <td>🌴🌴🌴🐟🐠🐟🐠🐟🌴🌴🌴✈️🚌🚡🚡🚡🚡🚡🚡🚡🚡🚡🚡💒✈️✈️🇭🇷🇭🇷🇭🇷🌴🌴✈️🌴✈️🏣🇮🇪🔵...</td>\n",
       "    </tr>\n",
       "    <tr>\n",
       "      <td>1</td>\n",
       "      <td>no_class</td>\n",
       "      <td>⚡⚡️🇺🇸🎯👃🏻👃🏽👃🏿🐍🔥🔥🔥💦💦💦👣⚡️🕶🐭👅⛄️🌏✒️✒️✒️💆🏼👻👻👻💚☘🤖✨👕👧🚛...</td>\n",
       "    </tr>\n",
       "    <tr>\n",
       "      <td>2</td>\n",
       "      <td>utility</td>\n",
       "      <td>🏡💡🔌📺📺📺⚡🔌💡💸🏡⚡🔌💡💸🚒💦🔥🖥🖥🏡⚡🔌💡💸🛁👩‍👩‍👧🏡🏠📺💸🔑🏠💸🏡💸📺📺💻💦🔌🔥...</td>\n",
       "    </tr>\n",
       "    <tr>\n",
       "      <td>3</td>\n",
       "      <td>food</td>\n",
       "      <td>🍺🍕🍕🍕🍕🍴🍴🍴☕️🍴🍰🍳🎂🌮🍵☕🍷🍷🍷🍰🍰🍰🍰🍰🍪🍪🍪🍺🍺🍇🍌🍓🍹🚗➡️🍟🍺🍕🍕🍕🍕🍕🍕🍷...</td>\n",
       "    </tr>\n",
       "    <tr>\n",
       "      <td>4</td>\n",
       "      <td>cash</td>\n",
       "      <td>💰🇮🇱🤑💰⛏⚱🤑💰🤑🤑🤑🤑🤑💵💸💰💵💵🌟💸💦💸💰🤑💸💰💰💦💸💰🏧💰 🔙💰💵💸💵💵💸💵🔙💸💦💸...</td>\n",
       "    </tr>\n",
       "  </tbody>\n",
       "</table>\n",
       "</div>"
      ],
      "text/plain": [
       "      class                                         agg_emojis\n",
       "0    travel  🌴🌴🌴🐟🐠🐟🐠🐟🌴🌴🌴✈️🚌🚡🚡🚡🚡🚡🚡🚡🚡🚡🚡💒✈️✈️🇭🇷🇭🇷🇭🇷🌴🌴✈️🌴✈️🏣🇮🇪🔵...\n",
       "1  no_class  ⚡⚡️🇺🇸🎯👃🏻👃🏽👃🏿🐍🔥🔥🔥💦💦💦👣⚡️🕶🐭👅⛄️🌏✒️✒️✒️💆🏼👻👻👻💚☘🤖✨👕👧🚛...\n",
       "2   utility  🏡💡🔌📺📺📺⚡🔌💡💸🏡⚡🔌💡💸🚒💦🔥🖥🖥🏡⚡🔌💡💸🛁👩‍👩‍👧🏡🏠📺💸🔑🏠💸🏡💸📺📺💻💦🔌🔥...\n",
       "3      food  🍺🍕🍕🍕🍕🍴🍴🍴☕️🍴🍰🍳🎂🌮🍵☕🍷🍷🍷🍰🍰🍰🍰🍰🍪🍪🍪🍺🍺🍇🍌🍓🍹🚗➡️🍟🍺🍕🍕🍕🍕🍕🍕🍷...\n",
       "4      cash  💰🇮🇱🤑💰⛏⚱🤑💰🤑🤑🤑🤑🤑💵💸💰💵💵🌟💸💦💸💰🤑💸💰💰💦💸💰🏧💰 🔙💰💵💸💵💵💸💵🔙💸💦💸..."
      ]
     },
     "execution_count": 13,
     "metadata": {},
     "output_type": "execute_result"
    }
   ],
   "source": [
    "# group by class and aggregate emojis in each class\n",
    "agg_class = emoji_class.groupby(\"class\")\\\n",
    "           .agg(F.concat_ws(\"\", F.collect_list(emoji_class.description)).alias('agg_emojis'))\n",
    "agg_class.registerTempTable(\"agg_class\")\n",
    "\n",
    "# transfer to pandas dataframe\n",
    "pandas_venmo = agg_class.select(\"*\").toPandas()\n",
    "pandas_venmo.head()"
   ]
  },
  {
   "cell_type": "code",
   "execution_count": 14,
   "metadata": {
    "ExecuteTime": {
     "end_time": "2020-05-07T19:12:17.535889Z",
     "start_time": "2020-05-07T19:12:17.205581Z"
    }
   },
   "outputs": [
    {
     "data": {
      "text/html": [
       "<div>\n",
       "<style scoped>\n",
       "    .dataframe tbody tr th:only-of-type {\n",
       "        vertical-align: middle;\n",
       "    }\n",
       "\n",
       "    .dataframe tbody tr th {\n",
       "        vertical-align: top;\n",
       "    }\n",
       "\n",
       "    .dataframe thead th {\n",
       "        text-align: right;\n",
       "    }\n",
       "</style>\n",
       "<table border=\"1\" class=\"dataframe\">\n",
       "  <thead>\n",
       "    <tr style=\"text-align: right;\">\n",
       "      <th></th>\n",
       "      <th>class</th>\n",
       "      <th>index</th>\n",
       "      <th>agg_emojis</th>\n",
       "    </tr>\n",
       "  </thead>\n",
       "  <tbody>\n",
       "    <tr>\n",
       "      <td>3</td>\n",
       "      <td>food</td>\n",
       "      <td>3</td>\n",
       "      <td>1667773</td>\n",
       "    </tr>\n",
       "    <tr>\n",
       "      <td>1</td>\n",
       "      <td>no_class</td>\n",
       "      <td>1</td>\n",
       "      <td>1056768</td>\n",
       "    </tr>\n",
       "    <tr>\n",
       "      <td>8</td>\n",
       "      <td>activity</td>\n",
       "      <td>8</td>\n",
       "      <td>591270</td>\n",
       "    </tr>\n",
       "    <tr>\n",
       "      <td>5</td>\n",
       "      <td>people</td>\n",
       "      <td>5</td>\n",
       "      <td>457549</td>\n",
       "    </tr>\n",
       "    <tr>\n",
       "      <td>2</td>\n",
       "      <td>utility</td>\n",
       "      <td>2</td>\n",
       "      <td>365662</td>\n",
       "    </tr>\n",
       "    <tr>\n",
       "      <td>7</td>\n",
       "      <td>trasportation</td>\n",
       "      <td>7</td>\n",
       "      <td>187082</td>\n",
       "    </tr>\n",
       "    <tr>\n",
       "      <td>9</td>\n",
       "      <td>event</td>\n",
       "      <td>9</td>\n",
       "      <td>110588</td>\n",
       "    </tr>\n",
       "    <tr>\n",
       "      <td>0</td>\n",
       "      <td>travel</td>\n",
       "      <td>0</td>\n",
       "      <td>107989</td>\n",
       "    </tr>\n",
       "    <tr>\n",
       "      <td>6</td>\n",
       "      <td>illegal_sarcasm</td>\n",
       "      <td>6</td>\n",
       "      <td>86135</td>\n",
       "    </tr>\n",
       "    <tr>\n",
       "      <td>4</td>\n",
       "      <td>cash</td>\n",
       "      <td>4</td>\n",
       "      <td>84001</td>\n",
       "    </tr>\n",
       "  </tbody>\n",
       "</table>\n",
       "</div>"
      ],
      "text/plain": [
       "             class  index  agg_emojis\n",
       "3             food      3     1667773\n",
       "1         no_class      1     1056768\n",
       "8         activity      8      591270\n",
       "5           people      5      457549\n",
       "2          utility      2      365662\n",
       "7    trasportation      7      187082\n",
       "9            event      9      110588\n",
       "0           travel      0      107989\n",
       "6  illegal_sarcasm      6       86135\n",
       "4             cash      4       84001"
      ]
     },
     "execution_count": 14,
     "metadata": {},
     "output_type": "execute_result"
    }
   ],
   "source": [
    "# If remove the no_class, \"Food\", \"Activity\", and \"People\" are the top 3 emoji categories\n",
    "x = pandas_venmo.groupby(\"class\")[\"agg_emojis\"]\\\n",
    "            .apply(lambda x: x.str.len()).reset_index().sort_values(\"agg_emojis\", ascending=False)\n",
    "\n",
    "class_cnt = pd.concat([pandas_venmo[\"class\"],x], axis=1).sort_values(\"agg_emojis\", ascending=False)\n",
    "class_cnt.head(10)"
   ]
  },
  {
   "cell_type": "markdown",
   "metadata": {},
   "source": [
    "## For each user, create a variable to indicate their spending behavior profile.  "
   ]
  },
  {
   "cell_type": "code",
   "execution_count": 10,
   "metadata": {
    "ExecuteTime": {
     "end_time": "2020-05-10T23:56:17.328866Z",
     "start_time": "2020-05-10T23:45:41.460816Z"
    }
   },
   "outputs": [
    {
     "name": "stdout",
     "output_type": "stream",
     "text": [
      "+-----+-------+------------+-------------+-------------------+\n",
      "|index|  user1| description|        class|           datetime|\n",
      "+-----+-------+------------+-------------+-------------------+\n",
      "|    0|1218774|        uber|trasportation|2015-11-27 02:48:19|\n",
      "|    1|5109483|      costco|         food|2015-06-17 04:37:04|\n",
      "|    2|4322148|sweaty balls|         food|2015-06-19 00:05:31|\n",
      "|    3| 469894|          🎥|     activity|2016-06-03 16:34:13|\n",
      "+-----+-------+------------+-------------+-------------------+\n",
      "only showing top 4 rows\n",
      "\n"
     ]
    }
   ],
   "source": [
    "# join Venmo original dataset with the dataset from question 1 that has description classification\n",
    "df_full = spark.sql(\"select t1.index, user1, t1.description, class, datetime \\\n",
    "                    from df_class t1 join Venmo t2 using (index) order by index\")\n",
    "df_full.registerTempTable(\"df_full\")\n",
    "df_full.show(4)"
   ]
  },
  {
   "cell_type": "code",
   "execution_count": 11,
   "metadata": {
    "ExecuteTime": {
     "end_time": "2020-05-11T00:35:46.499848Z",
     "start_time": "2020-05-11T00:21:02.529629Z"
    },
    "scrolled": false
   },
   "outputs": [
    {
     "name": "stdout",
     "output_type": "stream",
     "text": [
      "+-----+--------+----------------------+------+\n",
      "|user1|   class|transactions_per_class| ratio|\n",
      "+-----+--------+----------------------+------+\n",
      "|    2|  people|                     1|100.0%|\n",
      "|    3|  people|                     3| 50.0%|\n",
      "|    3|  travel|                     1|16.67%|\n",
      "|    3|    cash|                     1|16.67%|\n",
      "|    3|    food|                     1|16.67%|\n",
      "|    4|    food|                     1|16.67%|\n",
      "|    4|activity|                     1|16.67%|\n",
      "|    4|    cash|                     1|16.67%|\n",
      "|    4|no_class|                     1|16.67%|\n",
      "|    4|  people|                     2|33.33%|\n",
      "|   10|activity|                     1| 10.0%|\n",
      "|   10|    food|                     5| 50.0%|\n",
      "|   10|    cash|                     1| 10.0%|\n",
      "|   10|  people|                     3| 30.0%|\n",
      "|   11|  people|                     9| 36.0%|\n",
      "|   11|    cash|                     7| 28.0%|\n",
      "|   11|    food|                     4| 16.0%|\n",
      "|   11|  travel|                     1|  4.0%|\n",
      "|   11|activity|                     2|  8.0%|\n",
      "|   11| utility|                     2|  8.0%|\n",
      "+-----+--------+----------------------+------+\n",
      "only showing top 20 rows\n",
      "\n"
     ]
    }
   ],
   "source": [
    "# For each user, calculate the number of his/her transactions per class and how many percents of total spendings \n",
    "df_profile = spark.sql(\"select user1, class, count(*) as transactions_per_class, \\\n",
    "                    concat(round(count(*)/sum(count(*)) over (partition by user1) *100, 2),'%') as ratio \\\n",
    "               from df_full \\\n",
    "               group by user1, class \\\n",
    "               order by user1\")\n",
    "df_profile.show()"
   ]
  },
  {
   "cell_type": "code",
   "execution_count": 12,
   "metadata": {
    "ExecuteTime": {
     "end_time": "2020-05-09T04:19:33.156169Z",
     "start_time": "2020-05-09T04:01:52.942355Z"
    }
   },
   "outputs": [
    {
     "name": "stdout",
     "output_type": "stream",
     "text": [
      "+-----+--------+------+-----+------+---------------+--------+------+-------------+------+-------+\n",
      "|user1|activity|  cash|event|  food|illegal_sarcasm|no_class|people|trasportation|travel|utility|\n",
      "+-----+--------+------+-----+------+---------------+--------+------+-------------+------+-------+\n",
      "|    2|    null|  null| null|  null|           null|    null|100.0%|         null|  null|   null|\n",
      "|    3|    null|16.67%| null|16.67%|           null|    null| 50.0%|         null|16.67%|   null|\n",
      "|    4|  16.67%|16.67%| null|16.67%|           null|  16.67%|33.33%|         null|  null|   null|\n",
      "|   10|   10.0%| 10.0%| null| 50.0%|           null|    null| 30.0%|         null|  null|   null|\n",
      "|   11|    8.0%| 28.0%| null| 16.0%|           null|    null| 36.0%|         null|  4.0%|   8.0%|\n",
      "|   12|  11.11%|44.44%| null|11.11%|           null|    null|33.33%|         null|  null|   null|\n",
      "|   13|  15.79%|15.79%| null|15.79%|           null|    null|47.37%|         null|  null|  5.26%|\n",
      "|   16|   10.0%|  null| null| 60.0%|           null|    null|  null|        10.0%| 10.0%|  10.0%|\n",
      "|   19|   25.0%| 25.0%| null| 50.0%|           null|    null|  null|         null|  null|   null|\n",
      "|   28|    null|  null| null|  null|           null|    null|100.0%|         null|  null|   null|\n",
      "|   34|   25.0%|  null| null| 50.0%|           null|   25.0%|  null|         null|  null|   null|\n",
      "|   42|    null|14.29%| null|  null|           null|    null|85.71%|         null|  null|   null|\n",
      "|   43|   9.09%|27.27%| null|38.64%|           null|    null|11.36%|        4.55%| 4.55%|  4.55%|\n",
      "|   47|    null|  null| null|  null|           null|    null|100.0%|         null|  null|   null|\n",
      "|   52|    null|  null| null| 50.0%|           null|    null|  null|         null|  null|  50.0%|\n",
      "|   56|   25.0%| 25.0%| null| 25.0%|           null|    null|  null|         null|  null|  25.0%|\n",
      "|  112|    null| 50.0%| null| 25.0%|           null|    null|  null|        25.0%|  null|   null|\n",
      "|  126|   50.0%| 50.0%| null|  null|           null|    null|  null|         null|  null|   null|\n",
      "|  129|  100.0%|  null| null|  null|           null|    null|  null|         null|  null|   null|\n",
      "|  134|    null| 50.0%| null| 50.0%|           null|    null|  null|         null|  null|   null|\n",
      "+-----+--------+------+-----+------+---------------+--------+------+-------------+------+-------+\n",
      "only showing top 20 rows\n",
      "\n"
     ]
    }
   ],
   "source": [
    "# create a list with unique classes \n",
    "categories = sorted(df_profile.select(\"class\").distinct().rdd.map(lambda row: row[0]).collect())\n",
    "\n",
    "cols = [when(col(\"class\") == category, col(\"ratio\")).otherwise(None).alias(category) \n",
    "    for category in categories]\n",
    "\n",
    "maxs = [max(col(category)).alias(category) for category in categories]\n",
    "\n",
    "# create static spending profile for each user\n",
    "static_profile = (df_profile.select(col(\"user1\"), *cols).groupBy(\"user1\").agg(*maxs).na.fill(0))\n",
    "\n",
    "static_profile.registerTempTable(\"static_profile\")\n",
    "static_profile.show()"
   ]
  },
  {
   "cell_type": "code",
   "execution_count": 17,
   "metadata": {
    "ExecuteTime": {
     "end_time": "2020-05-07T19:56:11.761122Z",
     "start_time": "2020-05-07T19:41:45.038421Z"
    },
    "collapsed": true
   },
   "outputs": [
    {
     "name": "stdout",
     "output_type": "stream",
     "text": [
      "+-----+---------------------------------------------------------------------------------------------------------+\n",
      "|user1|static_profile                                                                                           |\n",
      "+-----+---------------------------------------------------------------------------------------------------------+\n",
      "|2    |100.0%people                                                                                             |\n",
      "|3    |16.67%no_class, 50.0%people, 16.67%travel, 16.67%food                                                    |\n",
      "|4    |16.67%illegal_sarcasm, 16.67%food, 33.33%people, 16.67%activity, 16.67%no_class                          |\n",
      "|10   |10.0%no_class, 30.0%people, 10.0%activity, 50.0%food                                                     |\n",
      "|11   |4.0%activity, 36.0%people, 4.0%illegal_sarcasm, 20.0%no_class, 20.0%food, 8.0%travel, 8.0%utility        |\n",
      "|12   |33.33%people, 11.11%activity, 33.33%no_class, 11.11%food, 11.11%illegal_sarcasm                          |\n",
      "|13   |47.37%people, 10.53%food, 5.26%illegal_sarcasm, 5.26%utility, 10.53%no_class, 15.79%activity, 5.26%travel|\n",
      "|16   |10.0%travel, 10.0%trasportation, 60.0%food, 10.0%activity, 10.0%utility                                  |\n",
      "|19   |25.0%food, 25.0%event, 25.0%activity, 25.0%no_class                                                      |\n",
      "|28   |100.0%people                                                                                             |\n",
      "+-----+---------------------------------------------------------------------------------------------------------+\n",
      "only showing top 10 rows\n",
      "\n"
     ]
    }
   ],
   "source": [
    "# df_profile = df_profile.withColumn(\"dict\", concat(col(\"ratio\"), lit(\" \"), col(\"class\")))\n",
    "# df_profile = df_profile.groupby(\"user1\").agg(F.concat_ws(\", \", \n",
    "#                                     F.collect_list(df_profile.dict)).alias(\"static_profile\"))\n",
    "# df_profile.registerTempTable(\"df_profile\")\n",
    "# df_profile.show(10, truncate = False)"
   ]
  },
  {
   "cell_type": "markdown",
   "metadata": {},
   "source": [
    "## For each user, create a dynamic spending profile (12 months)"
   ]
  },
  {
   "cell_type": "code",
   "execution_count": 12,
   "metadata": {
    "ExecuteTime": {
     "end_time": "2020-05-11T00:51:19.767000Z",
     "start_time": "2020-05-11T00:37:30.053566Z"
    }
   },
   "outputs": [
    {
     "name": "stdout",
     "output_type": "stream",
     "text": [
      "+-----+-------------------+--------+----+\n",
      "|user1|           datetime|   class|days|\n",
      "+-----+-------------------+--------+----+\n",
      "|    2|2012-11-22 22:03:42|  people|   0|\n",
      "|    3|2016-10-07 01:50:23|    cash|  15|\n",
      "|    3|2016-10-08 18:56:24|  people|  16|\n",
      "|    3|2016-10-08 20:36:13|    food|  16|\n",
      "|    3|2016-09-22 08:30:09|  people|   0|\n",
      "|    3|2016-10-07 16:37:56|  people|  15|\n",
      "|    3|2016-10-06 03:49:45|  travel|  14|\n",
      "|    4|2016-04-16 20:35:09|activity|1231|\n",
      "|    4|2016-03-03 04:45:57|no_class|1187|\n",
      "|    4|2015-06-17 02:23:30|    cash| 927|\n",
      "|    4|2014-02-03 22:51:33|  people| 428|\n",
      "|    4|2012-12-14 21:51:12|  people|  12|\n",
      "|    4|2012-12-02 19:35:53|    food|   0|\n",
      "|   10|2016-01-30 06:42:13|    food|1161|\n",
      "|   10|2012-11-25 01:20:39|  people|   0|\n",
      "|   10|2013-01-14 00:18:43|    food|  50|\n",
      "|   10|2013-03-03 04:47:10|    food|  98|\n",
      "|   10|2015-01-21 15:29:21|  people| 787|\n",
      "|   10|2013-03-10 21:38:51|  people| 105|\n",
      "|   10|2012-12-31 04:44:12|activity|  36|\n",
      "+-----+-------------------+--------+----+\n",
      "only showing top 20 rows\n",
      "\n"
     ]
    }
   ],
   "source": [
    "# navigate the first transaction date and only keep first 12 months transactions for each user \n",
    "days_tbl = spark.sql(\"select user1, datetime, class, datediff(datetime, \\\n",
    "                first_value(datetime) over (partition by user1 order by datetime)) as days \\\n",
    "                from df_full \\\n",
    "                group by user1, datetime, class\\\n",
    "                order by user1\")\n",
    "days_tbl.show()"
   ]
  },
  {
   "cell_type": "code",
   "execution_count": 13,
   "metadata": {
    "ExecuteTime": {
     "end_time": "2020-05-11T01:32:45.698696Z",
     "start_time": "2020-05-11T01:23:46.622336Z"
    }
   },
   "outputs": [
    {
     "name": "stdout",
     "output_type": "stream",
     "text": [
      "+-----+-------------------+--------+----+------------------+\n",
      "|user1|           datetime|   class|days|lifetime_indicator|\n",
      "+-----+-------------------+--------+----+------------------+\n",
      "|    2|2012-11-22 22:03:42|  people|   0|                 0|\n",
      "|    3|2016-10-07 16:37:56|  people|  15|                 1|\n",
      "|    3|2016-10-08 20:36:13|    food|  16|                 1|\n",
      "|    3|2016-09-22 08:30:09|  people|   0|                 0|\n",
      "|    3|2016-10-06 03:49:45|  travel|  14|                 1|\n",
      "|    3|2016-10-07 01:50:23|    cash|  15|                 1|\n",
      "|    3|2016-10-08 18:56:24|  people|  16|                 1|\n",
      "|    4|2012-12-02 19:35:53|    food|   0|                 0|\n",
      "|    4|2012-12-14 21:51:12|  people|  12|                 1|\n",
      "|   10|2013-03-10 21:38:51|  people| 105|                 4|\n",
      "|   10|2012-11-25 01:20:39|  people|   0|                 0|\n",
      "|   10|2013-03-03 04:47:10|    food|  98|                 4|\n",
      "|   10|2013-01-14 00:18:43|    food|  50|                 2|\n",
      "|   10|2013-04-05 02:48:56|    cash| 131|                 5|\n",
      "|   10|2012-12-23 03:08:45|    food|  28|                 1|\n",
      "|   10|2012-12-31 04:44:12|activity|  36|                 2|\n",
      "|   11|2012-10-12 23:32:54|    food| 141|                 5|\n",
      "|   11|2012-08-24 17:30:23|    food|  92|                 4|\n",
      "|   11|2012-10-06 21:57:45|  people| 135|                 5|\n",
      "|   11|2012-05-24 04:30:30|    food|   0|                 0|\n",
      "+-----+-------------------+--------+----+------------------+\n",
      "only showing top 20 rows\n",
      "\n"
     ]
    }
   ],
   "source": [
    "# add lifetime indiactor (0-12 where 0 represents the 1st transaction and 1 represents 1 month and so on)\n",
    "days_lifeindicator_tbl = days_tbl.select(\"*\", \n",
    "            when(days_tbl.days==0, 0)\\\n",
    "         .when((days_tbl.days>0) & (days_tbl.days<=30), 1) \\\n",
    "         .when((days_tbl.days>30) & (days_tbl.days<=60), 2) \\\n",
    "         .when((days_tbl.days>60) & (days_tbl.days<=90), 3)\\\n",
    "         .when((days_tbl.days>90) & (days_tbl.days<=120), 4)\\\n",
    "         .when((days_tbl.days>120) & (days_tbl.days<=150), 5)\\\n",
    "         .when((days_tbl.days>150) & (days_tbl.days<=180), 6)\\\n",
    "         .when((days_tbl.days>180) & (days_tbl.days<=210), 7)\\\n",
    "         .when((days_tbl.days>210) & (days_tbl.days<=240), 8)\\\n",
    "         .when((days_tbl.days>240) & (days_tbl.days<=270), 9)\\\n",
    "         .when((days_tbl.days>270) & (days_tbl.days<=300), 10)\\\n",
    "         .when((days_tbl.days>300) & (days_tbl.days<=330), 11)\\\n",
    "         .when((days_tbl.days>330) & (days_tbl.days<=360), 12)\\\n",
    "         .otherwise(-1).alias('lifetime_indicator'))\n",
    "\n",
    "# filter out records where \"datetime-startdate\">=360 days (12 months after first transaction)\n",
    "lifetime_tbl = days_lifeindicator_tbl.filter(\"lifetime_indicator != -1 \").sort(\"user1\")\n",
    "\n",
    "lifetime_tbl.show()"
   ]
  },
  {
   "cell_type": "code",
   "execution_count": 14,
   "metadata": {
    "ExecuteTime": {
     "end_time": "2020-05-11T01:45:13.796674Z",
     "start_time": "2020-05-11T01:34:45.755259Z"
    }
   },
   "outputs": [
    {
     "name": "stdout",
     "output_type": "stream",
     "text": [
      "+-----+-----------------+----------+\n",
      "|user1|lifetime_category|percentage|\n",
      "+-----+-----------------+----------+\n",
      "|    2|     time0_people|       1.0|\n",
      "|    3|     time1_people|       0.4|\n",
      "|    3|       time1_cash|       0.2|\n",
      "|    3|     time1_travel|       0.2|\n",
      "|    3|       time1_food|       0.2|\n",
      "|    3|     time0_people|       1.0|\n",
      "|    4|     time1_people|       1.0|\n",
      "|    4|       time0_food|       1.0|\n",
      "|   10|       time1_food|       1.0|\n",
      "|   10|   time2_activity|       0.5|\n",
      "|   10|     time4_people|       0.5|\n",
      "|   10|       time4_food|       0.5|\n",
      "|   10|     time0_people|       1.0|\n",
      "|   10|       time5_cash|       1.0|\n",
      "|   10|       time2_food|       0.5|\n",
      "|   11|       time0_food|       1.0|\n",
      "|   11|       time5_food|       0.5|\n",
      "|   11|     time6_people|       1.0|\n",
      "|   11|       time3_cash|       1.0|\n",
      "|   11|       time4_food|       1.0|\n",
      "+-----+-----------------+----------+\n",
      "only showing top 20 rows\n",
      "\n"
     ]
    }
   ],
   "source": [
    "lifetime_tbl = lifetime_tbl\\\n",
    "        .withColumn(\"lifetime_category\", \n",
    "                        concat(lit(\"time\"), col(\"lifetime_indicator\"), lit(\"_\"), col(\"class\")))\\\n",
    "        .withColumn(\"user_life\", concat(col(\"user1\"), lit(\"_\"), col(\"lifetime_indicator\")))\n",
    "\n",
    "lifetime_tbl.registerTempTable(\"lifetime_tbl\")\n",
    "\n",
    "dynamic_tbl = spark.sql(\"select user1, lifetime_category, \\\n",
    "                 round(count(*)/sum(count(*)) over (partition by user_life), 2) as percentage \\\n",
    "               from lifetime_tbl \\\n",
    "               group by user1, user_life, lifetime_category \\\n",
    "               order by user1\")\n",
    "\n",
    "dynamic_tbl.registerTempTable(\"dynamic_tbl\")\n",
    "\n",
    "dynamic_tbl.show()"
   ]
  },
  {
   "cell_type": "code",
   "execution_count": 15,
   "metadata": {
    "ExecuteTime": {
     "end_time": "2020-05-11T02:07:17.328948Z",
     "start_time": "2020-05-11T01:45:49.223073Z"
    }
   },
   "outputs": [
    {
     "name": "stdout",
     "output_type": "stream",
     "text": [
      "+-----+--------------+----------+-----------+----------+---------------------+--------------+------------+\n",
      "|user1|time0_activity|time0_cash|time0_event|time0_food|time0_illegal_sarcasm|time0_no_class|time0_people|\n",
      "+-----+--------------+----------+-----------+----------+---------------------+--------------+------------+\n",
      "|    2|           0.0|       0.0|        0.0|       0.0|                  0.0|           0.0|         1.0|\n",
      "|    3|           0.0|       0.0|        0.0|       0.0|                  0.0|           0.0|         1.0|\n",
      "|    4|           0.0|       0.0|        0.0|       1.0|                  0.0|           0.0|         0.0|\n",
      "|   10|           0.0|       0.0|        0.0|       0.0|                  0.0|           0.0|         1.0|\n",
      "|   11|           0.0|       0.0|        0.0|       1.0|                  0.0|           0.0|         0.0|\n",
      "|   12|           0.0|       0.0|        0.0|       0.0|                  0.0|           0.0|         1.0|\n",
      "|   13|           0.0|       0.0|        0.0|       1.0|                  0.0|           0.0|         0.0|\n",
      "|   16|           0.0|       0.0|        0.0|       1.0|                  0.0|           0.0|         0.0|\n",
      "|   19|           1.0|       0.0|        0.0|       0.0|                  0.0|           0.0|         0.0|\n",
      "|   28|           0.0|       0.0|        0.0|       0.0|                  0.0|           0.0|         1.0|\n",
      "|   34|           0.0|       0.0|        0.0|       1.0|                  0.0|           0.0|         0.0|\n",
      "|   42|           0.0|       0.0|        0.0|       0.0|                  0.0|           0.0|         1.0|\n",
      "|   43|           0.0|       0.0|        0.0|       1.0|                  0.0|           0.0|         0.0|\n",
      "|   47|           0.0|       0.0|        0.0|       0.0|                  0.0|           0.0|         1.0|\n",
      "|   52|           0.0|       0.0|        0.0|       1.0|                  0.0|           0.0|         0.0|\n",
      "|   56|           1.0|       0.0|        0.0|       0.0|                  0.0|           0.0|         0.0|\n",
      "|  112|           0.0|       0.0|        0.0|       1.0|                  0.0|           0.0|         0.0|\n",
      "|  126|           1.0|       0.0|        0.0|       0.0|                  0.0|           0.0|         0.0|\n",
      "|  129|           1.0|       0.0|        0.0|       0.0|                  0.0|           0.0|         0.0|\n",
      "|  134|           0.0|       0.0|        0.0|       1.0|                  0.0|           0.0|         0.0|\n",
      "+-----+--------------+----------+-----------+----------+---------------------+--------------+------------+\n",
      "only showing top 20 rows\n",
      "\n"
     ]
    }
   ],
   "source": [
    "# create dynamic profile\n",
    "#spread rows to columns: each row representing one user, each column representing lifetime and spending category\n",
    "\n",
    "life_cates = sorted(dynamic_tbl.select(\"lifetime_category\").distinct().rdd.map(lambda row: row[0]).collect())\n",
    "\n",
    "cols1 = [when(col(\"lifetime_category\") == life_cate, col(\"percentage\")).otherwise(None).alias(life_cate) \n",
    "    for life_cate in life_cates]\n",
    "\n",
    "maxs1 = [max(col(life_cate)).alias(life_cate) for life_cate in life_cates]\n",
    "\n",
    "dynamic_profile = (dynamic_tbl.select(col(\"user1\"), *cols1).groupBy(\"user1\").agg(*maxs1).na.fill(0))\n",
    "\n",
    "dynamic_profile.registerTempTable(\"dynamic_profile\")\n",
    "\n",
    "# show partial dataset (1-8 columns and 1-20 rows)\n",
    "dynamic_profile.select(dynamic_profile.columns[:8]).show()"
   ]
  },
  {
   "cell_type": "code",
   "execution_count": 18,
   "metadata": {
    "ExecuteTime": {
     "end_time": "2020-05-09T05:56:03.783133Z",
     "start_time": "2020-05-09T05:31:26.175472Z"
    }
   },
   "outputs": [
    {
     "data": {
      "text/html": [
       "<div>\n",
       "<style scoped>\n",
       "    .dataframe tbody tr th:only-of-type {\n",
       "        vertical-align: middle;\n",
       "    }\n",
       "\n",
       "    .dataframe tbody tr th {\n",
       "        vertical-align: top;\n",
       "    }\n",
       "\n",
       "    .dataframe thead th {\n",
       "        text-align: right;\n",
       "    }\n",
       "</style>\n",
       "<table border=\"1\" class=\"dataframe\">\n",
       "  <thead>\n",
       "    <tr style=\"text-align: right;\">\n",
       "      <th></th>\n",
       "      <th>summary</th>\n",
       "      <th>count</th>\n",
       "      <th>mean</th>\n",
       "      <th>stddev</th>\n",
       "      <th>min</th>\n",
       "      <th>25%</th>\n",
       "      <th>50%</th>\n",
       "      <th>75%</th>\n",
       "      <th>max</th>\n",
       "    </tr>\n",
       "  </thead>\n",
       "  <tbody>\n",
       "    <tr>\n",
       "      <td>0</td>\n",
       "      <td>time0_activity</td>\n",
       "      <td>2158528</td>\n",
       "      <td>0.12843825051145957</td>\n",
       "      <td>0.33406685333468933</td>\n",
       "      <td>0.0</td>\n",
       "      <td>0.0</td>\n",
       "      <td>0.0</td>\n",
       "      <td>0.0</td>\n",
       "      <td>1.0</td>\n",
       "    </tr>\n",
       "    <tr>\n",
       "      <td>1</td>\n",
       "      <td>time0_cash</td>\n",
       "      <td>2158528</td>\n",
       "      <td>0.2513680156106382</td>\n",
       "      <td>0.43303739637783334</td>\n",
       "      <td>0.0</td>\n",
       "      <td>0.0</td>\n",
       "      <td>0.0</td>\n",
       "      <td>0.6</td>\n",
       "      <td>1.0</td>\n",
       "    </tr>\n",
       "    <tr>\n",
       "      <td>2</td>\n",
       "      <td>time0_event</td>\n",
       "      <td>2158528</td>\n",
       "      <td>0.013661930723159488</td>\n",
       "      <td>0.11592848163120395</td>\n",
       "      <td>0.0</td>\n",
       "      <td>0.0</td>\n",
       "      <td>0.0</td>\n",
       "      <td>0.0</td>\n",
       "      <td>1.0</td>\n",
       "    </tr>\n",
       "    <tr>\n",
       "      <td>3</td>\n",
       "      <td>time0_food</td>\n",
       "      <td>2158528</td>\n",
       "      <td>0.23720214887182375</td>\n",
       "      <td>0.4246861125589359</td>\n",
       "      <td>0.0</td>\n",
       "      <td>0.0</td>\n",
       "      <td>0.0</td>\n",
       "      <td>0.0</td>\n",
       "      <td>1.0</td>\n",
       "    </tr>\n",
       "    <tr>\n",
       "      <td>4</td>\n",
       "      <td>time0_illegal_sarcasm</td>\n",
       "      <td>2158528</td>\n",
       "      <td>0.004347671190737391</td>\n",
       "      <td>0.06568058689262556</td>\n",
       "      <td>0.0</td>\n",
       "      <td>0.0</td>\n",
       "      <td>0.0</td>\n",
       "      <td>0.0</td>\n",
       "      <td>1.0</td>\n",
       "    </tr>\n",
       "  </tbody>\n",
       "</table>\n",
       "</div>"
      ],
      "text/plain": [
       "0                summary    count                  mean               stddev  \\\n",
       "0         time0_activity  2158528   0.12843825051145957  0.33406685333468933   \n",
       "1             time0_cash  2158528    0.2513680156106382  0.43303739637783334   \n",
       "2            time0_event  2158528  0.013661930723159488  0.11592848163120395   \n",
       "3             time0_food  2158528   0.23720214887182375   0.4246861125589359   \n",
       "4  time0_illegal_sarcasm  2158528  0.004347671190737391  0.06568058689262556   \n",
       "\n",
       "0  min  25%  50%  75%  max  \n",
       "0  0.0  0.0  0.0  0.0  1.0  \n",
       "1  0.0  0.0  0.0  0.6  1.0  \n",
       "2  0.0  0.0  0.0  0.0  1.0  \n",
       "3  0.0  0.0  0.0  0.0  1.0  \n",
       "4  0.0  0.0  0.0  0.0  1.0  "
      ]
     },
     "execution_count": 18,
     "metadata": {},
     "output_type": "execute_result"
    }
   ],
   "source": [
    "# calculate mean, standard deviation for each time period and each class\n",
    "summary_stats = dynamic_profile.summary()\n",
    "df_dynamic_summary = summary_stats.select(\"*\").toPandas()\n",
    "df_dynamic_summary = df_dynamic_summary.T.reset_index() # transpose and reset index\n",
    "headers = df_dynamic_summary.iloc[0] # store new header values\n",
    "df_dynamic_summary = df_dynamic_summary[2:] # remove user1 information and previous header\n",
    "df_dynamic_summary.columns = headers\n",
    "df_dynamic_summary = df_dynamic_summary.reset_index(drop=True)\n",
    "df_dynamic_summary.head()"
   ]
  },
  {
   "cell_type": "code",
   "execution_count": 23,
   "metadata": {
    "ExecuteTime": {
     "end_time": "2020-05-09T06:52:34.405324Z",
     "start_time": "2020-05-09T06:52:34.357626Z"
    }
   },
   "outputs": [
    {
     "data": {
      "text/html": [
       "<div>\n",
       "<style scoped>\n",
       "    .dataframe tbody tr th:only-of-type {\n",
       "        vertical-align: middle;\n",
       "    }\n",
       "\n",
       "    .dataframe tbody tr th {\n",
       "        vertical-align: top;\n",
       "    }\n",
       "\n",
       "    .dataframe thead th {\n",
       "        text-align: right;\n",
       "    }\n",
       "</style>\n",
       "<table border=\"1\" class=\"dataframe\">\n",
       "  <thead>\n",
       "    <tr style=\"text-align: right;\">\n",
       "      <th></th>\n",
       "      <th>summary</th>\n",
       "      <th>count</th>\n",
       "      <th>mean</th>\n",
       "      <th>stddev</th>\n",
       "      <th>min</th>\n",
       "      <th>25%</th>\n",
       "      <th>50%</th>\n",
       "      <th>75%</th>\n",
       "      <th>max</th>\n",
       "      <th>time</th>\n",
       "      <th>category</th>\n",
       "      <th>2std</th>\n",
       "    </tr>\n",
       "  </thead>\n",
       "  <tbody>\n",
       "    <tr>\n",
       "      <td>0</td>\n",
       "      <td>time0_activity</td>\n",
       "      <td>2158528</td>\n",
       "      <td>0.128438</td>\n",
       "      <td>0.334067</td>\n",
       "      <td>0.0</td>\n",
       "      <td>0.0</td>\n",
       "      <td>0.0</td>\n",
       "      <td>0.0</td>\n",
       "      <td>1.0</td>\n",
       "      <td>0</td>\n",
       "      <td>activity</td>\n",
       "      <td>0.668134</td>\n",
       "    </tr>\n",
       "    <tr>\n",
       "      <td>1</td>\n",
       "      <td>time0_cash</td>\n",
       "      <td>2158528</td>\n",
       "      <td>0.251368</td>\n",
       "      <td>0.433037</td>\n",
       "      <td>0.0</td>\n",
       "      <td>0.0</td>\n",
       "      <td>0.0</td>\n",
       "      <td>0.6</td>\n",
       "      <td>1.0</td>\n",
       "      <td>0</td>\n",
       "      <td>cash</td>\n",
       "      <td>0.866075</td>\n",
       "    </tr>\n",
       "    <tr>\n",
       "      <td>2</td>\n",
       "      <td>time0_event</td>\n",
       "      <td>2158528</td>\n",
       "      <td>0.013662</td>\n",
       "      <td>0.115928</td>\n",
       "      <td>0.0</td>\n",
       "      <td>0.0</td>\n",
       "      <td>0.0</td>\n",
       "      <td>0.0</td>\n",
       "      <td>1.0</td>\n",
       "      <td>0</td>\n",
       "      <td>event</td>\n",
       "      <td>0.231857</td>\n",
       "    </tr>\n",
       "    <tr>\n",
       "      <td>3</td>\n",
       "      <td>time0_food</td>\n",
       "      <td>2158528</td>\n",
       "      <td>0.237202</td>\n",
       "      <td>0.424686</td>\n",
       "      <td>0.0</td>\n",
       "      <td>0.0</td>\n",
       "      <td>0.0</td>\n",
       "      <td>0.0</td>\n",
       "      <td>1.0</td>\n",
       "      <td>0</td>\n",
       "      <td>food</td>\n",
       "      <td>0.849372</td>\n",
       "    </tr>\n",
       "    <tr>\n",
       "      <td>4</td>\n",
       "      <td>time0_illegal_sarcasm</td>\n",
       "      <td>2158528</td>\n",
       "      <td>0.004348</td>\n",
       "      <td>0.065681</td>\n",
       "      <td>0.0</td>\n",
       "      <td>0.0</td>\n",
       "      <td>0.0</td>\n",
       "      <td>0.0</td>\n",
       "      <td>1.0</td>\n",
       "      <td>0</td>\n",
       "      <td>illegal_sarcasm</td>\n",
       "      <td>0.131361</td>\n",
       "    </tr>\n",
       "  </tbody>\n",
       "</table>\n",
       "</div>"
      ],
      "text/plain": [
       "0                summary    count      mean    stddev  min  25%  50%  75%  \\\n",
       "0         time0_activity  2158528  0.128438  0.334067  0.0  0.0  0.0  0.0   \n",
       "1             time0_cash  2158528  0.251368  0.433037  0.0  0.0  0.0  0.6   \n",
       "2            time0_event  2158528  0.013662  0.115928  0.0  0.0  0.0  0.0   \n",
       "3             time0_food  2158528  0.237202  0.424686  0.0  0.0  0.0  0.0   \n",
       "4  time0_illegal_sarcasm  2158528  0.004348  0.065681  0.0  0.0  0.0  0.0   \n",
       "\n",
       "0  max  time         category      2std  \n",
       "0  1.0     0         activity  0.668134  \n",
       "1  1.0     0             cash  0.866075  \n",
       "2  1.0     0            event  0.231857  \n",
       "3  1.0     0             food  0.849372  \n",
       "4  1.0     0  illegal_sarcasm  0.131361  "
      ]
     },
     "execution_count": 23,
     "metadata": {},
     "output_type": "execute_result"
    }
   ],
   "source": [
    "# add time and category columns for plotting \n",
    "time = []\n",
    "category = []\n",
    "\n",
    "for i in range(len(df_dynamic_summary)):\n",
    "    pos = df_dynamic_summary.summary[i].index(\"_\")\n",
    "    c = df_dynamic_summary.summary[i][pos+1:]  # get category\n",
    "    t = df_dynamic_summary.summary[i][4:pos]   # get lifetime\n",
    "    time.append(t)\n",
    "    category.append(c)\n",
    "\n",
    "df_dynamic_summary[\"time\"] = time\n",
    "df_dynamic_summary[\"category\"] = category\n",
    "\n",
    "# convert data type from string to numeric \n",
    "df_dynamic_summary[\"time\"] = df_dynamic_summary[\"time\"].apply(pd.to_numeric, errors='coerce')\n",
    "df_dynamic_summary[\"mean\"] = df_dynamic_summary[\"mean\"].apply(pd.to_numeric, errors='coerce')\n",
    "df_dynamic_summary[\"stddev\"] = df_dynamic_summary[\"stddev\"].apply(pd.to_numeric, errors='coerce')\n",
    "df_dynamic_summary[\"2std\"] = 2*df_dynamic_summary[\"stddev\"]\n",
    "\n",
    "df_dynamic_summary.head()"
   ]
  },
  {
   "cell_type": "code",
   "execution_count": 24,
   "metadata": {
    "ExecuteTime": {
     "end_time": "2020-05-09T06:52:42.722796Z",
     "start_time": "2020-05-09T06:52:42.228580Z"
    }
   },
   "outputs": [
    {
     "data": {
      "image/png": "[encoded data removed]",
      "text/plain": [
       "<Figure size 1440x720 with 1 Axes>"
      ]
     },
     "metadata": {
      "needs_background": "light"
     },
     "output_type": "display_data"
    }
   ],
   "source": [
    "# after lifetime 10, the means for all categories' spendings are stable and close to zero. \n",
    "fig, ax = plt.subplots(figsize=(20, 10))\n",
    "\n",
    "for key, group in df_dynamic_summary.groupby('category'):\n",
    "    group.plot('time', 'mean', yerr='2std', label=key, ax=ax) \n",
    "\n",
    "plt.show()"
   ]
  },
  {
   "cell_type": "markdown",
   "metadata": {},
   "source": [
    "# Part 2: Social network analytics "
   ]
  },
  {
   "cell_type": "markdown",
   "metadata": {},
   "source": [
    "## Find a user’s friends and friends of friends "
   ]
  },
  {
   "cell_type": "code",
   "execution_count": 4,
   "metadata": {
    "ExecuteTime": {
     "end_time": "2020-05-04T22:53:31.232596Z",
     "start_time": "2020-05-04T22:53:31.227973Z"
    }
   },
   "outputs": [],
   "source": [
    "# PageRank, Connected Components, Triangle Counting\n",
    "import networkx as nx"
   ]
  },
  {
   "cell_type": "code",
   "execution_count": 5,
   "metadata": {
    "ExecuteTime": {
     "end_time": "2020-05-04T22:55:29.494855Z",
     "start_time": "2020-05-04T22:53:33.018943Z"
    }
   },
   "outputs": [
    {
     "data": {
      "text/html": [
       "<div>\n",
       "<style scoped>\n",
       "    .dataframe tbody tr th:only-of-type {\n",
       "        vertical-align: middle;\n",
       "    }\n",
       "\n",
       "    .dataframe tbody tr th {\n",
       "        vertical-align: top;\n",
       "    }\n",
       "\n",
       "    .dataframe thead th {\n",
       "        text-align: right;\n",
       "    }\n",
       "</style>\n",
       "<table border=\"1\" class=\"dataframe\">\n",
       "  <thead>\n",
       "    <tr style=\"text-align: right;\">\n",
       "      <th></th>\n",
       "      <th>user1</th>\n",
       "      <th>user2</th>\n",
       "    </tr>\n",
       "  </thead>\n",
       "  <tbody>\n",
       "    <tr>\n",
       "      <td>0</td>\n",
       "      <td>1218774</td>\n",
       "      <td>1528945</td>\n",
       "    </tr>\n",
       "    <tr>\n",
       "      <td>1</td>\n",
       "      <td>5109483</td>\n",
       "      <td>4782303</td>\n",
       "    </tr>\n",
       "    <tr>\n",
       "      <td>2</td>\n",
       "      <td>4322148</td>\n",
       "      <td>3392963</td>\n",
       "    </tr>\n",
       "  </tbody>\n",
       "</table>\n",
       "</div>"
      ],
      "text/plain": [
       "     user1    user2\n",
       "0  1218774  1528945\n",
       "1  5109483  4782303\n",
       "2  4322148  3392963"
      ]
     },
     "execution_count": 5,
     "metadata": {},
     "output_type": "execute_result"
    }
   ],
   "source": [
    "edges = spark.sql(\"select user1, user2 from Venmo\")\n",
    "df_edges = edges.select(\"*\").toPandas()\n",
    "df_edges.head(3)"
   ]
  },
  {
   "cell_type": "code",
   "execution_count": 16,
   "metadata": {
    "ExecuteTime": {
     "end_time": "2020-05-04T23:24:46.927804Z",
     "start_time": "2020-05-04T23:19:26.002401Z"
    }
   },
   "outputs": [
    {
     "name": "stdout",
     "output_type": "stream",
     "text": [
      "3018657\n",
      "5534634\n"
     ]
    }
   ],
   "source": [
    "# initiate empty directed graph\n",
    "DG = nx.DiGraph()\n",
    "\n",
    "pairs = list(zip(df_edges.user1, df_edges.user2))\n",
    "DG.add_edges_from(pairs)\n",
    "#list(G.nodes)\n",
    "#list(G.edges)\n",
    "# nx.draw_networkx(G)\n",
    "\n",
    "print(DG.number_of_nodes())\n",
    "print(DG.number_of_edges())\n",
    "print(nx.info(DG))"
   ]
  },
  {
   "cell_type": "code",
   "execution_count": 19,
   "metadata": {
    "ExecuteTime": {
     "end_time": "2020-05-05T02:15:52.597948Z",
     "start_time": "2020-05-05T02:15:52.579480Z"
    }
   },
   "outputs": [
    {
     "data": {
      "text/plain": [
       "5"
      ]
     },
     "execution_count": 19,
     "metadata": {},
     "output_type": "execute_result"
    }
   ],
   "source": [
    "nx.degree(DG, 1218774)"
   ]
  },
  {
   "cell_type": "markdown",
   "metadata": {},
   "source": [
    "## Use the dynamic analysis from before, and calculate the social network metrics across a user’s lifetime in Venmo "
   ]
  },
  {
   "cell_type": "markdown",
   "metadata": {},
   "source": [
    "**i) Number of friends and number of friends of friends**"
   ]
  },
  {
   "cell_type": "code",
   "execution_count": null,
   "metadata": {},
   "outputs": [],
   "source": [
    "nx.degree(G, user1)"
   ]
  },
  {
   "cell_type": "markdown",
   "metadata": {},
   "source": [
    "**ii) Clustering coefficient of a user's network**"
   ]
  },
  {
   "cell_type": "code",
   "execution_count": null,
   "metadata": {},
   "outputs": [],
   "source": [
    "nx.clustering(Graph, Node)"
   ]
  },
  {
   "cell_type": "markdown",
   "metadata": {},
   "source": [
    "**iii) Calculate the page rank of each user**"
   ]
  },
  {
   "cell_type": "code",
   "execution_count": null,
   "metadata": {},
   "outputs": [],
   "source": []
  },
  {
   "cell_type": "markdown",
   "metadata": {},
   "source": [
    "# Part 3: Predictive analytics with MLlib "
   ]
  },
  {
   "cell_type": "markdown",
   "metadata": {},
   "source": [
    "## Create dependent variable Y - the total number of transactions during her/his twelve months in Venmo"
   ]
  },
  {
   "cell_type": "code",
   "execution_count": 16,
   "metadata": {
    "ExecuteTime": {
     "end_time": "2020-05-11T02:37:05.424750Z",
     "start_time": "2020-05-11T02:26:41.804917Z"
    }
   },
   "outputs": [
    {
     "name": "stdout",
     "output_type": "stream",
     "text": [
      "+-----+---+\n",
      "|user1|  y|\n",
      "+-----+---+\n",
      "|    2|  1|\n",
      "|    3|  6|\n",
      "|    4|  2|\n",
      "|   10|  7|\n",
      "|   11|  6|\n",
      "|   12|  4|\n",
      "|   13|  4|\n",
      "|   16|  3|\n",
      "|   19|  1|\n",
      "|   28|  1|\n",
      "|   34|  3|\n",
      "|   42|  3|\n",
      "|   43| 12|\n",
      "|   47|  1|\n",
      "|   52|  1|\n",
      "|   56|  1|\n",
      "|  112|  2|\n",
      "|  126|  2|\n",
      "|  129|  1|\n",
      "|  134|  2|\n",
      "+-----+---+\n",
      "only showing top 20 rows\n",
      "\n"
     ]
    }
   ],
   "source": [
    "# calculate total number of transactions for each user on Venmo\n",
    "df_y = spark.sql(\"select user1, count(*) as y from lifetime_tbl group by user1\")\n",
    "df_y.registerTempTable(\"df_y\")\n",
    "df_y.show()"
   ]
  },
  {
   "cell_type": "markdown",
   "metadata": {},
   "source": [
    "## Create the recency and frequency variables "
   ]
  },
  {
   "cell_type": "code",
   "execution_count": 18,
   "metadata": {
    "ExecuteTime": {
     "end_time": "2020-05-11T02:38:43.740544Z",
     "start_time": "2020-05-11T02:38:43.553863Z"
    }
   },
   "outputs": [],
   "source": [
    "# create dataframe with two columns: user1 and time_list (0-12)\n",
    "# each user has lifetime 0 to 12\n",
    "lst = [0,1,2,3,4,5,6,7,8,9,10,11,12]\n",
    "df_timelst = df_y.withColumn(\"time_lst\", F.array([F.lit(x) for x in lst]))\n",
    "df_timelst = df_timelst.withColumn(\"time_lst\", F.explode(col(\"time_lst\")))\n",
    "\n",
    "# summarize number of transactions and the last transaction day in each lifetime period\n",
    "df_summary = spark.sql(\"select user1, lifetime_indicator, count(*) as freq_times, max(days) as max_days \\\n",
    "           from lifetime_tbl \\\n",
    "           group by user1, lifetime_indicator\")\n",
    "\n",
    "df_timelst.registerTempTable(\"df_timelst\")\n",
    "df_summary.registerTempTable(\"df_summary\")"
   ]
  },
  {
   "cell_type": "code",
   "execution_count": 19,
   "metadata": {
    "ExecuteTime": {
     "end_time": "2020-05-11T02:52:15.044121Z",
     "start_time": "2020-05-11T02:38:47.752461Z"
    }
   },
   "outputs": [
    {
     "name": "stdout",
     "output_type": "stream",
     "text": [
      "+-----+------------------+--------+----------+\n",
      "|user1|lifetime_indicator|max_days|freq_times|\n",
      "+-----+------------------+--------+----------+\n",
      "|    2|                 0|       0|         1|\n",
      "|    2|                 1|    null|      null|\n",
      "|    2|                 2|    null|      null|\n",
      "|    2|                 3|    null|      null|\n",
      "|    2|                 4|    null|      null|\n",
      "|    2|                 5|    null|      null|\n",
      "|    2|                 6|    null|      null|\n",
      "|    2|                 7|    null|      null|\n",
      "|    2|                 8|    null|      null|\n",
      "|    2|                 9|    null|      null|\n",
      "|    2|                10|    null|      null|\n",
      "|    2|                11|    null|      null|\n",
      "|    2|                12|    null|      null|\n",
      "|    3|                 0|       0|         1|\n",
      "|    3|                 1|      16|         5|\n",
      "|    3|                 2|    null|      null|\n",
      "|    3|                 3|    null|      null|\n",
      "|    3|                 4|    null|      null|\n",
      "|    3|                 5|    null|      null|\n",
      "|    3|                 6|    null|      null|\n",
      "+-----+------------------+--------+----------+\n",
      "only showing top 20 rows\n",
      "\n"
     ]
    }
   ],
   "source": [
    "# union dataframes and remove duplicated lifetime\n",
    "df_distinct_summary = spark.sql(\"select user1, lifetime_indicator, max(max_days) as max_days, \\\n",
    "                        max(freq_times) as freq_times \\\n",
    "                  from \\\n",
    "                      (select user1, lifetime_indicator, max_days, freq_times from df_summary \\\n",
    "                      union  \\\n",
    "                      select user1, time_lst, null as max_days, null as freq_times from df_timelst) T \\\n",
    "                  group by user1, lifetime_indicator \\\n",
    "                  order by user1, lifetime_indicator \")\n",
    "\n",
    "df_distinct_summary.registerTempTable(\"df_distinct_summary\")\n",
    "df_distinct_summary.show()"
   ]
  },
  {
   "cell_type": "code",
   "execution_count": 21,
   "metadata": {
    "ExecuteTime": {
     "end_time": "2020-05-11T03:13:20.847660Z",
     "start_time": "2020-05-11T02:53:42.473708Z"
    },
    "scrolled": true
   },
   "outputs": [
    {
     "name": "stdout",
     "output_type": "stream",
     "text": [
      "+-----+------------------+--------+-------------------+-------+\n",
      "|user1|lifetime_indicator|max_days|          frequency|recency|\n",
      "+-----+------------------+--------+-------------------+-------+\n",
      "|    2|                 0|       0|0.03333333333333333|      0|\n",
      "|    2|                 1|    null|                0.0|     30|\n",
      "|    2|                 2|    null|                0.0|     60|\n",
      "|    2|                 3|    null|                0.0|     90|\n",
      "|    2|                 4|    null|                0.0|    120|\n",
      "|    2|                 5|    null|                0.0|    150|\n",
      "|    2|                 6|    null|                0.0|    180|\n",
      "|    2|                 7|    null|                0.0|    210|\n",
      "|    2|                 8|    null|                0.0|    240|\n",
      "|    2|                 9|    null|                0.0|    270|\n",
      "|    2|                10|    null|                0.0|    300|\n",
      "|    2|                11|    null|                0.0|    330|\n",
      "|    2|                12|    null|                0.0|    360|\n",
      "|    3|                 0|       0|0.03333333333333333|      0|\n",
      "|    3|                 1|      16|0.16666666666666666|     14|\n",
      "|    3|                 2|    null|                0.0|     44|\n",
      "|    3|                 3|    null|                0.0|     74|\n",
      "|    3|                 4|    null|                0.0|    104|\n",
      "|    3|                 5|    null|                0.0|    134|\n",
      "|    3|                 6|    null|                0.0|    164|\n",
      "|    3|                 7|    null|                0.0|    194|\n",
      "|    3|                 8|    null|                0.0|    224|\n",
      "|    3|                 9|    null|                0.0|    254|\n",
      "|    3|                10|    null|                0.0|    284|\n",
      "|    3|                11|    null|                0.0|    314|\n",
      "|    3|                12|    null|                0.0|    344|\n",
      "|    4|                 0|       0|0.03333333333333333|      0|\n",
      "|    4|                 1|      12|0.03333333333333333|     18|\n",
      "|    4|                 2|    null|                0.0|     48|\n",
      "|    4|                 3|    null|                0.0|     78|\n",
      "|    4|                 4|    null|                0.0|    108|\n",
      "|    4|                 5|    null|                0.0|    138|\n",
      "|    4|                 6|    null|                0.0|    168|\n",
      "|    4|                 7|    null|                0.0|    198|\n",
      "|    4|                 8|    null|                0.0|    228|\n",
      "|    4|                 9|    null|                0.0|    258|\n",
      "|    4|                10|    null|                0.0|    288|\n",
      "|    4|                11|    null|                0.0|    318|\n",
      "|    4|                12|    null|                0.0|    348|\n",
      "|   10|                 0|       0|0.03333333333333333|      0|\n",
      "|   10|                 1|      28|0.03333333333333333|      2|\n",
      "|   10|                 2|      50|0.06666666666666667|     10|\n",
      "|   10|                 3|    null|                0.0|     40|\n",
      "|   10|                 4|     105|0.06666666666666667|     15|\n",
      "|   10|                 5|     131|0.03333333333333333|     19|\n",
      "|   10|                 6|    null|                0.0|     49|\n",
      "|   10|                 7|    null|                0.0|     79|\n",
      "|   10|                 8|    null|                0.0|    109|\n",
      "|   10|                 9|    null|                0.0|    139|\n",
      "|   10|                10|    null|                0.0|    169|\n",
      "|   10|                11|    null|                0.0|    199|\n",
      "|   10|                12|    null|                0.0|    229|\n",
      "|   11|                 0|       0|0.03333333333333333|      0|\n",
      "|   11|                 1|    null|                0.0|     30|\n",
      "|   11|                 2|    null|                0.0|     60|\n",
      "|   11|                 3|      77|0.03333333333333333|     13|\n",
      "|   11|                 4|      92|0.03333333333333333|     28|\n",
      "|   11|                 5|     141|0.06666666666666667|      9|\n",
      "|   11|                 6|     177|0.03333333333333333|      3|\n",
      "|   11|                 7|    null|                0.0|     33|\n",
      "+-----+------------------+--------+-------------------+-------+\n",
      "only showing top 60 rows\n",
      "\n"
     ]
    }
   ],
   "source": [
    "# calculate frequency and recency\n",
    "# frequency: how often a user uses Venmo in a month. It is standardized and equals to (number of transactions/30)\n",
    "# recency: the last time a user was active\n",
    "    #if a user has used Venmo twice during her first month in Venmo with the second time being on day x, \n",
    "    #then her recency in month 1 is “30-x”\n",
    "\n",
    "df_x = spark.sql(\"select user1, lifetime_indicator, max_days, \\\n",
    "                ifnull(freq_times, 0)/30 as frequency, \\\n",
    "                (lifetime_indicator*30-max(max_days) \\\n",
    "                    over(partition by user1 \\\n",
    "                         order by lifetime_indicator asc \\\n",
    "                         range between unbounded preceding and current row)) as recency \\\n",
    "              from df_distinct_summary \\\n",
    "              order by user1, lifetime_indicator\")\n",
    "\n",
    "df_x.registerTempTable(\"df_x\")\n",
    "df_x.show(60)"
   ]
  },
  {
   "cell_type": "markdown",
   "metadata": {},
   "source": [
    "## For each user’s lifetime point, regress recency and frequency on ​Y. Plot the MSE for each lifetime point "
   ]
  },
  {
   "cell_type": "code",
   "execution_count": 22,
   "metadata": {
    "ExecuteTime": {
     "end_time": "2020-05-11T06:24:46.513533Z",
     "start_time": "2020-05-11T06:07:10.616365Z"
    },
    "code_folding": []
   },
   "outputs": [
    {
     "name": "stdout",
     "output_type": "stream",
     "text": [
      "+-----+------------------+-------------------+-------+---+\n",
      "|user1|lifetime_indicator|          frequency|recency|  y|\n",
      "+-----+------------------+-------------------+-------+---+\n",
      "|    2|                 0|0.03333333333333333|      0|  1|\n",
      "|    2|                 1|                0.0|     30|  1|\n",
      "|    2|                 2|                0.0|     60|  1|\n",
      "|    2|                 3|                0.0|     90|  1|\n",
      "|    2|                 4|                0.0|    120|  1|\n",
      "|    2|                 5|                0.0|    150|  1|\n",
      "|    2|                 6|                0.0|    180|  1|\n",
      "|    2|                 7|                0.0|    210|  1|\n",
      "|    2|                 8|                0.0|    240|  1|\n",
      "|    2|                 9|                0.0|    270|  1|\n",
      "|    2|                10|                0.0|    300|  1|\n",
      "|    2|                11|                0.0|    330|  1|\n",
      "|    2|                12|                0.0|    360|  1|\n",
      "|    3|                 0|0.03333333333333333|      0|  6|\n",
      "|    3|                 1|0.16666666666666666|     14|  6|\n",
      "|    3|                 2|                0.0|     44|  6|\n",
      "|    3|                 3|                0.0|     74|  6|\n",
      "|    3|                 4|                0.0|    104|  6|\n",
      "|    3|                 5|                0.0|    134|  6|\n",
      "|    3|                 6|                0.0|    164|  6|\n",
      "+-----+------------------+-------------------+-------+---+\n",
      "only showing top 20 rows\n",
      "\n"
     ]
    }
   ],
   "source": [
    "# join tables to combine user lifetime, frequency, recency and number of total transactions (y)\n",
    "df_input = spark.sql(\"select user1, lifetime_indicator, frequency, recency, y \\\n",
    "                  from df_x join df_y using (user1) \\\n",
    "                  order by user1, lifetime_indicator\")\n",
    "df_input.show()"
   ]
  },
  {
   "cell_type": "code",
   "execution_count": null,
   "metadata": {},
   "outputs": [],
   "source": []
  },
  {
   "cell_type": "markdown",
   "metadata": {},
   "source": [
    "## For each user’s lifetime point, regress recency, frequency AND her spending behavior profile on Y. Plot the MSE for each lifetime point like above"
   ]
  },
  {
   "cell_type": "code",
   "execution_count": null,
   "metadata": {},
   "outputs": [],
   "source": []
  },
  {
   "cell_type": "code",
   "execution_count": null,
   "metadata": {},
   "outputs": [],
   "source": []
  },
  {
   "cell_type": "markdown",
   "metadata": {},
   "source": [
    "## For each user’s lifetime point, regress her social network metrics on Y. Plot the MSE for each lifetime point like above"
   ]
  },
  {
   "cell_type": "code",
   "execution_count": null,
   "metadata": {},
   "outputs": [],
   "source": []
  },
  {
   "cell_type": "code",
   "execution_count": null,
   "metadata": {},
   "outputs": [],
   "source": []
  },
  {
   "cell_type": "markdown",
   "metadata": {},
   "source": [
    "## For each user’s lifetime point, regress her social network metrics and the spending behavior of her social network on Y. Plot the MSE for each lifetime point like above"
   ]
  },
  {
   "cell_type": "code",
   "execution_count": null,
   "metadata": {},
   "outputs": [],
   "source": []
  },
  {
   "cell_type": "code",
   "execution_count": null,
   "metadata": {},
   "outputs": [],
   "source": []
  }
 ],
 "metadata": {
  "kernelspec": {
   "display_name": "Python 3",
   "language": "python",
   "name": "python3"
  },
  "language_info": {
   "codemirror_mode": {
    "name": "ipython",
    "version": 3
   },
   "file_extension": ".py",
   "mimetype": "text/x-python",
   "name": "python",
   "nbconvert_exporter": "python",
   "pygments_lexer": "ipython3",
   "version": "3.7.4"
  },
  "toc": {
   "base_numbering": 1,
   "nav_menu": {},
   "number_sections": true,
   "sideBar": true,
   "skip_h1_title": false,
   "title_cell": "Table of Contents",
   "title_sidebar": "Contents",
   "toc_cell": false,
   "toc_position": {
    "height": "calc(100% - 180px)",
    "left": "10px",
    "top": "150px",
    "width": "165px"
   },
   "toc_section_display": true,
   "toc_window_display": true
  },
  "varInspector": {
   "cols": {
    "lenName": 16,
    "lenType": 16,
    "lenVar": 40
   },
   "kernels_config": {
    "python": {
     "delete_cmd_postfix": "",
     "delete_cmd_prefix": "del ",
     "library": "var_list.py",
     "varRefreshCmd": "print(var_dic_list())"
    },
    "r": {
     "delete_cmd_postfix": ") ",
     "delete_cmd_prefix": "rm(",
     "library": "var_list.r",
     "varRefreshCmd": "cat(var_dic_list()) "
    }
   },
   "types_to_exclude": [
    "module",
    "function",
    "builtin_function_or_method",
    "instance",
    "_Feature"
   ],
   "window_display": false
  }
 },
 "nbformat": 4,
 "nbformat_minor": 2
}
